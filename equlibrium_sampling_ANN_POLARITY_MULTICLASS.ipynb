{
 "cells": [
  {
   "cell_type": "code",
   "execution_count": 1,
   "metadata": {},
   "outputs": [
    {
     "name": "stderr",
     "output_type": "stream",
     "text": [
      "Using TensorFlow backend.\n"
     ]
    }
   ],
   "source": [
    "from keras.models import Sequential\n",
    "from keras.layers import Dense\n",
    "import numpy as np\n",
    "import pandas as pd\n",
    "# fix random seed for reproducibility\n",
    "np.random.seed(7)"
   ]
  },
  {
   "cell_type": "code",
   "execution_count": 2,
   "metadata": {},
   "outputs": [],
   "source": [
    "import csv\n",
    "import numpy as np\n",
    "import pandas as pd\n",
    "import matplotlib.pyplot as plt\n",
    "from collections import Counter\n",
    "from sklearn import feature_extraction, metrics, svm,model_selection\n",
    "from IPython.display import Image\n",
    "from nltk.corpus import stopwords\n",
    "from nltk.stem.snowball import SnowballStemmer\n",
    "from nltk.stem.porter import PorterStemmer\n",
    "from nltk.tokenize import word_tokenize\n",
    "from nltk.stem import WordNetLemmatizer\n",
    "import math\n",
    "import warnings\n",
    "warnings.filterwarnings(\"ignore\")\n",
    "%matplotlib inline  \n",
    "import nltk"
   ]
  },
  {
   "cell_type": "code",
   "execution_count": 25,
   "metadata": {},
   "outputs": [
    {
     "data": {
      "text/html": [
       "<div>\n",
       "<style scoped>\n",
       "    .dataframe tbody tr th:only-of-type {\n",
       "        vertical-align: middle;\n",
       "    }\n",
       "\n",
       "    .dataframe tbody tr th {\n",
       "        vertical-align: top;\n",
       "    }\n",
       "\n",
       "    .dataframe thead th {\n",
       "        text-align: right;\n",
       "    }\n",
       "</style>\n",
       "<table border=\"1\" class=\"dataframe\">\n",
       "  <thead>\n",
       "    <tr style=\"text-align: right;\">\n",
       "      <th></th>\n",
       "      <th>ProductName</th>\n",
       "      <th>Reviews</th>\n",
       "      <th>Rating</th>\n",
       "    </tr>\n",
       "  </thead>\n",
       "  <tbody>\n",
       "    <tr>\n",
       "      <th>0</th>\n",
       "      <td>Fire Tablet, 7 Display, Wi-Fi, 8 GB - Includes...</td>\n",
       "      <td>The sales people are really nice and knowledge...</td>\n",
       "      <td>5.0</td>\n",
       "    </tr>\n",
       "    <tr>\n",
       "      <th>1</th>\n",
       "      <td>Fire Tablet, 7 Display, Wi-Fi, 8 GB - Includes...</td>\n",
       "      <td>Great product and service and the sales man r ...</td>\n",
       "      <td>5.0</td>\n",
       "    </tr>\n",
       "    <tr>\n",
       "      <th>2</th>\n",
       "      <td>Fire Tablet, 7 Display, Wi-Fi, 8 GB - Includes...</td>\n",
       "      <td>Great product and service will refer to a frie...</td>\n",
       "      <td>5.0</td>\n",
       "    </tr>\n",
       "  </tbody>\n",
       "</table>\n",
       "</div>"
      ],
      "text/plain": [
       "                                         ProductName  \\\n",
       "0  Fire Tablet, 7 Display, Wi-Fi, 8 GB - Includes...   \n",
       "1  Fire Tablet, 7 Display, Wi-Fi, 8 GB - Includes...   \n",
       "2  Fire Tablet, 7 Display, Wi-Fi, 8 GB - Includes...   \n",
       "\n",
       "                                             Reviews  Rating  \n",
       "0  The sales people are really nice and knowledge...     5.0  \n",
       "1  Great product and service and the sales man r ...     5.0  \n",
       "2  Great product and service will refer to a frie...     5.0  "
      ]
     },
     "execution_count": 25,
     "metadata": {},
     "output_type": "execute_result"
    }
   ],
   "source": [
    "review_data=pd.read_csv(\"/home/dexterslaj/FireTablet1.csv\")\n",
    "review_data.head(n=3)"
   ]
  },
  {
   "cell_type": "code",
   "execution_count": 26,
   "metadata": {},
   "outputs": [
    {
     "data": {
      "text/html": [
       "<div>\n",
       "<style scoped>\n",
       "    .dataframe tbody tr th:only-of-type {\n",
       "        vertical-align: middle;\n",
       "    }\n",
       "\n",
       "    .dataframe tbody tr th {\n",
       "        vertical-align: top;\n",
       "    }\n",
       "\n",
       "    .dataframe thead th {\n",
       "        text-align: right;\n",
       "    }\n",
       "</style>\n",
       "<table border=\"1\" class=\"dataframe\">\n",
       "  <thead>\n",
       "    <tr style=\"text-align: right;\">\n",
       "      <th></th>\n",
       "      <th>Reviews</th>\n",
       "      <th>Rating</th>\n",
       "    </tr>\n",
       "  </thead>\n",
       "  <tbody>\n",
       "    <tr>\n",
       "      <th>0</th>\n",
       "      <td>The sales people are really nice and knowledge...</td>\n",
       "      <td>5.0</td>\n",
       "    </tr>\n",
       "    <tr>\n",
       "      <th>1</th>\n",
       "      <td>Great product and service and the sales man r ...</td>\n",
       "      <td>5.0</td>\n",
       "    </tr>\n",
       "    <tr>\n",
       "      <th>2</th>\n",
       "      <td>Great product and service will refer to a frie...</td>\n",
       "      <td>5.0</td>\n",
       "    </tr>\n",
       "  </tbody>\n",
       "</table>\n",
       "</div>"
      ],
      "text/plain": [
       "                                             Reviews  Rating\n",
       "0  The sales people are really nice and knowledge...     5.0\n",
       "1  Great product and service and the sales man r ...     5.0\n",
       "2  Great product and service will refer to a frie...     5.0"
      ]
     },
     "execution_count": 26,
     "metadata": {},
     "output_type": "execute_result"
    }
   ],
   "source": [
    "review_data.drop('ProductName',1,inplace=True)\n",
    "review_data.head(n=3)"
   ]
  },
  {
   "cell_type": "code",
   "execution_count": 35,
   "metadata": {},
   "outputs": [],
   "source": [
    "review_data4=pd.DataFrame(columns=['Reviews','Rating'])"
   ]
  },
  {
   "cell_type": "code",
   "execution_count": 36,
   "metadata": {},
   "outputs": [],
   "source": [
    "review_data5=pd.DataFrame(columns=['Reviews','Rating'])"
   ]
  },
  {
   "cell_type": "code",
   "execution_count": 39,
   "metadata": {},
   "outputs": [],
   "source": [
    "i=0\n",
    "for index,row in review_data.iterrows():\n",
    "    if row['Rating']==4.0:\n",
    "        temp1=row['Reviews']\n",
    "        temp2=[temp1,4.0]\n",
    "        review_data4.loc[i]=temp2\n",
    "        i=i+1\n",
    "        "
   ]
  },
  {
   "cell_type": "code",
   "execution_count": 40,
   "metadata": {},
   "outputs": [
    {
     "name": "stdout",
     "output_type": "stream",
     "text": [
      "                                                Reviews  Rating\n",
      "0     I like this e reader, but wish the screen were...     4.0\n",
      "1     This is really good if you read a lot, doesn't...     4.0\n",
      "2     The Amazon Kindle is a good gift for the bookw...     4.0\n",
      "3     Nice product, great price and expandable stora...     4.0\n",
      "4     I bought the Amazon Kindle so I could enjoy re...     4.0\n",
      "5     My fiance really enjoyes it! I would definitel...     4.0\n",
      "6     The Amazon Kindle is a great device to enjoy r...     4.0\n",
      "7     I love my new Kindle. The size is perfect. It ...     4.0\n",
      "8     This is my first e-reader. I like it so far. E...     4.0\n",
      "9     Nice basic reader. Had the first model kindle ...     4.0\n",
      "10    Great way to read books available for download...     4.0\n",
      "11    This devices is great for storing all my amazo...     4.0\n",
      "12    This is a great product, my 8yr son is complet...     4.0\n",
      "13    I am very happy with my e-reader. It is so pra...     4.0\n",
      "14    This little device is great for it price. Lots...     4.0\n",
      "15    The Amazon Kindle is light weight and easy to ...     4.0\n",
      "16    Use the Kindle apps on Android phones and tabl...     4.0\n",
      "17    my wife had a kindle for 10 years and it final...     4.0\n",
      "18    I am loving my new Kindle! I have wanted one f...     4.0\n",
      "19    Bought this for my 90+ year-old, totally no-te...     4.0\n",
      "20    I like the contrast it is easy to read on outs...     4.0\n",
      "21    I purchased this Kindle for my wife because he...     4.0\n",
      "22    I like the changes that have been made since m...     4.0\n",
      "23    I always wanted one of those, but they were to...     4.0\n",
      "24    This is my second Kindle and I love it! It's s...     4.0\n",
      "25    This is my eighth Kindle. Some others were eit...     4.0\n",
      "26    Simple, great buy for your money if you are an...     4.0\n",
      "27    Item work well and was easy to read from in da...     4.0\n",
      "28    BestBuy was offering some discounts during Tha...     4.0\n",
      "29    Good e-reader, with an improved design, light-...     4.0\n",
      "...                                                 ...     ...\n",
      "3426  Great tablet for the price. Much better than t...     4.0\n",
      "3427  Great Speed. Nice Graphics. Really love this F...     4.0\n",
      "3428  Love that it is so small .it fits in my purse....     4.0\n",
      "3429  A tablet with front/rear facing camera, blueto...     4.0\n",
      "3430  This tablet was a gift for a child and they ab...     4.0\n",
      "3431  Great as long as your expectations are in line...     4.0\n",
      "3432  Screen is good, internet moves fast, easy to u...     4.0\n",
      "3433  It's not HD but it does the job: Facebook, rec...     4.0\n",
      "3434  I've purchased several kindles over the years ...     4.0\n",
      "3435  I was looking for a good, cheap tablet for gen...     4.0\n",
      "3436  Bought for my 3 year old so she could be like ...     4.0\n",
      "3437  I bought this tablet for my son (10 years old)...     4.0\n",
      "3438  Let's be perfectly clear, this is not an IPAD....     4.0\n",
      "3439  I do most of my things on my laptop but I want...     4.0\n",
      "3440  Simple and deluxe, functions well and holds up...     4.0\n",
      "3441  Works smooth and easy will recommend to friend...     4.0\n",
      "3442  Works well for my purposes. Wanted a calendar ...     4.0\n",
      "3443  I bought these fore my grandkids, and they lov...     4.0\n",
      "3444  My 11 year old loves it and does a lot more th...     4.0\n",
      "3445  According to my girlfriend, it is slow, but fu...     4.0\n",
      "3446  Cool little tablet. Does what you would expect...     4.0\n",
      "3447  Have 2 younger kids always trying to grab my c...     4.0\n",
      "3448  Bought this for my niece and she loves it. Gre...     4.0\n",
      "3449  outclasses other tablets at this price point, ...     4.0\n",
      "3450  Everytime I give one of these as a gift, it is...     4.0\n",
      "3451  I purchased an ASUS 2 in 1. I love it. It was ...     4.0\n",
      "3452  Very basic tablet which I purchased mostly as ...     4.0\n",
      "3453  It does most everything the higher priced tabl...     4.0\n",
      "3454  It is everything it promised. I use it to down...     4.0\n",
      "3455  My kids already broke two of my tablets. So, I...     4.0\n",
      "\n",
      "[3456 rows x 2 columns]\n"
     ]
    }
   ],
   "source": [
    "print(review_data4)"
   ]
  },
  {
   "cell_type": "code",
   "execution_count": 43,
   "metadata": {},
   "outputs": [],
   "source": [
    "i=0\n",
    "for index,row in review_data.iterrows():\n",
    "    if row['Rating']==5.0:\n",
    "        temp1=row['Reviews']\n",
    "        temp2=[temp1,5.0]\n",
    "        review_data5.loc[i]=temp2\n",
    "        i=i+1"
   ]
  },
  {
   "cell_type": "code",
   "execution_count": 44,
   "metadata": {},
   "outputs": [
    {
     "name": "stdout",
     "output_type": "stream",
     "text": [
      "                                                Reviews  Rating\n",
      "0     The sales people are really nice and knowledge...     5.0\n",
      "1     Great product and service and the sales man r ...     5.0\n",
      "2     Great product and service will refer to a frie...     5.0\n",
      "3     very good product and service will refer a fri...     5.0\n",
      "4     Great selections. Hard to find assistance at t...     5.0\n",
      "5     This kindle is a basic and easy to use eReader...     5.0\n",
      "6     Very good reading on this good and strong qual...     5.0\n",
      "7     I particularly like the fact that the text sho...     5.0\n",
      "8     I purchased this product because I love to rea...     5.0\n",
      "9     Excellent product very good piece strongly rec...     5.0\n",
      "10    In trying to get my son to read more and thoug...     5.0\n",
      "11    The Kindle is great for reading on the go when...     5.0\n",
      "12    Great buy! Bought it to replace a first genera...     5.0\n",
      "13    Perfect size, so easy to carry around. Long la...     5.0\n",
      "14    Easy to use and similar to using a book. Love ...     5.0\n",
      "15    My wife likes it because she can read all diff...     5.0\n",
      "16    FOR ITS SIZE IF OK THE VALUE MY WIFE LOVE IT S...     5.0\n",
      "17    I am enjoying my Kindle very much! Easy to dow...     5.0\n",
      "18    Super easy to use and very gentle on your eyes...     5.0\n",
      "19    It is great to be able to have all you books i...     5.0\n",
      "20    Great starter eReader, very simply does what i...     5.0\n",
      "21    This Kindle has no extra bells or whistles tha...     5.0\n",
      "22    Great item, easy to use,would recommend to any...     5.0\n",
      "23    After using a series of low end tablets as an ...     5.0\n",
      "24    this item is a great upgrade from my last kind...     5.0\n",
      "25    I've owned a couple of Kindles. This one is my...     5.0\n",
      "26    Got this on sale for a great price and is a gr...     5.0\n",
      "27    Small, light easy to read in any lighting. If ...     5.0\n",
      "28    I am happy as i bought it for reading and it i...     5.0\n",
      "29    I have several Kindles so knew what to expect....     5.0\n",
      "...                                                 ...     ...\n",
      "6452  This tablet is so fast!!!! It has everything I...     5.0\n",
      "6453  The Amazon fire is a great tablet. U cannot be...     5.0\n",
      "6454  We love the kindle. I intended to purchase a s...     5.0\n",
      "6455  Probably one of my best purchase's for the pri...     5.0\n",
      "6456  Great product. Amazon got it again. Can browse...     5.0\n",
      "6457  Screen quality and size is good. Lightweight a...     5.0\n",
      "6458  This is a great android tablet. On top of it o...     5.0\n",
      "6459  Bought these as gifts so I cannot review the q...     5.0\n",
      "6460  Cant believe a solid tablet for 34 buck. works...     5.0\n",
      "6461  Had to buy two for each kid of mine. They abso...     5.0\n",
      "6462  My 6year old twin boys loves technology and th...     5.0\n",
      "6463  I got this for a Christmas present for my son,...     5.0\n",
      "6464  So easy to use grandson loves it nice starter ...     5.0\n",
      "6465  MThere are so many cool features and it's real...     5.0\n",
      "6466  Love this tablet! It does everything! Accesses...     5.0\n",
      "6467  I bought this tablet for my 7 year old. Great ...     5.0\n",
      "6468  Does the job.Does the job........................     5.0\n",
      "6469  You cant go wrong with this tablet. I use this...     5.0\n",
      "6470  The kindle fire works really well for my sone ...     5.0\n",
      "6471  For the price I paid not having HD on the kind...     5.0\n",
      "6472  Great price. My kids (5 years old) love it, th...     5.0\n",
      "6473  a solid well made tablet that feels good in th...     5.0\n",
      "6474  This is a name brand tablet for less than the ...     5.0\n",
      "6475  I've was married to the same man for 30 someth...     5.0\n",
      "6476  it is excellent. easy to use. kids use it easi...     5.0\n",
      "6477  If you're looking for an android alternative t...     5.0\n",
      "6478  Great tablet for the price. Got it for my daug...     5.0\n",
      "6479  Bought this for my Aunt and she loves it so mu...     5.0\n",
      "6480  Great tablet for price. Upgraded my son to thi...     5.0\n",
      "6481  This is great for kids and adult. A great prod...     5.0\n",
      "\n",
      "[6482 rows x 2 columns]\n"
     ]
    }
   ],
   "source": [
    "print(review_data5)"
   ]
  },
  {
   "cell_type": "code",
   "execution_count": 46,
   "metadata": {},
   "outputs": [
    {
     "name": "stdout",
     "output_type": "stream",
     "text": [
      "3456\n",
      "6482\n"
     ]
    }
   ],
   "source": [
    "print(len(review_data4.index))\n",
    "print(len(review_data5.index))"
   ]
  },
  {
   "cell_type": "code",
   "execution_count": 47,
   "metadata": {},
   "outputs": [],
   "source": [
    "x=[]\n",
    "for i in range(3456):\n",
    "    x.append(str(i))"
   ]
  },
  {
   "cell_type": "code",
   "execution_count": 48,
   "metadata": {},
   "outputs": [
    {
     "name": "stdout",
     "output_type": "stream",
     "text": [
      "<class 'set'>\n"
     ]
    }
   ],
   "source": [
    "# extracting temp vocab from review_data4\n",
    "vocabulary4={'null'}\n",
    "print(type(vocabulary4))\n",
    "for i in range(3456):\n",
    "    temp_review=review_data4.iloc[[i]]\n",
    "    temp_message=str(temp_review[['Reviews']])\n",
    "   # print(type(temp_message))\n",
    "    tempwords=word_tokenize(temp_message)\n",
    "    for w in tempwords:\n",
    "        if  w  in x:\n",
    "            tempwords.remove(w)\n",
    "   # print (tempwords)  \n",
    "    for w in tempwords:\n",
    "        vocabulary4 |= set(tempwords)"
   ]
  },
  {
   "cell_type": "code",
   "execution_count": 53,
   "metadata": {},
   "outputs": [
    {
     "name": "stdout",
     "output_type": "stream",
     "text": [
      "2924\n"
     ]
    }
   ],
   "source": [
    "#print(vocabulary4)\n",
    "print(len(vocabulary4))"
   ]
  },
  {
   "cell_type": "code",
   "execution_count": 54,
   "metadata": {},
   "outputs": [],
   "source": [
    "#vectorizing all rviews in review_data4 according to vocabulary4\n",
    "#using count vectors\n",
    "countvect4=feature_extraction.text.CountVectorizer(vocabulary=vocabulary4)\n",
    "X_cv4=countvect4.transform(review_data4['Reviews'])"
   ]
  },
  {
   "cell_type": "code",
   "execution_count": 56,
   "metadata": {},
   "outputs": [
    {
     "name": "stdout",
     "output_type": "stream",
     "text": [
      "<class 'scipy.sparse.csr.csr_matrix'>\n"
     ]
    }
   ],
   "source": [
    "print(type(X_cv4))\n",
    "X_cv4a=X_cv4.toarray()"
   ]
  },
  {
   "cell_type": "code",
   "execution_count": 59,
   "metadata": {},
   "outputs": [
    {
     "name": "stdout",
     "output_type": "stream",
     "text": [
      "(3456, 2924)\n"
     ]
    }
   ],
   "source": [
    "print(np.shape(X_cv4a))"
   ]
  },
  {
   "cell_type": "code",
   "execution_count": 60,
   "metadata": {},
   "outputs": [],
   "source": [
    "# count vectorize review_data5 according to vocabulary4\n",
    "countvect5=feature_extraction.text.CountVectorizer(vocabulary=vocabulary4)\n",
    "X_cv5=countvect5.transform(review_data5['Reviews'])"
   ]
  },
  {
   "cell_type": "code",
   "execution_count": 61,
   "metadata": {},
   "outputs": [
    {
     "name": "stdout",
     "output_type": "stream",
     "text": [
      "<class 'scipy.sparse.csr.csr_matrix'>\n"
     ]
    }
   ],
   "source": [
    "print(type(X_cv5))\n",
    "X_cv5a=X_cv5.toarray()"
   ]
  },
  {
   "cell_type": "code",
   "execution_count": 66,
   "metadata": {},
   "outputs": [
    {
     "name": "stdout",
     "output_type": "stream",
     "text": [
      "(6482, 2924)\n"
     ]
    }
   ],
   "source": [
    "print(np.shape(X_cv5a))"
   ]
  },
  {
   "cell_type": "code",
   "execution_count": 64,
   "metadata": {},
   "outputs": [],
   "source": [
    "from math import *"
   ]
  },
  {
   "cell_type": "code",
   "execution_count": 76,
   "metadata": {},
   "outputs": [
    {
     "ename": "ZeroDivisionError",
     "evalue": "float division by zero",
     "output_type": "error",
     "traceback": [
      "\u001b[0;31m---------------------------------------------------------------------------\u001b[0m",
      "\u001b[0;31mZeroDivisionError\u001b[0m                         Traceback (most recent call last)",
      "\u001b[0;32m<ipython-input-76-f8f7ad389ecc>\u001b[0m in \u001b[0;36m<module>\u001b[0;34m\u001b[0m\n\u001b[1;32m     17\u001b[0m         \u001b[0mDE\u001b[0m\u001b[0;34m=\u001b[0m\u001b[0msqrt\u001b[0m\u001b[0;34m(\u001b[0m\u001b[0msqdiff\u001b[0m\u001b[0;34m)\u001b[0m \u001b[0;31m# euclidean distance\u001b[0m\u001b[0;34m\u001b[0m\u001b[0;34m\u001b[0m\u001b[0m\n\u001b[1;32m     18\u001b[0m         \u001b[0mDC\u001b[0m\u001b[0;34m=\u001b[0m\u001b[0;34m(\u001b[0m\u001b[0mdot\u001b[0m\u001b[0;34m/\u001b[0m\u001b[0;34m(\u001b[0m\u001b[0;36m0.1\u001b[0m\u001b[0;34m+\u001b[0m\u001b[0;34m(\u001b[0m\u001b[0msqrt\u001b[0m\u001b[0;34m(\u001b[0m\u001b[0mmod4\u001b[0m\u001b[0;34m)\u001b[0m\u001b[0;34m*\u001b[0m\u001b[0msqrt\u001b[0m\u001b[0;34m(\u001b[0m\u001b[0mmod5\u001b[0m\u001b[0;34m)\u001b[0m\u001b[0;34m)\u001b[0m\u001b[0;34m)\u001b[0m\u001b[0;34m)\u001b[0m\u001b[0;34m\u001b[0m\u001b[0;34m\u001b[0m\u001b[0m\n\u001b[0;32m---> 19\u001b[0;31m         \u001b[0;32mif\u001b[0m\u001b[0;34m(\u001b[0m\u001b[0mmaxscore\u001b[0m\u001b[0;34m<\u001b[0m\u001b[0mmax\u001b[0m\u001b[0;34m(\u001b[0m\u001b[0mDC\u001b[0m\u001b[0;34m,\u001b[0m\u001b[0;34m(\u001b[0m\u001b[0ma\u001b[0m\u001b[0;34m/\u001b[0m\u001b[0mDE\u001b[0m\u001b[0;34m)\u001b[0m\u001b[0;34m)\u001b[0m\u001b[0;34m)\u001b[0m\u001b[0;34m:\u001b[0m\u001b[0;34m\u001b[0m\u001b[0;34m\u001b[0m\u001b[0m\n\u001b[0m\u001b[1;32m     20\u001b[0m             \u001b[0mmaxscore\u001b[0m\u001b[0;34m=\u001b[0m\u001b[0mmax\u001b[0m\u001b[0;34m(\u001b[0m\u001b[0mDC\u001b[0m\u001b[0;34m,\u001b[0m\u001b[0;34m(\u001b[0m\u001b[0ma\u001b[0m\u001b[0;34m/\u001b[0m\u001b[0mDE\u001b[0m\u001b[0;34m)\u001b[0m\u001b[0;34m)\u001b[0m\u001b[0;34m\u001b[0m\u001b[0;34m\u001b[0m\u001b[0m\n\u001b[1;32m     21\u001b[0m     \u001b[0;31m# now we will have a final maxscore for one vector in X_cv4 w.r.t all vectors in X_cv5\u001b[0m\u001b[0;34m\u001b[0m\u001b[0;34m\u001b[0m\u001b[0;34m\u001b[0m\u001b[0m\n",
      "\u001b[0;31mZeroDivisionError\u001b[0m: float division by zero"
     ]
    }
   ],
   "source": [
    "#let cosine similarity be DC and euclidean distance be DE\n",
    "# now calculating cosine max(DC,a/DE) of each review in review4_data with each review in review5_data\n",
    "simscore=np.zeros(shape=3456,dtype=float)\n",
    "a=1.5 # decides the importance in terms of weihtage to e euclidean distance\n",
    "for i in range(3456):\n",
    "    maxscore=0.0\n",
    "    for j in range(6482):\n",
    "        dot=0# dot product of X_cv4*X_cv5\n",
    "        mod4=0# absolute value of X_cv4        \n",
    "        mod5=0# absolute value of X_cv5\n",
    "        sqdiff=0# squared difference between X_cv4 and X_cv5\n",
    "        for k in range(2924):            \n",
    "            dot=dot+(X_cv5a.item((j,k))*X_cv4a.item((i,k)))\n",
    "            mod4=mod4+(X_cv4a.item((i,k)))*(X_cv4a.item((i,k)))\n",
    "            mod5=mod5+(X_cv5a.item((j,k)))*(X_cv5a.item((j,k)))\n",
    "            sqdiff=sqdiff+(((X_cv5a.item((j,k)))-(X_cv4a.item((i,k))))*((X_cv5a.item((j,k)))-(X_cv4a.item((i,k)))))\n",
    "        DE=sqrt(sqdiff) # euclidean distance\n",
    "        DC=(dot/(0.1+(sqrt(mod4)*sqrt(mod5))))\n",
    "        if(maxscore<max(DC,(a/DE))):\n",
    "            maxscore=max(DC,(a/DE))\n",
    "    # now we will have a final maxscore for one vector in X_cv4 w.r.t all vectors in X_cv5\n",
    "    simscore[i]=maxscore"
   ]
  },
  {
   "cell_type": "code",
   "execution_count": 24,
   "metadata": {},
   "outputs": [
    {
     "name": "stderr",
     "output_type": "stream",
     "text": [
      "[nltk_data] Downloading package punkt to /home/dexterslaj/nltk_data...\n",
      "[nltk_data]   Package punkt is already up-to-date!\n"
     ]
    },
    {
     "data": {
      "text/plain": [
       "True"
      ]
     },
     "execution_count": 24,
     "metadata": {},
     "output_type": "execute_result"
    }
   ],
   "source": [
    "x=[]\n",
    "for i in range(10961):\n",
    "    x.append(str(i))\n",
    "\n",
    "    \n",
    "#nltk.download('punkt')    "
   ]
  },
  {
   "cell_type": "code",
   "execution_count": 6,
   "metadata": {},
   "outputs": [
    {
     "name": "stdout",
     "output_type": "stream",
     "text": [
      "<class 'set'>\n"
     ]
    }
   ],
   "source": [
    "  \n",
    "vocabulary={'null'}\n",
    "print(type(vocabulary))\n",
    "for i in range(10961):\n",
    "    temp_review=review_data.iloc[[i]]\n",
    "    temp_message=str(temp_review[['Reviews']])\n",
    "   # print(type(temp_message))\n",
    "    tempwords=word_tokenize(temp_message)\n",
    "    for w in tempwords:\n",
    "        if  w  in x:\n",
    "            tempwords.remove(w)\n",
    "   # print (tempwords)  \n",
    "    for w in tempwords:\n",
    "        vocabulary |= set(tempwords)"
   ]
  },
  {
   "cell_type": "code",
   "execution_count": 7,
   "metadata": {},
   "outputs": [
    {
     "name": "stdout",
     "output_type": "stream",
     "text": [
      "5477\n"
     ]
    }
   ],
   "source": [
    "print(len(vocabulary))"
   ]
  },
  {
   "cell_type": "code",
   "execution_count": 8,
   "metadata": {},
   "outputs": [],
   "source": [
    "#import nltk\n",
    "#nltk.download('stopwords')"
   ]
  },
  {
   "cell_type": "code",
   "execution_count": 9,
   "metadata": {},
   "outputs": [
    {
     "name": "stdout",
     "output_type": "stream",
     "text": [
      "['i', 'me', 'my', 'myself', 'we', 'our', 'ours', 'ourselves', 'you', \"you're\", \"you've\", \"you'll\", \"you'd\", 'your', 'yours', 'yourself', 'yourselves', 'he', 'him', 'his', 'himself', 'she', \"she's\", 'her', 'hers', 'herself', 'it', \"it's\", 'its', 'itself', 'they', 'them', 'their', 'theirs', 'themselves', 'what', 'which', 'who', 'whom', 'this', 'that', \"that'll\", 'these', 'those', 'am', 'is', 'are', 'was', 'were', 'be', 'been', 'being', 'have', 'has', 'had', 'having', 'do', 'does', 'did', 'doing', 'a', 'an', 'the', 'and', 'but', 'if', 'or', 'because', 'as', 'until', 'while', 'of', 'at', 'by', 'for', 'with', 'about', 'against', 'between', 'into', 'through', 'during', 'before', 'after', 'above', 'below', 'to', 'from', 'up', 'down', 'in', 'out', 'on', 'off', 'over', 'under', 'again', 'further', 'then', 'once', 'here', 'there', 'when', 'where', 'why', 'how', 'all', 'any', 'both', 'each', 'few', 'more', 'most', 'other', 'some', 'such', 'no', 'nor', 'not', 'only', 'own', 'same', 'so', 'than', 'too', 'very', 's', 't', 'can', 'will', 'just', 'don', \"don't\", 'should', \"should've\", 'now', 'd', 'll', 'm', 'o', 're', 've', 'y', 'ain', 'aren', \"aren't\", 'couldn', \"couldn't\", 'didn', \"didn't\", 'doesn', \"doesn't\", 'hadn', \"hadn't\", 'hasn', \"hasn't\", 'haven', \"haven't\", 'isn', \"isn't\", 'ma', 'mightn', \"mightn't\", 'mustn', \"mustn't\", 'needn', \"needn't\", 'shan', \"shan't\", 'shouldn', \"shouldn't\", 'wasn', \"wasn't\", 'weren', \"weren't\", 'won', \"won't\", 'wouldn', \"wouldn't\"]\n"
     ]
    }
   ],
   "source": [
    "# stopword removal\n",
    "stopwordlist=list(stopwords.words('english'))\n",
    "print(stopwordlist)"
   ]
  },
  {
   "cell_type": "code",
   "execution_count": 10,
   "metadata": {},
   "outputs": [],
   "source": [
    "stopvocab=[]\n",
    "for w in vocabulary:\n",
    "   # print(w)\n",
    "    if w in stopwordlist:\n",
    "        continue\n",
    "    else:    \n",
    "        stopvocab.append(w)"
   ]
  },
  {
   "cell_type": "code",
   "execution_count": 11,
   "metadata": {},
   "outputs": [
    {
     "name": "stdout",
     "output_type": "stream",
     "text": [
      "5342\n"
     ]
    }
   ],
   "source": [
    "print(len(stopvocab))"
   ]
  },
  {
   "cell_type": "code",
   "execution_count": 12,
   "metadata": {},
   "outputs": [],
   "source": [
    "i=0\n",
    "for w in stopvocab:\n",
    "    stopvocab[i]=w.lower()\n",
    "    i=i+1"
   ]
  },
  {
   "cell_type": "code",
   "execution_count": 13,
   "metadata": {},
   "outputs": [],
   "source": [
    "#removing digits and special charachters\n",
    "j=0\n",
    "for w in stopvocab:\n",
    "    i=0\n",
    "    temp=list(w)\n",
    "    for c in temp:\n",
    "        if c>='a' and c<='z':\n",
    "            continue\n",
    "        else:\n",
    "            temp[i]=''\n",
    "        i=i+1    \n",
    "    stopvocab[j]=\"\".join(temp)\n",
    "    temp=[]\n",
    "    j=j+1"
   ]
  },
  {
   "cell_type": "code",
   "execution_count": 14,
   "metadata": {},
   "outputs": [
    {
     "name": "stdout",
     "output_type": "stream",
     "text": [
      "5342\n"
     ]
    }
   ],
   "source": [
    "print(len(stopvocab))"
   ]
  },
  {
   "cell_type": "code",
   "execution_count": 15,
   "metadata": {},
   "outputs": [],
   "source": [
    "# removing non english words\n",
    "# SAD NEWS THAT SUPPORT FOR PYENCHANT HAS BEEN ENDED FOR ANACONDA ENVIROMENT SO NOW WE HAVE TO USE AN ALTERNATIVE IN ORDER TO REMOVE NON-ENGLISH WORDS\n",
    "#import pyenchant\n",
    "#d=enchant.Dict(\"en-us\")\n",
    "\n",
    "#enstopvocab=[]\n",
    "#for w in stopvocab:\n",
    "    #enstopvocab.append(w)\n",
    "    \n",
    "#for w in stopvocab:\n",
    "    \n",
    "    #if w!=\"\" and d.check(w)==False:\n",
    "        #enstopvocab.remove(w)\n",
    "        "
   ]
  },
  {
   "cell_type": "code",
   "execution_count": 16,
   "metadata": {},
   "outputs": [],
   "source": [
    "#nltk.download('wordnet')"
   ]
  },
  {
   "cell_type": "code",
   "execution_count": 17,
   "metadata": {},
   "outputs": [],
   "source": [
    "from nltk.corpus import wordnet\n",
    "enstopvocab=[]\n",
    "for w in stopvocab:\n",
    "    enstopvocab.append(w)\n",
    "for w in stopvocab:\n",
    "    if w!=\"\" and  not wordnet.synsets(w):\n",
    "        enstopvocab.remove(w)"
   ]
  },
  {
   "cell_type": "code",
   "execution_count": 18,
   "metadata": {},
   "outputs": [
    {
     "name": "stdout",
     "output_type": "stream",
     "text": [
      "3563\n"
     ]
    }
   ],
   "source": [
    "print(len(enstopvocab))"
   ]
  },
  {
   "cell_type": "code",
   "execution_count": 19,
   "metadata": {},
   "outputs": [
    {
     "name": "stdout",
     "output_type": "stream",
     "text": [
      "2642\n"
     ]
    }
   ],
   "source": [
    "enstopvocab=list(set(enstopvocab))\n",
    "print(len(enstopvocab))"
   ]
  },
  {
   "cell_type": "code",
   "execution_count": 20,
   "metadata": {},
   "outputs": [],
   "source": [
    "# print(enstopvocab[0]) now here is a problem that first word in enstopvocab is null so we have to remove it\n",
    "enstopvocab.remove(\"\")"
   ]
  },
  {
   "cell_type": "code",
   "execution_count": 21,
   "metadata": {},
   "outputs": [
    {
     "name": "stdout",
     "output_type": "stream",
     "text": [
      "2641\n"
     ]
    }
   ],
   "source": [
    "print(len(enstopvocab))"
   ]
  },
  {
   "cell_type": "code",
   "execution_count": 22,
   "metadata": {},
   "outputs": [],
   "source": [
    "# making vectors 1) one hot encoding 2) count vector\n",
    "# using vovab enstopvocab\n",
    "# using one-hot encodeing\n",
    "def messagetoonehotvector(x):    \n",
    "    messagevector=np.zeros(3620,dtype=int)\n",
    "    temp1=word_tokenize(x)\n",
    "    temp2=[]\n",
    "    #for x in temp1:\n",
    "       # x=lemmatizer.lemmatize(x)\n",
    "        #temp2.append(x)\n",
    "    for x in temp1:\n",
    "        if x in stopwordslist:\n",
    "            temp1.remove(x)\n",
    "            \n",
    "    for x in temp1:\n",
    "        if x in enstopcovab:\n",
    "            i=enstopvoab.index(x)\n",
    "            messagevector[i]=1\n",
    "            \n",
    "            \n",
    "    return list(messagevector)"
   ]
  },
  {
   "cell_type": "code",
   "execution_count": 23,
   "metadata": {},
   "outputs": [],
   "source": [
    "countvect_esv=feature_extraction.text.CountVectorizer(vocabulary=enstopvocab)\n",
    "tfidfvect=feature_extraction.text.TfidfVectorizer()\n",
    "tfidfvect_esv=feature_extraction.text.TfidfVectorizer(vocabulary=enstopvocab)"
   ]
  },
  {
   "cell_type": "code",
   "execution_count": 24,
   "metadata": {},
   "outputs": [],
   "source": [
    "X_cv=countvect_esv.transform(review_data['Reviews'])"
   ]
  },
  {
   "cell_type": "code",
   "execution_count": 25,
   "metadata": {},
   "outputs": [],
   "source": [
    "#X_tfidf=tfidfvect.transform(review_data['Reviews'])"
   ]
  },
  {
   "cell_type": "code",
   "execution_count": 26,
   "metadata": {},
   "outputs": [
    {
     "data": {
      "text/plain": [
       "(10962, 2641)"
      ]
     },
     "execution_count": 26,
     "metadata": {},
     "output_type": "execute_result"
    }
   ],
   "source": [
    "np.shape(X_cv)"
   ]
  },
  {
   "cell_type": "code",
   "execution_count": 27,
   "metadata": {},
   "outputs": [],
   "source": [
    "X_train_cv, X_test_cv, y_train_cv, y_test_cv = model_selection.train_test_split(X_cv, review_data['Rating'], test_size=0.33, random_state=42)"
   ]
  },
  {
   "cell_type": "code",
   "execution_count": 28,
   "metadata": {},
   "outputs": [
    {
     "name": "stdout",
     "output_type": "stream",
     "text": [
      "111\n",
      "101\n",
      "458\n",
      "2348\n",
      "4326\n"
     ]
    }
   ],
   "source": [
    "#there is nothing in file so no NAN entry\n",
    "x=np.array(y_train_cv)\n",
    "count1=0\n",
    "count2=0\n",
    "count3=0\n",
    "count4=0\n",
    "count5=0\n",
    "for p in x:\n",
    "    if p==1:\n",
    "        count1+=1\n",
    "    elif p==2:\n",
    "        count2+=1\n",
    "    elif p==3:\n",
    "        count3+=1\n",
    "    elif p==4:\n",
    "        count4+=1\n",
    "    elif p==5:\n",
    "        count5+=1\n",
    "    \n",
    "print(count1)\n",
    "print(count2)\n",
    "print(count3)\n",
    "print(count4)\n",
    "print(count5)"
   ]
  },
  {
   "cell_type": "code",
   "execution_count": 29,
   "metadata": {},
   "outputs": [],
   "source": [
    "#nltk.download('sentiwordnet')\n",
    "from nltk.corpus import sentiwordnet as swn"
   ]
  },
  {
   "cell_type": "code",
   "execution_count": 30,
   "metadata": {},
   "outputs": [],
   "source": [
    "#myfile1=open(\"SentiWordNet_3.0.0.txt\",'r')\n",
    "#myfile2=open(\"polaritydatabase.csv\",'w')"
   ]
  },
  {
   "cell_type": "code",
   "execution_count": 31,
   "metadata": {},
   "outputs": [],
   "source": [
    "#writer2=csv.writer(myfile2)"
   ]
  },
  {
   "cell_type": "code",
   "execution_count": 32,
   "metadata": {},
   "outputs": [],
   "source": [
    "#csv_header=['POS','ID','POSSCORE','NEGSCORE','SYNSETTERMS','GLOSS']"
   ]
  },
  {
   "cell_type": "code",
   "execution_count": 33,
   "metadata": {},
   "outputs": [],
   "source": [
    "#writer2.writerow(csv_header)"
   ]
  },
  {
   "cell_type": "code",
   "execution_count": 34,
   "metadata": {},
   "outputs": [],
   "source": [
    "#writer2.writerow(['popo','2222'])\n",
    "ssyn1=open('sentiwordnetsynsets1.txt','w')# this file will contain all the synsets for each word from enstopvocab"
   ]
  },
  {
   "cell_type": "code",
   "execution_count": 35,
   "metadata": {},
   "outputs": [
    {
     "name": "stdout",
     "output_type": "stream",
     "text": [
      "showcase\n",
      "2641\n"
     ]
    }
   ],
   "source": [
    "print(enstopvocab[0])\n",
    "#enstopvocab.remove('')\n",
    "print(len(enstopvocab))"
   ]
  },
  {
   "cell_type": "code",
   "execution_count": 36,
   "metadata": {},
   "outputs": [
    {
     "name": "stdout",
     "output_type": "stream",
     "text": [
      "2641\n"
     ]
    }
   ],
   "source": [
    "enstopvocab=list(set(enstopvocab))\n",
    "print(len(enstopvocab))"
   ]
  },
  {
   "cell_type": "code",
   "execution_count": 37,
   "metadata": {},
   "outputs": [],
   "source": [
    "polscore2=open('polscores2.txt','w')"
   ]
  },
  {
   "cell_type": "code",
   "execution_count": 38,
   "metadata": {},
   "outputs": [],
   "source": [
    "tempsyn=[]\n",
    "for w in enstopvocab:\n",
    "    tempsyn=swn.senti_synsets(w)\n",
    "    #polscore2.write(\"word is \"+ str(w)+\" \")\n",
    "    for x in tempsyn:        \n",
    "        ssyn1.write((str(x)+\"  \"))\n",
    "        polscore2.write((str(x.pos_score())+\" \"+str(x.neg_score())+\",\"))\n",
    "    ssyn1.write(\"\\n\")\n",
    "    polscore2.write(\"\\n\")                    \n",
    "    tempsyn=[]\n",
    "    "
   ]
  },
  {
   "cell_type": "code",
   "execution_count": 39,
   "metadata": {},
   "outputs": [],
   "source": [
    "ssyn1.close()# finally we have a record of all synsets for ech word in enstopvocab\n",
    "polscore2.close()"
   ]
  },
  {
   "cell_type": "code",
   "execution_count": 40,
   "metadata": {},
   "outputs": [],
   "source": [
    "# A BIG NOTE :----- WE ARE USING SENTI WORD NET INTERFACE OF NLTK THAT COMPLETELY RELIES UPON SENTI WORD NET DATABASE.\n",
    "# A QUICK OVERVIEW\n",
    "# CURRENTLY WE ARE FINDING THE POLARITY OF EACH WORD\n",
    "# NOW AS WE KNPOW THAT EACH WORD HAS SEVERAL SYNSETS DEPENDING ON PART OF SPEECH , CONTEXTUAL USE ETC.\n",
    "# SINCE THIS IS OUR FIRST APPROACH TOWARDS POLARITY CLACULATION SO WE ARE JUST TAKING AREITHMATIC AVERAGE OVER ALL THE SYNSETS OF A WORD REGARDLESS OF ITS POS  OR CONTEXTUAL USE\n",
    "# WE MAY GO FOR FURTHER ADVANCEMENT OF OUR ALGO..\n",
    "# the approach we are using is not weaker in any sense . TEXTBLOB a famous sentiment analysis library uses this approach\n",
    "avgposscore=[]# to hold avg pos polarity score of each word\n",
    "avgnegscore=[] # to hold avg neg polarity score of each word"
   ]
  },
  {
   "cell_type": "code",
   "execution_count": 41,
   "metadata": {},
   "outputs": [],
   "source": [
    "temppos=0.0\n",
    "tempneg=0.0\n",
    "count=0\n",
    "polscore2=open('polscores2.txt','r')\n",
    "temp=\"\"\n",
    "templist=[]\n",
    "ptemp=[]\n",
    "tempsyn=[]\n",
    "i=1\n",
    "for temp in polscore2:\n",
    "    #for line in enstopvocab:\n",
    "    templist=temp.split(',')\n",
    "    #if i<=10:\n",
    "    #print(str(i)+\"):--\")\n",
    "    #print(temp)\n",
    "    #print(\"\\n\")\n",
    "    #i=i+1    \n",
    "    #tempsyn=swn.senti_synsets(x)\n",
    "    #count=len(list(tempsyn))# toatl no. of synsets returned\n",
    "    for x in templist:\n",
    "        if len(x)!=0:\n",
    "            ptemp=x.split()\n",
    "            #if i<=10:        \n",
    "            #print(ptemp)\n",
    "            #print(\"\\n\")\n",
    "            if len(ptemp)!=0:\n",
    "                temppos=temppos+float(ptemp[0])\n",
    "                tempneg=tempneg+float(ptemp[1])\n",
    "            ptemp=[]\n",
    "        \n",
    "    #print (count)\n",
    "    #print(type(tempsyn))\n",
    "    #print(tempsyn)\n",
    "   # for w in tempsyn:\n",
    "        \n",
    "       # print(w.pos_score())\n",
    "        #temppos=temppos+w.pos_score()# total pos score\n",
    "        #tempneg=tempneg+w.neg_score()# total neg score\n",
    "    #print(tempos)\n",
    "    #print(tempneg)\n",
    "    #tempos=temppos/count\n",
    "    #tempneg=tempneg/count\n",
    "    avgposscore.append(temppos)\n",
    "    avgnegscore.append(tempneg)\n",
    "    temppos=0.0\n",
    "    tempneg=0.0\n",
    "    count=0\n",
    "    tempsyn=[]\n",
    "    templist=[]\n",
    "    i=i+1\n",
    "    \n",
    "\n",
    "    "
   ]
  },
  {
   "cell_type": "code",
   "execution_count": 42,
   "metadata": {},
   "outputs": [],
   "source": [
    "# now recording these avg polarity scores\n",
    "#polscore1=open('polscores1.txt','w')\n",
    "#polscore1.write(\"pos score                neg score\")\n",
    "#for x in range(2641):\n",
    "    #polscore1.write((str(avgposscore[x])+\"       \"+str(avgnegscore[x])))\n",
    "    #polscore1.write(\"\\n\")\n",
    "\n",
    "#print(avgposscore)\n",
    "count=0\n",
    "for x in range(2641):\n",
    "    temp=swn.senti_synsets(enstopvocab[x])\n",
    "    count=len(list(temp))\n",
    "    #print(count)\n",
    "    avgposscore[x]=avgposscore[x]/count\n",
    "    avgnegscore[x]=avgnegscore[x]/count\n",
    "    \n",
    " "
   ]
  },
  {
   "cell_type": "code",
   "execution_count": 43,
   "metadata": {},
   "outputs": [],
   "source": [
    "#print(avgposscore) "
   ]
  },
  {
   "cell_type": "code",
   "execution_count": 44,
   "metadata": {},
   "outputs": [
    {
     "name": "stdout",
     "output_type": "stream",
     "text": [
      "<class 'scipy.sparse.csr.csr_matrix'>\n"
     ]
    }
   ],
   "source": [
    "# now multiplying polarity with X_cv\n",
    "print(type(X_cv))\n",
    "fpol=np.zeros(shape=2641,dtype=float)\n",
    "np.shape(fpol)\n",
    "for i in range(2641):\n",
    "    fpol[i]=avgposscore[i]+((-1)*avgnegscore[i])\n",
    "    "
   ]
  },
  {
   "cell_type": "code",
   "execution_count": 45,
   "metadata": {},
   "outputs": [
    {
     "name": "stdout",
     "output_type": "stream",
     "text": [
      "[ 0.0625      0.25       -0.03125    ... -0.125      -0.02083333\n",
      "  0.375     ]\n"
     ]
    }
   ],
   "source": [
    "print(fpol)"
   ]
  },
  {
   "cell_type": "code",
   "execution_count": 95,
   "metadata": {},
   "outputs": [],
   "source": [
    "X_cv1=X_cv.toarray()\n",
    "#print(X_cv1)\n",
    "for i in range(10962):\n",
    "    for j in range(2641):\n",
    "        X_cv1[i][j]=(X_cv1[i][j]*fpol[j])\n",
    "        #X_cv1[i][j]=(X_cv1[i][j]*1)"
   ]
  },
  {
   "cell_type": "code",
   "execution_count": 96,
   "metadata": {},
   "outputs": [],
   "source": [
    "X_train_cv, X_test_cv, y_train_cv, y_test_cv = model_selection.train_test_split(X_cv1, review_data['Rating'], test_size=0.33, random_state=42)\n"
   ]
  },
  {
   "cell_type": "code",
   "execution_count": 97,
   "metadata": {},
   "outputs": [],
   "source": [
    "model = Sequential()\n",
    "model.add(Dense(1000, input_dim=2641, activation='softmax'))\n",
    "#model.add(Dense(1000, activation='softmax'))\n",
    "model.add(Dense(500,activation='softmax'))\n",
    "#model.add(Dense(150, activation='softmax'))\n",
    "model.add(Dense(5, activation='softmax'))"
   ]
  },
  {
   "cell_type": "code",
   "execution_count": 98,
   "metadata": {},
   "outputs": [
    {
     "name": "stdout",
     "output_type": "stream",
     "text": [
      "(7344, 2641)\n"
     ]
    }
   ],
   "source": [
    "print(np.shape(X_train_cv))"
   ]
  },
  {
   "cell_type": "code",
   "execution_count": 99,
   "metadata": {},
   "outputs": [],
   "source": [
    "#now making a matrix of size 10962*5 which will serve as a y (train label vectors) according to which the model will train\n",
    "y_vec=np.zeros((10962,5),dtype=float)\n",
    "for i in range(10962):\n",
    "    for j in range(5):\n",
    "        p=review_data['Rating'][i]\n",
    "        #print(p)\n",
    "        #y_vec[i][0]=p\n",
    "        #y_vec[i][1]=p\n",
    "        #y_vec[i][2]=p\n",
    "        #y_vec[i][3]=p\n",
    "        #y_vec[i][4]=p\n",
    "        y_vec[i][int(p)-1]=1"
   ]
  },
  {
   "cell_type": "code",
   "execution_count": 100,
   "metadata": {},
   "outputs": [],
   "source": [
    " X_train_cv, X_test_cv, y_train_cv, y_test_cv = model_selection.train_test_split(X_cv1, y_vec, test_size=0.33, random_state=42)\n"
   ]
  },
  {
   "cell_type": "code",
   "execution_count": 101,
   "metadata": {},
   "outputs": [
    {
     "data": {
      "text/plain": [
       "(7344, 5)"
      ]
     },
     "execution_count": 101,
     "metadata": {},
     "output_type": "execute_result"
    }
   ],
   "source": [
    "np.shape(y_train_cv)"
   ]
  },
  {
   "cell_type": "code",
   "execution_count": 102,
   "metadata": {},
   "outputs": [],
   "source": [
    "model.compile(loss='categorical_crossentropy', optimizer='adam', metrics=['accuracy'])"
   ]
  },
  {
   "cell_type": "code",
   "execution_count": 103,
   "metadata": {},
   "outputs": [
    {
     "name": "stdout",
     "output_type": "stream",
     "text": [
      "Epoch 1/5\n",
      "7344/7344 [==============================] - 48s 6ms/step - loss: 1.2205 - acc: 0.5891\n",
      "Epoch 2/5\n",
      "7344/7344 [==============================] - 47s 6ms/step - loss: 0.9993 - acc: 0.5891\n",
      "Epoch 3/5\n",
      "7344/7344 [==============================] - 47s 6ms/step - loss: 0.9767 - acc: 0.5891\n",
      "Epoch 4/5\n",
      "7344/7344 [==============================] - 47s 6ms/step - loss: 0.9730 - acc: 0.5891\n",
      "Epoch 5/5\n",
      "7344/7344 [==============================] - 47s 6ms/step - loss: 0.9722 - acc: 0.5891\n"
     ]
    },
    {
     "data": {
      "text/plain": [
       "<keras.callbacks.History at 0x7faeb8416b38>"
      ]
     },
     "execution_count": 103,
     "metadata": {},
     "output_type": "execute_result"
    }
   ],
   "source": [
    "model.fit(X_train_cv,y_train_cv,epochs=5,batch_size=10)"
   ]
  },
  {
   "cell_type": "code",
   "execution_count": null,
   "metadata": {},
   "outputs": [],
   "source": [
    "# now we will plot the graph (bar chart, pie chart , scatter chart) for original lqbel , predicted through polarity multiplication , predicted without polarity multiplication corresponding to test data"
   ]
  },
  {
   "cell_type": "code",
   "execution_count": 56,
   "metadata": {},
   "outputs": [
    {
     "name": "stdout",
     "output_type": "stream",
     "text": [
      "<class 'numpy.ndarray'>\n",
      "(3618, 5)\n"
     ]
    }
   ],
   "source": [
    "#print(y_test_cv)\n",
    "print(type(y_test_cv))\n",
    "print(np.shape(y_test_cv))\n",
    "y_test_cv1=np.zeros(shape=3618,dtype=float)"
   ]
  },
  {
   "cell_type": "code",
   "execution_count": 57,
   "metadata": {},
   "outputs": [],
   "source": [
    "for i in range(3618):\n",
    "    y_test_cv1[i]=y_test_cv[i][0]"
   ]
  },
  {
   "cell_type": "code",
   "execution_count": 58,
   "metadata": {},
   "outputs": [
    {
     "data": {
      "image/png": "[encoded data removed]",
      "text/plain": [
       "<Figure size 432x288 with 1 Axes>"
      ]
     },
     "metadata": {
      "needs_background": "light"
     },
     "output_type": "display_data"
    }
   ],
   "source": [
    "# for original test data\n",
    "# bar chart\n",
    "\n",
    "count_Class=pd.value_counts(y_test_cv1, sort= True)\n",
    "count_Class.plot(kind= 'bar', color= [\"blue\", \"orange\"])\n",
    "plt.title('Bar chart')\n",
    "plt.show()"
   ]
  },
  {
   "cell_type": "code",
   "execution_count": 59,
   "metadata": {},
   "outputs": [
    {
     "data": {
      "image/png": "[encoded data removed]",
      "text/plain": [
       "<Figure size 432x288 with 1 Axes>"
      ]
     },
     "metadata": {},
     "output_type": "display_data"
    }
   ],
   "source": [
    "count_Class.plot(kind = 'pie',  autopct='%1.0f%%')\n",
    "plt.title('Pie chart')\n",
    "plt.ylabel('')\n",
    "plt.show()"
   ]
  },
  {
   "cell_type": "code",
   "execution_count": 60,
   "metadata": {},
   "outputs": [],
   "source": [
    "y_label=np.zeros(shape=5,dtype=int)\n",
    "for x in y_test_cv1:\n",
    "    y_label[int(x)-1]=y_label[int(x)-1]+1"
   ]
  },
  {
   "cell_type": "code",
   "execution_count": 61,
   "metadata": {},
   "outputs": [
    {
     "data": {
      "image/png": "[encoded data removed]",
      "text/plain": [
       "<Figure size 432x288 with 1 Axes>"
      ]
     },
     "metadata": {
      "needs_background": "light"
     },
     "output_type": "display_data"
    }
   ],
   "source": [
    "    \n",
    "x_label=[1.0,2.0,3.0,4.0,5.0]\n",
    "plt.scatter(x_label,y_label, alpha=0.5)\n",
    "plt.title('Scatter plot')\n",
    "plt.xlabel('x')\n",
    "plt.ylabel('y')\n",
    "plt.show()"
   ]
  },
  {
   "cell_type": "code",
   "execution_count": 106,
   "metadata": {},
   "outputs": [
    {
     "data": {
      "text/plain": [
       "[<matplotlib.lines.Line2D at 0x7faeb7ecf6d8>]"
      ]
     },
     "execution_count": 106,
     "metadata": {},
     "output_type": "execute_result"
    },
    {
     "data": {
      "image/png": "[encoded data removed]",
      "text/plain": [
       "<Figure size 432x288 with 1 Axes>"
      ]
     },
     "metadata": {
      "needs_background": "light"
     },
     "output_type": "display_data"
    }
   ],
   "source": [
    "plt.plot(x_label,y_label,marker='o')"
   ]
  },
  {
   "cell_type": "code",
   "execution_count": 110,
   "metadata": {},
   "outputs": [],
   "source": [
    "# for polarity multipied\n",
    "#bar chart\n",
    "pol_mul_label=model.predict_classes(X_test_cv)"
   ]
  },
  {
   "cell_type": "code",
   "execution_count": 111,
   "metadata": {},
   "outputs": [
    {
     "name": "stdout",
     "output_type": "stream",
     "text": [
      "(3618,)\n"
     ]
    }
   ],
   "source": [
    "print(np.shape(pol_mul_label))"
   ]
  },
  {
   "cell_type": "code",
   "execution_count": 113,
   "metadata": {},
   "outputs": [
    {
     "data": {
      "image/png": "[encoded data removed]",
      "text/plain": [
       "<Figure size 432x288 with 1 Axes>"
      ]
     },
     "metadata": {
      "needs_background": "light"
     },
     "output_type": "display_data"
    }
   ],
   "source": [
    "# bar chart\n",
    "\n",
    "count_Class=pd.value_counts(pol_mul_label, sort= True)\n",
    "count_Class.plot(kind= 'bar', color= [\"blue\", \"orange\"])\n",
    "plt.title('Bar chart')\n",
    "plt.show()"
   ]
  },
  {
   "cell_type": "code",
   "execution_count": 114,
   "metadata": {},
   "outputs": [
    {
     "data": {
      "image/png": "[encoded data removed]",
      "text/plain": [
       "<Figure size 432x288 with 1 Axes>"
      ]
     },
     "metadata": {},
     "output_type": "display_data"
    }
   ],
   "source": [
    "count_Class.plot(kind = 'pie',  autopct='%1.0f%%')\n",
    "plt.title('Pie chart')\n",
    "plt.ylabel('')\n",
    "plt.show()"
   ]
  },
  {
   "cell_type": "code",
   "execution_count": 118,
   "metadata": {},
   "outputs": [],
   "source": [
    "y_label=np.zeros(shape=5,dtype=int)\n",
    "for x in pol_mul_label:\n",
    "    y_label[int(x)-1]=y_label[int(x)-1]+1"
   ]
  },
  {
   "cell_type": "code",
   "execution_count": 119,
   "metadata": {},
   "outputs": [
    {
     "data": {
      "image/png": "[encoded data removed]",
      "text/plain": [
       "<Figure size 432x288 with 1 Axes>"
      ]
     },
     "metadata": {
      "needs_background": "light"
     },
     "output_type": "display_data"
    }
   ],
   "source": [
    "x_label=[1.0,2.0,3.0,4.0,5.0]\n",
    "plt.scatter(x_label,y_label, alpha=0.5)\n",
    "plt.title('Scatter plot')\n",
    "plt.xlabel('x')\n",
    "plt.ylabel('y')\n",
    "plt.show()"
   ]
  },
  {
   "cell_type": "code",
   "execution_count": null,
   "metadata": {},
   "outputs": [],
   "source": []
  }
 ],
 "metadata": {
  "kernelspec": {
   "display_name": "Python 3",
   "language": "python",
   "name": "python3"
  },
  "language_info": {
   "codemirror_mode": {
    "name": "ipython",
    "version": 3
   },
   "file_extension": ".py",
   "mimetype": "text/x-python",
   "name": "python",
   "nbconvert_exporter": "python",
   "pygments_lexer": "ipython3",
   "version": "3.7.3"
  }
 },
 "nbformat": 4,
 "nbformat_minor": 2
}
