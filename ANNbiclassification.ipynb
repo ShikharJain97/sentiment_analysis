{
 "cells": [
  {
   "cell_type": "code",
   "execution_count": 1,
   "metadata": {},
   "outputs": [],
   "source": [
    "import numpy as np\n",
    "import pandas as pd\n",
    "import matplotlib.pyplot as plt\n",
    "from collections import Counter\n",
    "from sklearn import feature_extraction, model_selection, naive_bayes, metrics, svm\n",
    "from IPython.display import Image\n",
    "import warnings\n",
    "warnings.filterwarnings(\"ignore\")\n",
    "%matplotlib inline  "
   ]
  },
  {
   "cell_type": "code",
   "execution_count": 17,
   "metadata": {},
   "outputs": [
    {
     "data": {
      "text/html": [
       "<div>\n",
       "<style scoped>\n",
       "    .dataframe tbody tr th:only-of-type {\n",
       "        vertical-align: middle;\n",
       "    }\n",
       "\n",
       "    .dataframe tbody tr th {\n",
       "        vertical-align: top;\n",
       "    }\n",
       "\n",
       "    .dataframe thead th {\n",
       "        text-align: right;\n",
       "    }\n",
       "</style>\n",
       "<table border=\"1\" class=\"dataframe\">\n",
       "  <thead>\n",
       "    <tr style=\"text-align: right;\">\n",
       "      <th></th>\n",
       "      <th>Sno.</th>\n",
       "      <th>labels</th>\n",
       "      <th>Bookreviews</th>\n",
       "    </tr>\n",
       "  </thead>\n",
       "  <tbody>\n",
       "    <tr>\n",
       "      <th>0</th>\n",
       "      <td>1</td>\n",
       "      <td>1</td>\n",
       "      <td>this was the first clive cussler ive ever read...</td>\n",
       "    </tr>\n",
       "    <tr>\n",
       "      <th>1</th>\n",
       "      <td>2</td>\n",
       "      <td>1</td>\n",
       "      <td>i liked the da vinci code a lot</td>\n",
       "    </tr>\n",
       "    <tr>\n",
       "      <th>2</th>\n",
       "      <td>3</td>\n",
       "      <td>1</td>\n",
       "      <td>i liked the da vinci code a lot</td>\n",
       "    </tr>\n",
       "    <tr>\n",
       "      <th>3</th>\n",
       "      <td>4</td>\n",
       "      <td>1</td>\n",
       "      <td>i liked the da vinci code but it ultimatly did...</td>\n",
       "    </tr>\n",
       "    <tr>\n",
       "      <th>4</th>\n",
       "      <td>5</td>\n",
       "      <td>1</td>\n",
       "      <td>thats not even an exaggeration and at midnight...</td>\n",
       "    </tr>\n",
       "    <tr>\n",
       "      <th>5</th>\n",
       "      <td>6</td>\n",
       "      <td>1</td>\n",
       "      <td>i loved the da vinci code but now i want somet...</td>\n",
       "    </tr>\n",
       "    <tr>\n",
       "      <th>6</th>\n",
       "      <td>7</td>\n",
       "      <td>1</td>\n",
       "      <td>i thought da vinci code was great same with ki...</td>\n",
       "    </tr>\n",
       "    <tr>\n",
       "      <th>7</th>\n",
       "      <td>8</td>\n",
       "      <td>1</td>\n",
       "      <td>the da vinci code is actually a good movie</td>\n",
       "    </tr>\n",
       "    <tr>\n",
       "      <th>8</th>\n",
       "      <td>9</td>\n",
       "      <td>1</td>\n",
       "      <td>i thought the da vinci code was a pretty good ...</td>\n",
       "    </tr>\n",
       "    <tr>\n",
       "      <th>9</th>\n",
       "      <td>10</td>\n",
       "      <td>1</td>\n",
       "      <td>the da vinci code is one of the most beautiful...</td>\n",
       "    </tr>\n",
       "  </tbody>\n",
       "</table>\n",
       "</div>"
      ],
      "text/plain": [
       "   Sno.  labels                                        Bookreviews\n",
       "0     1       1  this was the first clive cussler ive ever read...\n",
       "1     2       1                    i liked the da vinci code a lot\n",
       "2     3       1                    i liked the da vinci code a lot\n",
       "3     4       1  i liked the da vinci code but it ultimatly did...\n",
       "4     5       1  thats not even an exaggeration and at midnight...\n",
       "5     6       1  i loved the da vinci code but now i want somet...\n",
       "6     7       1  i thought da vinci code was great same with ki...\n",
       "7     8       1         the da vinci code is actually a good movie\n",
       "8     9       1  i thought the da vinci code was a pretty good ...\n",
       "9    10       1  the da vinci code is one of the most beautiful..."
      ]
     },
     "execution_count": 17,
     "metadata": {},
     "output_type": "execute_result"
    }
   ],
   "source": [
    "data = pd.read_csv('train-processed.csv', encoding='latin-1')\n",
    "data.head(n=10)"
   ]
  },
  {
   "cell_type": "code",
   "execution_count": 19,
   "metadata": {},
   "outputs": [
    {
     "data": {
      "image/png": "[encoded data removed]",
      "text/plain": [
       "<Figure size 432x288 with 1 Axes>"
      ]
     },
     "metadata": {},
     "output_type": "display_data"
    }
   ],
   "source": [
    "count_Class=pd.value_counts(data[\"labels\"], sort= True)\n",
    "count_Class.plot(kind= 'bar', color= [\"blue\", \"orange\"])\n",
    "plt.title('Bar chart')\n",
    "plt.show()"
   ]
  },
  {
   "cell_type": "code",
   "execution_count": 20,
   "metadata": {},
   "outputs": [
    {
     "data": {
      "image/png": "[encoded data removed]",
      "text/plain": [
       "<Figure size 432x288 with 1 Axes>"
      ]
     },
     "metadata": {},
     "output_type": "display_data"
    }
   ],
   "source": [
    "count_Class.plot(kind = 'pie',  autopct='%1.0f%%')\n",
    "plt.title('Pie chart')\n",
    "plt.ylabel('')\n",
    "plt.show()"
   ]
  },
  {
   "cell_type": "code",
   "execution_count": 23,
   "metadata": {},
   "outputs": [],
   "source": [
    "count1 = Counter(\" \".join(data[data['labels']==1][\"Bookreviews\"]).split()).most_common(20)\n",
    "df1 = pd.DataFrame.from_dict(count1)\n",
    "df1 = df1.rename(columns={0: \"words in non-spam\", 1 : \"count\"})\n",
    "count2 = Counter(\" \".join(data[data['labels']==0][\"Bookreviews\"]).split()).most_common(20)\n",
    "df2 = pd.DataFrame.from_dict(count2)\n",
    "df2 = df2.rename(columns={0: \"words in spam\", 1 : \"count_\"})"
   ]
  },
  {
   "cell_type": "code",
   "execution_count": 24,
   "metadata": {},
   "outputs": [
    {
     "data": {
      "image/png": "[encoded data removed]",
      "text/plain": [
       "<Figure size 432x288 with 1 Axes>"
      ]
     },
     "metadata": {},
     "output_type": "display_data"
    }
   ],
   "source": [
    "df1.plot.bar(legend = False)\n",
    "y_pos = np.arange(len(df1[\"words in non-spam\"]))\n",
    "plt.xticks(y_pos, df1[\"words in non-spam\"])\n",
    "plt.title('More frequent words in non-spam messages')\n",
    "plt.xlabel('words')\n",
    "plt.ylabel('number')\n",
    "plt.show()"
   ]
  },
  {
   "cell_type": "code",
   "execution_count": 25,
   "metadata": {},
   "outputs": [
    {
     "data": {
      "image/png": "[encoded data removed]",
      "text/plain": [
       "<Figure size 432x288 with 1 Axes>"
      ]
     },
     "metadata": {},
     "output_type": "display_data"
    }
   ],
   "source": [
    "df2.plot.bar(legend = False, color = 'orange')\n",
    "y_pos = np.arange(len(df2[\"words in spam\"]))\n",
    "plt.xticks(y_pos, df2[\"words in spam\"])\n",
    "plt.title('More frequent words in spam messages')\n",
    "plt.xlabel('words')\n",
    "plt.ylabel('number')\n",
    "plt.show()"
   ]
  },
  {
   "cell_type": "code",
   "execution_count": 27,
   "metadata": {},
   "outputs": [
    {
     "data": {
      "text/plain": [
       "(7085, 1943)"
      ]
     },
     "execution_count": 27,
     "metadata": {},
     "output_type": "execute_result"
    }
   ],
   "source": [
    "f = feature_extraction.text.CountVectorizer(stop_words = 'english')\n",
    "X = f.fit_transform(data[\"Bookreviews\"])\n",
    "np.shape(X)"
   ]
  },
  {
   "cell_type": "code",
   "execution_count": 29,
   "metadata": {},
   "outputs": [
    {
     "name": "stdout",
     "output_type": "stream",
     "text": [
      "[(4746, 1943), (2339, 1943)]\n"
     ]
    }
   ],
   "source": [
    "X_train, X_test, y_train, y_test = model_selection.train_test_split(X, data['labels'], test_size=0.33, random_state=42)\n",
    "print([np.shape(X_train), np.shape(X_test)])\n"
   ]
  },
  {
   "cell_type": "code",
   "execution_count": 11,
   "metadata": {},
   "outputs": [
    {
     "name": "stderr",
     "output_type": "stream",
     "text": [
      "Using TensorFlow backend.\n"
     ]
    }
   ],
   "source": [
    "from keras.models import Sequential\n",
    "from keras.layers import Dense\n",
    "import numpy\n",
    "# fix random seed for reproducibility\n",
    "numpy.random.seed(7)"
   ]
  },
  {
   "cell_type": "code",
   "execution_count": 30,
   "metadata": {},
   "outputs": [],
   "source": [
    "model = Sequential()\n",
    "model.add(Dense(850, input_dim=1943, activation='relu'))\n",
    "model.add(Dense(50, activation='relu'))\n",
    "model.add(Dense(1, activation='sigmoid'))"
   ]
  },
  {
   "cell_type": "code",
   "execution_count": 31,
   "metadata": {},
   "outputs": [],
   "source": [
    "model.compile(loss='binary_crossentropy', optimizer='adam', metrics=['accuracy'])"
   ]
  },
  {
   "cell_type": "code",
   "execution_count": 33,
   "metadata": {},
   "outputs": [
    {
     "name": "stdout",
     "output_type": "stream",
     "text": [
      "Epoch 1/3\n",
      "4746/4746 [==============================] - 17s 4ms/step - loss: 4.3730e-04 - acc: 0.9996\n",
      "Epoch 2/3\n",
      "4746/4746 [==============================] - 16s 3ms/step - loss: 3.3717e-04 - acc: 0.9996\n",
      "Epoch 3/3\n",
      "4746/4746 [==============================] - 16s 3ms/step - loss: 3.1719e-04 - acc: 0.9998\n"
     ]
    },
    {
     "data": {
      "text/plain": [
       "<keras.callbacks.History at 0x7f6e4017c9e8>"
      ]
     },
     "execution_count": 33,
     "metadata": {},
     "output_type": "execute_result"
    }
   ],
   "source": [
    "model.fit(X_train, y_train, epochs=3, batch_size=10)"
   ]
  },
  {
   "cell_type": "code",
   "execution_count": 35,
   "metadata": {},
   "outputs": [
    {
     "name": "stdout",
     "output_type": "stream",
     "text": [
      "[array([[-0.02941946, -0.01229598,  0.01292802, ..., -0.01114892,\n",
      "        -0.03908753,  0.03772421],\n",
      "       [-0.01183216, -0.05278742,  0.04835004, ..., -0.02380117,\n",
      "        -0.04765435, -0.00814623],\n",
      "       [ 0.05367716,  0.00697068, -0.02840145, ..., -0.00677197,\n",
      "        -0.00903874,  0.01623227],\n",
      "       ...,\n",
      "       [-0.03311221, -0.0292332 ,  0.02579079, ...,  0.05158156,\n",
      "         0.02702922, -0.00490587],\n",
      "       [ 0.01456697, -0.03459439, -0.01956012, ..., -0.03233696,\n",
      "        -0.00834278,  0.00587935],\n",
      "       [-0.01063213,  0.05366204,  0.00318439, ...,  0.01067384,\n",
      "        -0.0247317 , -0.00135755]], dtype=float32), array([ 3.27522606e-02,  1.18690301e-02,  2.83038486e-02,  2.69437898e-02,\n",
      "        5.53855784e-02,  8.49675573e-03, -1.28403921e-02, -1.65601447e-02,\n",
      "        8.08195770e-02,  3.81468236e-02,  3.31583968e-03,  1.32675376e-02,\n",
      "        1.92900803e-02,  9.74548922e-04, -1.54915117e-02,  1.92601457e-02,\n",
      "        1.47892116e-02,  3.31815034e-02,  2.40542013e-02,  2.30438933e-02,\n",
      "        2.83931624e-02,  4.79610153e-02,  3.67139373e-03,  1.37311518e-02,\n",
      "        2.30278187e-02, -8.25460535e-03,  2.16657389e-02, -4.61264281e-03,\n",
      "        3.52680199e-02, -2.28211582e-02, -1.33473091e-02,  2.68916860e-02,\n",
      "        3.79687659e-02, -7.01614749e-03,  9.57263540e-03,  2.90126279e-02,\n",
      "        2.84139439e-02,  4.66600396e-02,  4.31750566e-02, -1.71941146e-02,\n",
      "        2.97573116e-02,  5.07349111e-02,  3.45136300e-02,  3.04734558e-02,\n",
      "        2.91246828e-02,  4.86029908e-02, -6.41394174e-03,  8.44402052e-03,\n",
      "        1.57513041e-02,  9.26184375e-03, -6.00125687e-03,  2.86359489e-02,\n",
      "        1.77739281e-02,  9.91994981e-03,  3.07183899e-03,  4.46926281e-02,\n",
      "        4.41242009e-02,  1.01648970e-02,  2.24770140e-02,  4.52089502e-04,\n",
      "        2.84086782e-02, -9.33458097e-03,  2.71369796e-02,  4.37658140e-03,\n",
      "       -1.12472037e-02,  1.57375317e-02,  3.05838175e-02, -4.75072972e-02,\n",
      "       -2.62679625e-02,  1.78136937e-02,  2.24015433e-02,  7.84869567e-02,\n",
      "        4.58053052e-02,  3.95531766e-02,  3.10458709e-02,  2.35691592e-02,\n",
      "       -2.69654095e-02, -1.34686418e-02,  1.15568256e-02,  1.69459488e-02,\n",
      "        2.36809477e-02, -1.98463146e-02,  4.28018197e-02,  1.69199072e-02,\n",
      "        3.11219227e-02,  1.69329904e-02,  3.21375043e-03,  3.02504729e-02,\n",
      "        4.22651805e-02,  1.34741301e-02,  1.22157671e-02, -6.30543754e-03,\n",
      "        2.54700631e-02,  1.38496533e-02,  2.11328231e-02,  1.92082096e-02,\n",
      "        3.05459965e-02,  3.26258130e-02,  3.52785401e-02, -2.05217432e-02,\n",
      "        1.35308411e-02, -3.24446261e-02, -1.46434540e-02,  1.15683954e-03,\n",
      "        2.57089008e-02,  2.47309115e-02, -2.19135210e-02,  7.98185822e-04,\n",
      "       -1.97527874e-02,  1.73288714e-02, -1.61652069e-03, -3.22057530e-02,\n",
      "       -9.65737272e-03,  2.98126135e-02,  2.37417780e-02, -4.00954019e-03,\n",
      "       -2.21131928e-02,  6.24807365e-03,  1.95848942e-02,  2.07381719e-03,\n",
      "        1.88848861e-02,  3.20376158e-02,  7.83580635e-03,  6.81409193e-03,\n",
      "       -1.50866695e-02,  4.08731587e-03,  3.92842405e-02,  2.72702165e-02,\n",
      "        8.23807064e-03,  2.96584237e-02, -1.63099766e-02,  1.10321958e-02,\n",
      "        1.46820238e-02,  2.68319827e-02, -9.88975819e-03,  2.47546416e-02,\n",
      "        7.04489707e-04,  3.30709964e-02,  7.85897579e-03, -2.24273596e-02,\n",
      "        2.13045217e-02, -5.65981353e-03, -2.31498908e-02,  2.64781900e-02,\n",
      "        2.25096103e-03,  2.09303815e-02,  1.89040918e-02,  2.00990699e-02,\n",
      "        1.18889296e-02,  2.77746003e-02,  6.97216345e-03,  4.98390384e-03,\n",
      "        2.77314819e-02,  4.44488116e-02,  1.40581466e-02, -7.87650328e-03,\n",
      "        8.83140368e-04,  4.02440578e-02, -3.47969234e-02, -8.83384980e-03,\n",
      "        2.73538101e-02,  1.02730496e-02, -7.27426214e-03,  6.04768982e-03,\n",
      "       -1.72911212e-02,  1.54444398e-02,  4.55479473e-02, -3.89612350e-03,\n",
      "        2.64922176e-02,  2.66630128e-02, -1.47476122e-02,  3.11645889e-03,\n",
      "        1.65256299e-02,  2.76696570e-02,  2.94883046e-02,  8.07161815e-03,\n",
      "        2.64987536e-03,  1.77468974e-02,  2.86095194e-04,  3.68842259e-02,\n",
      "        5.56810061e-03, -2.14711037e-02,  1.69682913e-02, -1.63995083e-02,\n",
      "       -1.40001811e-02,  2.96788625e-02,  9.22780018e-03,  2.07243580e-02,\n",
      "        8.87869112e-03,  1.47036612e-02,  4.01325971e-02, -1.22799426e-02,\n",
      "        4.23165783e-03,  8.08608253e-04,  5.87092945e-03,  5.10036247e-03,\n",
      "       -7.47691188e-03,  3.92318554e-02,  2.65049562e-02,  2.54535619e-02,\n",
      "        4.54898104e-02,  6.34148298e-03,  6.46990072e-03, -1.31317147e-03,\n",
      "        1.57244876e-02,  1.90672725e-02,  3.04862019e-02, -9.31352284e-03,\n",
      "        4.57127318e-02,  7.45999953e-03, -2.79599819e-02, -1.44733479e-02,\n",
      "        2.24703252e-02, -2.38928795e-02,  2.79422719e-02, -1.17773134e-02,\n",
      "        6.58518914e-03,  1.68332513e-02,  5.58193363e-02, -2.21328270e-02,\n",
      "        1.93444528e-02,  3.27053741e-02,  3.62502933e-02, -1.85824223e-02,\n",
      "        4.14893823e-03,  3.38759385e-02,  2.74217548e-03,  4.49196994e-02,\n",
      "        3.98818664e-02,  3.89057165e-03, -6.14298927e-03,  2.76139867e-03,\n",
      "        2.10795756e-02, -1.79599784e-02, -6.61584223e-03,  5.81240691e-02,\n",
      "        1.90606751e-02,  4.50073276e-03, -2.40757950e-02,  1.88851766e-02,\n",
      "        3.03604286e-02, -9.81467776e-03,  1.28306067e-02,  1.07485484e-02,\n",
      "        6.10884279e-03,  3.21738198e-02,  7.45837158e-03,  2.11122930e-02,\n",
      "        1.37297623e-02,  1.81191210e-02,  5.86992055e-02,  2.23952085e-02,\n",
      "        1.25617790e-03,  2.19083279e-02,  1.95747409e-02, -2.11181138e-02,\n",
      "       -2.11041998e-02,  2.52314154e-02,  1.89498682e-02, -6.40695123e-03,\n",
      "        3.61130945e-02,  6.76736748e-03, -1.29674282e-02,  3.08241099e-02,\n",
      "        1.35498410e-02,  6.21839650e-02,  2.36813910e-02,  3.11358161e-02,\n",
      "        3.28436680e-02,  2.28717849e-02,  3.63111198e-02,  1.77773158e-03,\n",
      "        1.65738966e-02,  1.77033283e-02,  2.71048825e-02,  2.15982161e-02,\n",
      "        2.95289066e-02,  2.77521997e-03,  3.91002819e-02,  1.79747809e-02,\n",
      "        2.48360019e-02,  2.38897745e-03,  3.70954424e-02,  8.24884884e-03,\n",
      "       -2.40722466e-02, -6.05061278e-03,  1.97798535e-02,  9.61686205e-03,\n",
      "        2.76091360e-02,  1.65199172e-02,  2.14098450e-02,  2.77815107e-02,\n",
      "        2.56015938e-02,  5.82592795e-03,  3.18454369e-03,  3.35661583e-02,\n",
      "        2.72213928e-02,  3.01854871e-02,  2.17313077e-02, -1.11715235e-02,\n",
      "        3.05729359e-02,  5.72534688e-02, -5.10446681e-03, -8.98210704e-03,\n",
      "        2.96934564e-02,  3.88932787e-02,  9.66774393e-03, -1.71708001e-03,\n",
      "        1.24387443e-02, -2.47395057e-02,  1.65950339e-02,  8.49201251e-03,\n",
      "        2.74725519e-02, -5.73626207e-03,  3.87671478e-02,  2.41872575e-02,\n",
      "       -5.39959619e-05,  3.32928747e-02,  3.64935398e-02,  1.01469019e-02,\n",
      "        7.69769191e-04,  2.21672542e-02,  5.99346729e-03,  1.24127129e-02,\n",
      "        2.07843594e-02,  2.05649026e-02,  3.40204202e-02,  1.81311071e-02,\n",
      "        1.26843639e-02,  1.07823946e-02, -1.96968056e-02,  4.93574031e-02,\n",
      "       -2.49653179e-02,  5.33671072e-03,  2.95808800e-02,  6.39555901e-02,\n",
      "        1.26680871e-02,  2.84725688e-02,  4.04289365e-02,  9.52819362e-03,\n",
      "        2.97876913e-02,  3.12083438e-02,  2.15992099e-03,  1.60420258e-02,\n",
      "       -1.36697246e-03,  1.40167437e-02,  4.35358379e-03,  2.76043005e-02,\n",
      "        2.03617699e-02,  2.55980864e-02, -3.57300695e-03, -5.05642332e-02,\n",
      "        2.48035695e-02, -1.75303605e-04,  3.76515128e-02,  2.35268902e-02,\n",
      "       -4.34401492e-03,  1.95797253e-02,  3.09163984e-02,  1.43408906e-02,\n",
      "        2.37478204e-02,  6.27390891e-02,  3.69443111e-02,  8.17637239e-03,\n",
      "        2.83958893e-02,  2.81456579e-02,  1.53504489e-02, -4.08524722e-02,\n",
      "        2.43822522e-02,  1.67038534e-02,  8.30144901e-03,  1.20569095e-02,\n",
      "        6.68611601e-02,  1.78017914e-02,  8.23803991e-03,  1.24863619e-02,\n",
      "       -3.28584015e-02,  1.74545925e-02,  8.77274666e-03,  1.24837533e-02,\n",
      "       -6.61601266e-03, -4.77041863e-03,  2.13871952e-02,  7.62497867e-03,\n",
      "        2.27900930e-02,  1.66236963e-02,  4.54385858e-03,  2.44965982e-02,\n",
      "        2.44179759e-02,  3.16066593e-02,  7.71378214e-03,  1.17702009e-02,\n",
      "        1.55161377e-02,  8.56767502e-03,  3.81726548e-02, -4.09597997e-03,\n",
      "        3.12528051e-02,  1.96575690e-02, -1.03691742e-02,  1.45984357e-02,\n",
      "        2.27198079e-02,  6.98315911e-04,  1.87767092e-02,  3.98174423e-04,\n",
      "        2.36888081e-02,  2.90682632e-02, -4.18940112e-02,  8.40632152e-03,\n",
      "        1.00445645e-02,  2.65134051e-02,  3.23491842e-02, -3.34060681e-03,\n",
      "        4.06695753e-02,  4.05668132e-02,  1.22561697e-02,  3.15123424e-02,\n",
      "        4.64795297e-03, -1.97372455e-02,  3.06462850e-02,  1.03458930e-02,\n",
      "        3.70039828e-02, -2.63198968e-02,  7.18326569e-02,  5.45882359e-02,\n",
      "        3.53056937e-02,  1.86042432e-02,  4.48444532e-03,  3.58694121e-02,\n",
      "        9.42687411e-03,  1.78939030e-02,  3.15634049e-02,  1.05274434e-03,\n",
      "        5.98411681e-03,  1.43987508e-02,  8.35155509e-03, -1.35868555e-02,\n",
      "        1.63331944e-02,  1.02701243e-02,  5.46741486e-03, -1.24263903e-02,\n",
      "        3.13734673e-02,  2.20842529e-02, -3.30417720e-03,  1.94885042e-02,\n",
      "        1.23445615e-02,  3.03894188e-02,  2.18634401e-02, -3.53390351e-03,\n",
      "        1.41205471e-02, -2.98472680e-03,  4.95195715e-03,  2.71722544e-02,\n",
      "        1.15041789e-02,  1.96994934e-02,  1.16060358e-02,  4.13502082e-02,\n",
      "       -1.08601665e-02,  2.00919509e-02,  1.71900913e-02,  3.22725698e-02,\n",
      "        1.65111180e-02, -1.71487499e-02,  2.42027745e-05,  6.62377756e-03,\n",
      "        1.07648270e-02,  1.83922332e-02, -7.13845307e-04,  9.76489391e-03,\n",
      "       -1.69833854e-03,  6.74124015e-03,  2.04123780e-02,  1.28749320e-02,\n",
      "        2.92861033e-02,  1.30210407e-02,  1.76236909e-02,  6.41257968e-03,\n",
      "       -5.96894231e-03, -8.71578977e-03,  4.65865396e-02,  3.58836865e-03,\n",
      "       -1.47595853e-02,  7.67567754e-03, -1.54145267e-02,  5.27458871e-03,\n",
      "        2.00653393e-02, -9.41710605e-04,  2.14356780e-02, -3.80036677e-03,\n",
      "       -3.46094854e-02, -1.62939727e-02,  8.22414551e-03, -3.15097906e-02,\n",
      "        2.92299464e-02,  5.25405770e-03,  6.08475273e-03,  4.18085605e-03,\n",
      "        1.12594161e-02, -2.26053167e-02,  1.32023860e-02,  1.31432526e-02,\n",
      "        7.39168422e-03,  3.59485857e-02,  3.97477709e-02,  4.87071276e-03,\n",
      "        2.93030441e-02,  9.99660417e-03,  3.00687198e-02,  6.67910604e-03,\n",
      "        3.03367544e-02,  3.50941941e-02,  1.57679692e-02,  2.66497843e-02,\n",
      "        7.62787368e-03, -6.99609052e-03,  4.29007411e-02, -5.48174419e-03,\n",
      "        2.90443674e-02,  9.28529352e-03, -1.51963253e-03, -1.53872206e-05,\n",
      "        2.26394329e-02,  3.58662270e-02, -1.17251417e-02, -8.99937190e-03,\n",
      "        2.43272334e-02,  3.77190602e-03, -2.34811846e-02, -2.22891588e-02,\n",
      "        1.34569854e-02,  1.77833140e-02,  1.48347076e-02,  1.59800537e-02,\n",
      "        1.45490989e-02,  3.14812809e-02,  6.84851855e-02,  2.22327579e-02,\n",
      "        1.07766930e-02,  2.48009432e-02,  2.52801273e-02,  1.37727065e-02,\n",
      "        3.55419554e-02, -2.09572036e-02, -5.06832935e-02, -1.20766526e-02,\n",
      "       -1.99301578e-02,  4.19015512e-02,  1.06698740e-02,  3.44806071e-03,\n",
      "        1.66908167e-02,  3.19537148e-02,  1.11087365e-02,  1.80675667e-02,\n",
      "        4.80878446e-03,  2.56727785e-02,  1.78125054e-02,  1.25129186e-02,\n",
      "        2.83407532e-02,  1.79228727e-02,  3.00218258e-02,  1.24362865e-02,\n",
      "        2.27336530e-02,  2.69569438e-02,  4.32542674e-02, -3.45309041e-02,\n",
      "        9.57800634e-03,  4.32367623e-02,  1.67173836e-02,  2.01657582e-02,\n",
      "        3.85397002e-02,  1.58869773e-02,  3.81333716e-02, -1.09949727e-02,\n",
      "        3.50776897e-03,  1.77896004e-02,  3.50009911e-02,  1.47912689e-02,\n",
      "       -4.01619443e-04,  1.89974662e-02,  1.24962637e-02, -2.36419439e-02,\n",
      "        1.73504073e-02,  3.45687196e-02, -1.97635666e-02,  5.36819994e-02,\n",
      "       -7.02303136e-03,  9.20040009e-04,  3.39037701e-02,  2.91953329e-02,\n",
      "        2.80849133e-02, -1.11039989e-02,  4.53335755e-02,  1.12408008e-02,\n",
      "        3.37214023e-02,  4.55860468e-03,  3.34902033e-02, -7.04244711e-03,\n",
      "        2.86558680e-02,  1.84289347e-02, -3.56306992e-02,  1.07576773e-02,\n",
      "        2.82995421e-02,  2.19028126e-02, -1.08779604e-02, -1.77810974e-02,\n",
      "       -5.57832280e-03, -1.26585672e-02,  1.36226714e-02,  5.00639044e-02,\n",
      "        1.31792314e-02,  7.66773429e-03,  1.22517729e-02,  6.33222982e-03,\n",
      "       -1.30524412e-02,  1.13492580e-02,  3.97499725e-02,  1.74204092e-02,\n",
      "        6.74769357e-02, -2.39199344e-02,  3.57373059e-02,  2.65677314e-04,\n",
      "        4.95725609e-02, -2.03420725e-02,  2.19608657e-02,  3.56886424e-02,\n",
      "        2.22142115e-02, -4.00298042e-03,  4.27626930e-02,  9.39472578e-03,\n",
      "        4.78944182e-03,  2.67540589e-02,  5.85780432e-03,  1.46094123e-02,\n",
      "        7.62136141e-03,  3.85495350e-02, -7.81437661e-03,  1.75555684e-02,\n",
      "        1.15308939e-02,  1.69454496e-02,  3.64901349e-02, -4.89869760e-03,\n",
      "        2.82302089e-02,  1.50942439e-02,  3.71250953e-03,  3.16934325e-02,\n",
      "        1.12627326e-02,  2.45601051e-02,  3.39884162e-02,  2.91767046e-02,\n",
      "        2.71423627e-02, -4.52086749e-03,  2.59013567e-02,  9.50969383e-03,\n",
      "        7.71451741e-04,  3.07579357e-02, -5.81575744e-03, -1.04050273e-02,\n",
      "        3.62018384e-02,  3.35177109e-02,  1.81467347e-02,  1.49204060e-02,\n",
      "        4.87348214e-02, -1.42766107e-02, -9.57471691e-03,  6.96504442e-03,\n",
      "        4.71385382e-03,  1.54062044e-02, -2.77050845e-02,  9.45080072e-03,\n",
      "        3.71760223e-04,  4.73535880e-02, -3.94167285e-03, -1.96025837e-02,\n",
      "       -8.90547503e-03,  2.65830271e-02,  5.70764625e-03, -1.93403673e-03,\n",
      "        3.29369269e-02, -1.85028818e-02,  3.90300876e-03,  2.85502300e-02,\n",
      "       -1.22122914e-02,  2.61139087e-02,  2.51509026e-02,  2.45794151e-02,\n",
      "        2.29686382e-03,  3.23619060e-02,  1.06627317e-02,  3.32848690e-02,\n",
      "        3.47144604e-02,  1.37725435e-02, -1.04756635e-02,  3.82539420e-03,\n",
      "        4.47884016e-02, -1.07022207e-02,  3.34156901e-02, -1.99044328e-02,\n",
      "        7.37220189e-03,  2.06898637e-02,  2.94095222e-02,  8.27288069e-03,\n",
      "        3.54434848e-02, -1.25746308e-02,  1.59962066e-02,  4.93137985e-02,\n",
      "        6.05781674e-02,  2.32849736e-02, -1.82880238e-02,  1.45984311e-02,\n",
      "        2.33890116e-02,  2.43896227e-02,  1.18501503e-02,  4.94358072e-04,\n",
      "        6.94032991e-03,  3.05082072e-02,  7.30468193e-03,  5.99481771e-03,\n",
      "        3.28198657e-03,  3.65725495e-02, -2.84838509e-02,  4.70364243e-02,\n",
      "       -3.11195906e-02,  2.15010401e-02,  1.35667771e-02,  3.17464881e-02,\n",
      "        2.62882188e-03,  3.45933363e-02,  5.72688803e-02, -1.23529984e-02,\n",
      "        4.74310033e-02,  6.01259023e-02, -1.59055013e-02,  4.19668332e-02,\n",
      "        4.98550804e-03, -1.66091006e-02, -9.31412727e-03, -1.19067337e-02,\n",
      "        2.59228535e-02,  3.86958160e-02,  2.09661759e-02,  2.82502174e-02,\n",
      "        2.50130035e-02,  2.67312936e-02, -1.13547035e-02,  1.45147247e-02,\n",
      "        8.78904667e-03,  4.99423593e-02,  8.22779350e-03,  5.00416849e-03,\n",
      "        1.56372171e-02,  3.84559631e-02, -1.36666009e-02,  1.18993921e-02,\n",
      "        3.56924422e-02, -2.30536424e-02,  2.97612716e-02,  4.75916117e-02,\n",
      "       -9.57623532e-04,  2.96923099e-03, -2.98001487e-02,  5.90823293e-02,\n",
      "        2.06837598e-02,  5.51244691e-02,  4.10898775e-02,  1.58788916e-02,\n",
      "        5.18157557e-02, -4.60795034e-03,  2.92706545e-02,  1.35302264e-02,\n",
      "        1.05073676e-02, -3.91749553e-02,  3.74633260e-02,  2.52963472e-02,\n",
      "        1.26694748e-02,  3.67388576e-02,  4.41744812e-02, -3.29454094e-02,\n",
      "       -1.29446760e-02,  3.71026359e-02,  3.29965390e-02,  3.73129398e-02,\n",
      "       -2.09185984e-02,  1.99948531e-02,  8.05983040e-03, -3.13314684e-02,\n",
      "        2.46893172e-03,  5.34708984e-02,  3.25592272e-02, -4.07626703e-02,\n",
      "        1.56676657e-02,  2.70449650e-02, -2.37676278e-02,  3.07383407e-02,\n",
      "        3.54680344e-02,  4.07859273e-02,  1.36120860e-02,  1.77545846e-02,\n",
      "        3.19935381e-02,  1.18939988e-02,  2.15151366e-02,  1.62009187e-02,\n",
      "       -1.25143572e-03,  1.64834503e-02, -1.53729767e-02,  2.97420584e-02,\n",
      "        2.79651936e-02, -5.31243067e-03,  2.67041624e-02, -9.84337274e-03,\n",
      "        2.39619389e-02,  1.10291587e-02,  2.64489767e-03,  1.58735737e-02,\n",
      "        2.11977568e-02,  1.37287192e-02,  3.82457152e-02,  1.94840152e-02,\n",
      "        1.99655294e-02,  1.90758221e-02, -3.37635237e-03,  3.63736898e-02,\n",
      "        1.00780409e-02,  3.85637730e-02,  3.53219919e-02,  3.29074748e-02,\n",
      "        3.00215464e-02,  3.53089236e-02,  2.59850454e-03,  1.73869990e-02,\n",
      "        1.08317509e-02,  6.03197189e-03, -6.11873809e-03, -4.50422382e-03,\n",
      "        5.20740785e-02,  3.46000399e-03,  1.89776085e-02,  2.75761522e-02,\n",
      "       -7.24030240e-03,  1.81615576e-02, -2.24791677e-03,  2.13955734e-02,\n",
      "        2.64166994e-03, -3.93936923e-03,  4.29939553e-02,  3.95655707e-02,\n",
      "        1.59676634e-02,  2.16038711e-02, -2.81724054e-02,  1.77863128e-02,\n",
      "        1.81442145e-02,  3.25566456e-02], dtype=float32)]\n",
      "[array([[-0.01684798,  0.0524503 , -0.02556061, ..., -0.08084296,\n",
      "        -0.041275  ,  0.02371355],\n",
      "       [ 0.02554045, -0.01872185, -0.01808119, ...,  0.05903045,\n",
      "         0.00493129, -0.0135933 ],\n",
      "       [-0.01089878, -0.03114105, -0.03752394, ..., -0.08103127,\n",
      "         0.02689139,  0.00257114],\n",
      "       ...,\n",
      "       [ 0.04274387,  0.0124817 ,  0.04802111, ...,  0.08344677,\n",
      "         0.04250877,  0.05619784],\n",
      "       [ 0.00910104,  0.11114027, -0.00853324, ...,  0.11956432,\n",
      "         0.02077158, -0.06468612],\n",
      "       [ 0.08807334, -0.07432668, -0.00499715, ...,  0.00379886,\n",
      "        -0.05540007,  0.0459752 ]], dtype=float32), array([ 0.01677439,  0.00970579,  0.0009878 ,  0.03294721,  0.01416622,\n",
      "        0.01441116,  0.01750666,  0.01416241,  0.01630524,  0.01991965,\n",
      "        0.01254867,  0.02537208,  0.0202974 ,  0.01654609, -0.00531241,\n",
      "        0.01464277,  0.01777979,  0.0160615 ,  0.0210089 ,  0.02190603,\n",
      "       -0.00926728,  0.01862803,  0.00313164,  0.01592688,  0.02506263,\n",
      "        0.01500404,  0.00908533,  0.02027926,  0.01186694,  0.01713181,\n",
      "        0.0173949 ,  0.01182857,  0.00567926,  0.02059402,  0.02424363,\n",
      "        0.01800557,  0.01025849,  0.01203146,  0.01765305,  0.01825279,\n",
      "        0.01819024,  0.01901149,  0.02339944,  0.01680762,  0.01046813,\n",
      "        0.01773649,  0.00114396,  0.01168454,  0.00251285,  0.00920842],\n",
      "      dtype=float32)]\n",
      "[array([[ 0.1036571 ],\n",
      "       [-0.23548937],\n",
      "       [ 0.21905029],\n",
      "       [ 0.08736746],\n",
      "       [-0.3615453 ],\n",
      "       [-0.20117971],\n",
      "       [ 0.16167924],\n",
      "       [-0.17095542],\n",
      "       [ 0.106084  ],\n",
      "       [-0.15728994],\n",
      "       [-0.37276745],\n",
      "       [ 0.15179473],\n",
      "       [ 0.11586767],\n",
      "       [-0.28846958],\n",
      "       [-0.1360072 ],\n",
      "       [-0.22293803],\n",
      "       [ 0.11765534],\n",
      "       [-0.12650067],\n",
      "       [ 0.31230578],\n",
      "       [ 0.27233413],\n",
      "       [-0.1929611 ],\n",
      "       [ 0.15740846],\n",
      "       [-0.20651984],\n",
      "       [-0.29923445],\n",
      "       [ 0.20333092],\n",
      "       [-0.18827067],\n",
      "       [ 0.16136856],\n",
      "       [ 0.22093941],\n",
      "       [-0.28457165],\n",
      "       [ 0.28621072],\n",
      "       [-0.12535173],\n",
      "       [-0.28002453],\n",
      "       [-0.1341219 ],\n",
      "       [ 0.3053775 ],\n",
      "       [-0.19304165],\n",
      "       [ 0.309976  ],\n",
      "       [-0.14733429],\n",
      "       [-0.21267243],\n",
      "       [ 0.0696383 ],\n",
      "       [ 0.3705818 ],\n",
      "       [ 0.17061973],\n",
      "       [ 0.39195523],\n",
      "       [ 0.24161294],\n",
      "       [ 0.31541023],\n",
      "       [-0.23034085],\n",
      "       [-0.306544  ],\n",
      "       [-0.3351563 ],\n",
      "       [-0.15578137],\n",
      "       [-0.07388093],\n",
      "       [ 0.22616777]], dtype=float32), array([0.00668421], dtype=float32)]\n"
     ]
    }
   ],
   "source": [
    "for layer in model.layers:\n",
    "    print(layer.get_weights())\n",
    "    \n"
   ]
  },
  {
   "cell_type": "code",
   "execution_count": null,
   "metadata": {},
   "outputs": [],
   "source": []
  }
 ],
 "metadata": {
  "kernelspec": {
   "display_name": "Python 3",
   "language": "python",
   "name": "python3"
  },
  "language_info": {
   "codemirror_mode": {
    "name": "ipython",
    "version": 3
   },
   "file_extension": ".py",
   "mimetype": "text/x-python",
   "name": "python",
   "nbconvert_exporter": "python",
   "pygments_lexer": "ipython3",
   "version": "3.7.0"
  }
 },
 "nbformat": 4,
 "nbformat_minor": 2
}
