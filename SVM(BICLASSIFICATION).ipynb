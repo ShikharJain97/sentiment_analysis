{
 "cells": [
  {
   "cell_type": "code",
   "execution_count": 6,
   "metadata": {},
   "outputs": [],
   "source": [
    "import numpy as np\n",
    "import pandas as pd\n",
    "import matplotlib.pyplot as plt\n",
    "from collections import Counter\n",
    "from sklearn import feature_extraction, metrics, svm,model_selection\n",
    "from IPython.display import Image\n",
    "from nltk.corpus import stopwords\n",
    "from nltk.stem.snowball import SnowballStemmer\n",
    "from nltk.stem.porter import PorterStemmer\n",
    "from nltk.tokenize import word_tokenize\n",
    "from nltk.stem import WordNetLemmatizer\n",
    "import math\n",
    "import warnings\n",
    "warnings.filterwarnings(\"ignore\")\n",
    "%matplotlib inline  \n"
   ]
  },
  {
   "cell_type": "code",
   "execution_count": 8,
   "metadata": {},
   "outputs": [
    {
     "data": {
      "text/html": [
       "<div>\n",
       "<style scoped>\n",
       "    .dataframe tbody tr th:only-of-type {\n",
       "        vertical-align: middle;\n",
       "    }\n",
       "\n",
       "    .dataframe tbody tr th {\n",
       "        vertical-align: top;\n",
       "    }\n",
       "\n",
       "    .dataframe thead th {\n",
       "        text-align: right;\n",
       "    }\n",
       "</style>\n",
       "<table border=\"1\" class=\"dataframe\">\n",
       "  <thead>\n",
       "    <tr style=\"text-align: right;\">\n",
       "      <th></th>\n",
       "      <th>Sno.</th>\n",
       "      <th>labels</th>\n",
       "      <th>Bookreviews</th>\n",
       "    </tr>\n",
       "  </thead>\n",
       "  <tbody>\n",
       "    <tr>\n",
       "      <th>0</th>\n",
       "      <td>1</td>\n",
       "      <td>1</td>\n",
       "      <td>this was the first clive cussler ive ever read...</td>\n",
       "    </tr>\n",
       "    <tr>\n",
       "      <th>1</th>\n",
       "      <td>2</td>\n",
       "      <td>1</td>\n",
       "      <td>i liked the da vinci code a lot</td>\n",
       "    </tr>\n",
       "    <tr>\n",
       "      <th>2</th>\n",
       "      <td>3</td>\n",
       "      <td>1</td>\n",
       "      <td>i liked the da vinci code a lot</td>\n",
       "    </tr>\n",
       "    <tr>\n",
       "      <th>3</th>\n",
       "      <td>4</td>\n",
       "      <td>1</td>\n",
       "      <td>i liked the da vinci code but it ultimatly did...</td>\n",
       "    </tr>\n",
       "    <tr>\n",
       "      <th>4</th>\n",
       "      <td>5</td>\n",
       "      <td>1</td>\n",
       "      <td>thats not even an exaggeration and at midnight...</td>\n",
       "    </tr>\n",
       "    <tr>\n",
       "      <th>5</th>\n",
       "      <td>6</td>\n",
       "      <td>1</td>\n",
       "      <td>i loved the da vinci code but now i want somet...</td>\n",
       "    </tr>\n",
       "    <tr>\n",
       "      <th>6</th>\n",
       "      <td>7</td>\n",
       "      <td>1</td>\n",
       "      <td>i thought da vinci code was great same with ki...</td>\n",
       "    </tr>\n",
       "    <tr>\n",
       "      <th>7</th>\n",
       "      <td>8</td>\n",
       "      <td>1</td>\n",
       "      <td>the da vinci code is actually a good movie</td>\n",
       "    </tr>\n",
       "    <tr>\n",
       "      <th>8</th>\n",
       "      <td>9</td>\n",
       "      <td>1</td>\n",
       "      <td>i thought the da vinci code was a pretty good ...</td>\n",
       "    </tr>\n",
       "    <tr>\n",
       "      <th>9</th>\n",
       "      <td>10</td>\n",
       "      <td>1</td>\n",
       "      <td>the da vinci code is one of the most beautiful...</td>\n",
       "    </tr>\n",
       "  </tbody>\n",
       "</table>\n",
       "</div>"
      ],
      "text/plain": [
       "   Sno.  labels                                        Bookreviews\n",
       "0     1       1  this was the first clive cussler ive ever read...\n",
       "1     2       1                    i liked the da vinci code a lot\n",
       "2     3       1                    i liked the da vinci code a lot\n",
       "3     4       1  i liked the da vinci code but it ultimatly did...\n",
       "4     5       1  thats not even an exaggeration and at midnight...\n",
       "5     6       1  i loved the da vinci code but now i want somet...\n",
       "6     7       1  i thought da vinci code was great same with ki...\n",
       "7     8       1         the da vinci code is actually a good movie\n",
       "8     9       1  i thought the da vinci code was a pretty good ...\n",
       "9    10       1  the da vinci code is one of the most beautiful..."
      ]
     },
     "execution_count": 8,
     "metadata": {},
     "output_type": "execute_result"
    }
   ],
   "source": [
    "review_data = pd.read_csv('/home/dexterslaj/train-processed.csv', encoding='latin-1')\n",
    "review_data.head(n=10)\n",
    "#for x in review_data.itertuples():\n",
    "    #print(x[3])\n"
   ]
  },
  {
   "cell_type": "code",
   "execution_count": 9,
   "metadata": {},
   "outputs": [],
   "source": [
    "review_data.drop(['Sno.'],axis = 1,inplace=True)"
   ]
  },
  {
   "cell_type": "code",
   "execution_count": 10,
   "metadata": {},
   "outputs": [
    {
     "data": {
      "text/html": [
       "<div>\n",
       "<style scoped>\n",
       "    .dataframe tbody tr th:only-of-type {\n",
       "        vertical-align: middle;\n",
       "    }\n",
       "\n",
       "    .dataframe tbody tr th {\n",
       "        vertical-align: top;\n",
       "    }\n",
       "\n",
       "    .dataframe thead th {\n",
       "        text-align: right;\n",
       "    }\n",
       "</style>\n",
       "<table border=\"1\" class=\"dataframe\">\n",
       "  <thead>\n",
       "    <tr style=\"text-align: right;\">\n",
       "      <th></th>\n",
       "      <th>labels</th>\n",
       "      <th>Bookreviews</th>\n",
       "    </tr>\n",
       "  </thead>\n",
       "  <tbody>\n",
       "    <tr>\n",
       "      <th>0</th>\n",
       "      <td>1</td>\n",
       "      <td>this was the first clive cussler ive ever read...</td>\n",
       "    </tr>\n",
       "    <tr>\n",
       "      <th>1</th>\n",
       "      <td>1</td>\n",
       "      <td>i liked the da vinci code a lot</td>\n",
       "    </tr>\n",
       "    <tr>\n",
       "      <th>2</th>\n",
       "      <td>1</td>\n",
       "      <td>i liked the da vinci code a lot</td>\n",
       "    </tr>\n",
       "    <tr>\n",
       "      <th>3</th>\n",
       "      <td>1</td>\n",
       "      <td>i liked the da vinci code but it ultimatly did...</td>\n",
       "    </tr>\n",
       "    <tr>\n",
       "      <th>4</th>\n",
       "      <td>1</td>\n",
       "      <td>thats not even an exaggeration and at midnight...</td>\n",
       "    </tr>\n",
       "    <tr>\n",
       "      <th>5</th>\n",
       "      <td>1</td>\n",
       "      <td>i loved the da vinci code but now i want somet...</td>\n",
       "    </tr>\n",
       "    <tr>\n",
       "      <th>6</th>\n",
       "      <td>1</td>\n",
       "      <td>i thought da vinci code was great same with ki...</td>\n",
       "    </tr>\n",
       "    <tr>\n",
       "      <th>7</th>\n",
       "      <td>1</td>\n",
       "      <td>the da vinci code is actually a good movie</td>\n",
       "    </tr>\n",
       "    <tr>\n",
       "      <th>8</th>\n",
       "      <td>1</td>\n",
       "      <td>i thought the da vinci code was a pretty good ...</td>\n",
       "    </tr>\n",
       "    <tr>\n",
       "      <th>9</th>\n",
       "      <td>1</td>\n",
       "      <td>the da vinci code is one of the most beautiful...</td>\n",
       "    </tr>\n",
       "  </tbody>\n",
       "</table>\n",
       "</div>"
      ],
      "text/plain": [
       "   labels                                        Bookreviews\n",
       "0       1  this was the first clive cussler ive ever read...\n",
       "1       1                    i liked the da vinci code a lot\n",
       "2       1                    i liked the da vinci code a lot\n",
       "3       1  i liked the da vinci code but it ultimatly did...\n",
       "4       1  thats not even an exaggeration and at midnight...\n",
       "5       1  i loved the da vinci code but now i want somet...\n",
       "6       1  i thought da vinci code was great same with ki...\n",
       "7       1         the da vinci code is actually a good movie\n",
       "8       1  i thought the da vinci code was a pretty good ...\n",
       "9       1  the da vinci code is one of the most beautiful..."
      ]
     },
     "execution_count": 10,
     "metadata": {},
     "output_type": "execute_result"
    }
   ],
   "source": [
    "review_data.head(n=10)"
   ]
  },
  {
   "cell_type": "code",
   "execution_count": 11,
   "metadata": {},
   "outputs": [
    {
     "data": {
      "image/png": "[encoded data removed]",
      "text/plain": [
       "<Figure size 720x720 with 1 Axes>"
      ]
     },
     "metadata": {
      "needs_background": "light"
     },
     "output_type": "display_data"
    },
    {
     "name": "stdout",
     "output_type": "stream",
     "text": [
      "1    3994\n",
      "0    3091\n",
      "Name: labels, dtype: int64\n"
     ]
    }
   ],
   "source": [
    "count_Class=pd.value_counts(review_data[\"labels\"], sort=True)\n",
    "count_Class.plot(kind= 'bar', color= [\"blue\", \"orange\"],figsize=(10.0,10.0))\n",
    "plt.title('Bar chart')\n",
    "plt.show()\n",
    "print(pd.value_counts(review_data['labels']))"
   ]
  },
  {
   "cell_type": "code",
   "execution_count": 12,
   "metadata": {},
   "outputs": [
    {
     "data": {
      "image/png": "[encoded data removed]",
      "text/plain": [
       "<Figure size 720x720 with 1 Axes>"
      ]
     },
     "metadata": {},
     "output_type": "display_data"
    }
   ],
   "source": [
    "count_Class.plot(kind = 'pie',  autopct='%1.2f%%',figsize=(10.0,10.0))\n",
    "plt.title('Pie chart')\n",
    "plt.ylabel('')\n",
    "plt.show()"
   ]
  },
  {
   "cell_type": "code",
   "execution_count": 13,
   "metadata": {},
   "outputs": [
    {
     "name": "stdout",
     "output_type": "stream",
     "text": [
      "                   wordscount\n",
      "this                       99\n",
      "was                       838\n",
      "the                      1835\n",
      "first                      97\n",
      "clive                       1\n",
      "cussler                     1\n",
      "ive                         5\n",
      "ever                        7\n",
      "read                      101\n",
      "but                       145\n",
      "even                       12\n",
      "books                      22\n",
      "like                      871\n",
      "relic                       1\n",
      "and                       957\n",
      "da                        998\n",
      "vinci                     999\n",
      "code                      994\n",
      "were                      166\n",
      "more                       90\n",
      "plausible                   1\n",
      "than                        8\n",
      "i                        3222\n",
      "liked                      99\n",
      "a                         772\n",
      "lot                        15\n",
      "it                        404\n",
      "ultimatly                   1\n",
      "didnt                       2\n",
      "seem                        1\n",
      "...                       ...\n",
      "scorebrokeback              1\n",
      "score                       2\n",
      "changes                     1\n",
      "receive                     1\n",
      "give                        1\n",
      "director                    1\n",
      "mountainthis                1\n",
      "finish                      1\n",
      "random                      1\n",
      "thoughts                    1\n",
      "bitter                      1\n",
      "bound                       1\n",
      "white                       1\n",
      "racism                      1\n",
      "wins                        1\n",
      "acceptable                 81\n",
      "mainstream                  1\n",
      "challenge                   1\n",
      "cultures                    1\n",
      "heteronormativity           1\n",
      "dissapointed                1\n",
      "surprised                   1\n",
      "actor                       1\n",
      "packed                      1\n",
      "sceneries                   1\n",
      "hes                        80\n",
      "acne                       80\n",
      "dudee                      80\n",
      "homosexuality              80\n",
      "becoming                   80\n",
      "\n",
      "[1342 rows x 1 columns]\n"
     ]
    }
   ],
   "source": [
    "count1 = Counter(\" \".join(review_data[review_data[\"labels\"]== 1][\"Bookreviews\"]).split())\n",
    "\n",
    "df1 = pd.DataFrame.from_dict(count1,orient='index')\n",
    "#print(df1)\n",
    "df1 = df1.rename(columns={0: \"wordscount\", 1 : \"count\"})\n",
    "\n",
    "print(df1)\n",
    "count2 = Counter(\" \".join(review_data[review_data['labels']==0][\"Bookreviews\"]).split())\n",
    "df2 = pd.DataFrame.from_dict(count2,orient='index')\n",
    "df2 = df2.rename(columns={0: \"wordscount\", 1 : \"count_\"})\n",
    "\n"
   ]
  },
  {
   "cell_type": "code",
   "execution_count": 14,
   "metadata": {},
   "outputs": [
    {
     "name": "stdout",
     "output_type": "stream",
     "text": [
      "             wordscount\n",
      "da                 1001\n",
      "vinci              1001\n",
      "code                997\n",
      "was                 337\n",
      "a                   533\n",
      "terrible            174\n",
      "movie               555\n",
      "then                 92\n",
      "again                 6\n",
      "the                1387\n",
      "is                  529\n",
      "super                 2\n",
      "shitty                4\n",
      "and                1195\n",
      "it                  316\n",
      "made                  7\n",
      "like                 23\n",
      "million               1\n",
      "comes                 1\n",
      "out                 171\n",
      "tomorrow              1\n",
      "which               119\n",
      "sucks               600\n",
      "i                  1417\n",
      "thought              14\n",
      "really              188\n",
      "boring               92\n",
      "god                   6\n",
      "yahoo                 1\n",
      "games                 1\n",
      "...                 ...\n",
      "figures               1\n",
      "fully                 1\n",
      "clothed               1\n",
      "year                  1\n",
      "combonation           1\n",
      "halfway               1\n",
      "van                   1\n",
      "insurance             1\n",
      "runs                  1\n",
      "soon                  1\n",
      "room                  1\n",
      "messy                 1\n",
      "clean                 1\n",
      "ony                   1\n",
      "monchel               1\n",
      "brigid                1\n",
      "damn                  1\n",
      "snuck                80\n",
      "helped               80\n",
      "bobbypin             80\n",
      "insanely             80\n",
      "hat                  80\n",
      "laughed              80\n",
      "cowboy               80\n",
      "dads                 80\n",
      "sit                  80\n",
      "mtv                  80\n",
      "awards               80\n",
      "reminded             80\n",
      "despised             80\n",
      "\n",
      "[1382 rows x 1 columns]\n"
     ]
    }
   ],
   "source": [
    "print(df2)"
   ]
  },
  {
   "cell_type": "code",
   "execution_count": null,
   "metadata": {},
   "outputs": [],
   "source": []
  },
  {
   "cell_type": "code",
   "execution_count": 34,
   "metadata": {},
   "outputs": [],
   "source": [
    "#snowball= SnowballStemmer('english')\n",
    "\n",
    "#stopwordslist=list(stopwords.words('english'))"
   ]
  },
  {
   "cell_type": "code",
   "execution_count": 15,
   "metadata": {},
   "outputs": [],
   "source": [
    "import nltk"
   ]
  },
  {
   "cell_type": "code",
   "execution_count": 36,
   "metadata": {},
   "outputs": [],
   "source": [
    "#nltk.download('stopwords')"
   ]
  },
  {
   "cell_type": "code",
   "execution_count": 16,
   "metadata": {},
   "outputs": [
    {
     "name": "stdout",
     "output_type": "stream",
     "text": [
      "['he', 'is', 'a', 'naughtly', 'boy', '.', 'he', 'is', 'doing', 'python', 'pythonly', 'in', 'a', 'pythonously', 'better', 'way']\n",
      "he\n",
      "is\n",
      "a\n",
      "naught\n",
      "boy\n",
      ".\n",
      "he\n",
      "is\n",
      "do\n",
      "python\n",
      "python\n",
      "in\n",
      "a\n",
      "python\n",
      "better\n",
      "way\n"
     ]
    }
   ],
   "source": [
    "snowball= SnowballStemmer('english')\n",
    "porter=PorterStemmer()\n",
    "c=\" he is a naughtly boy. he is doing python pythonly in a pythonously better way\"\n",
    "c1=word_tokenize(c)\n",
    "print(c1)\n",
    "for x in c1:\n",
    "    print(snowball.stem(x))\n",
    "lemmatizer=WordNetLemmatizer()\n",
    "stopwordslist=list(stopwords.words('english'))"
   ]
  },
  {
   "cell_type": "code",
   "execution_count": 17,
   "metadata": {},
   "outputs": [
    {
     "name": "stdout",
     "output_type": "stream",
     "text": [
      "['i', 'me', 'my', 'myself', 'we', 'our', 'ours', 'ourselves', 'you', \"you're\", \"you've\", \"you'll\", \"you'd\", 'your', 'yours', 'yourself', 'yourselves', 'he', 'him', 'his', 'himself', 'she', \"she's\", 'her', 'hers', 'herself', 'it', \"it's\", 'its', 'itself', 'they', 'them', 'their', 'theirs', 'themselves', 'what', 'which', 'who', 'whom', 'this', 'that', \"that'll\", 'these', 'those', 'am', 'is', 'are', 'was', 'were', 'be', 'been', 'being', 'have', 'has', 'had', 'having', 'do', 'does', 'did', 'doing', 'a', 'an', 'the', 'and', 'but', 'if', 'or', 'because', 'as', 'until', 'while', 'of', 'at', 'by', 'for', 'with', 'about', 'against', 'between', 'into', 'through', 'during', 'before', 'after', 'above', 'below', 'to', 'from', 'up', 'down', 'in', 'out', 'on', 'off', 'over', 'under', 'again', 'further', 'then', 'once', 'here', 'there', 'when', 'where', 'why', 'how', 'all', 'any', 'both', 'each', 'few', 'more', 'most', 'other', 'some', 'such', 'no', 'nor', 'not', 'only', 'own', 'same', 'so', 'than', 'too', 'very', 's', 't', 'can', 'will', 'just', 'don', \"don't\", 'should', \"should've\", 'now', 'd', 'll', 'm', 'o', 're', 've', 'y', 'ain', 'aren', \"aren't\", 'couldn', \"couldn't\", 'didn', \"didn't\", 'doesn', \"doesn't\", 'hadn', \"hadn't\", 'hasn', \"hasn't\", 'haven', \"haven't\", 'isn', \"isn't\", 'ma', 'mightn', \"mightn't\", 'mustn', \"mustn't\", 'needn', \"needn't\", 'shan', \"shan't\", 'shouldn', \"shouldn't\", 'wasn', \"wasn't\", 'weren', \"weren't\", 'won', \"won't\", 'wouldn', \"wouldn't\"]\n"
     ]
    }
   ],
   "source": [
    "print(stopwordslist)"
   ]
  },
  {
   "cell_type": "code",
   "execution_count": 19,
   "metadata": {},
   "outputs": [
    {
     "name": "stdout",
     "output_type": "stream",
     "text": [
      "115\n"
     ]
    }
   ],
   "source": [
    "for x in stopwordslist:\n",
    "    if x=='such':\n",
    "        print (stopwordslist.index(x))"
   ]
  },
  {
   "cell_type": "code",
   "execution_count": 20,
   "metadata": {},
   "outputs": [],
   "source": [
    "stopwordslist1=[]\n",
    "for i in range(116):\n",
    "    stopwordslist1.append(stopwordslist[i])"
   ]
  },
  {
   "cell_type": "code",
   "execution_count": 22,
   "metadata": {},
   "outputs": [
    {
     "name": "stdout",
     "output_type": "stream",
     "text": [
      "['i', 'me', 'my', 'myself', 'we', 'our', 'ours', 'ourselves', 'you', \"you're\", \"you've\", \"you'll\", \"you'd\", 'your', 'yours', 'yourself', 'yourselves', 'he', 'him', 'his', 'himself', 'she', \"she's\", 'her', 'hers', 'herself', 'it', \"it's\", 'its', 'itself', 'they', 'them', 'their', 'theirs', 'themselves', 'what', 'which', 'who', 'whom', 'this', 'that', \"that'll\", 'these', 'those', 'am', 'is', 'are', 'was', 'were', 'be', 'been', 'being', 'have', 'has', 'had', 'having', 'do', 'does', 'did', 'doing', 'a', 'an', 'the', 'and', 'but', 'if', 'or', 'because', 'as', 'until', 'while', 'of', 'at', 'by', 'for', 'with', 'about', 'against', 'between', 'into', 'through', 'during', 'before', 'after', 'above', 'below', 'to', 'from', 'up', 'down', 'in', 'out', 'on', 'off', 'over', 'under', 'again', 'further', 'then', 'once', 'here', 'there', 'when', 'where', 'why', 'how', 'all', 'any', 'both', 'each', 'few', 'more', 'most', 'other', 'some', 'such']\n"
     ]
    }
   ],
   "source": [
    "print(stopwordslist1)"
   ]
  },
  {
   "cell_type": "code",
   "execution_count": 23,
   "metadata": {},
   "outputs": [],
   "source": [
    "x=[]\n",
    "\n",
    "for i in range(7085):\n",
    "    x.append(str(i))\n",
    "\n",
    "#print(x)    "
   ]
  },
  {
   "cell_type": "code",
   "execution_count": 24,
   "metadata": {},
   "outputs": [
    {
     "name": "stdout",
     "output_type": "stream",
     "text": [
      "<class 'set'>\n",
      "1497\n"
     ]
    }
   ],
   "source": [
    "vocabulary={'null'}\n",
    "print(type(vocabulary))\n",
    "for i in range(7085):\n",
    "    temp_review=review_data.iloc[[i]]\n",
    "    temp_message=str(temp_review[['Bookreviews']])\n",
    "   # print(type(temp_message))\n",
    "    tempwords=word_tokenize(temp_message)\n",
    "    for w in tempwords:\n",
    "        if  w  in x:\n",
    "            tempwords.remove(w)\n",
    "   # print (tempwords)  \n",
    "    for w in tempwords:\n",
    "        vocabulary |= set(tempwords)\n",
    "print(len(vocabulary))        "
   ]
  },
  {
   "cell_type": "code",
   "execution_count": 26,
   "metadata": {},
   "outputs": [],
   "source": [
    "stemvocab=[]\n",
    "for w in vocabulary:\n",
    "    x=snowball.stem(w)\n",
    "    #print(x)\n",
    "    stemvocab.append(x)"
   ]
  },
  {
   "cell_type": "code",
   "execution_count": 27,
   "metadata": {},
   "outputs": [
    {
     "name": "stdout",
     "output_type": "stream",
     "text": [
      "1497\n"
     ]
    }
   ],
   "source": [
    "print(len(stemvocab))\n",
    "#print(vocabulary)\n",
    "#print(stemvocab)"
   ]
  },
  {
   "cell_type": "code",
   "execution_count": 28,
   "metadata": {},
   "outputs": [],
   "source": [
    "lemvocab=[]\n",
    "for w in vocabulary:\n",
    "    x=lemmatizer.lemmatize(w)\n",
    "    lemvocab.append(x)"
   ]
  },
  {
   "cell_type": "code",
   "execution_count": 29,
   "metadata": {},
   "outputs": [],
   "source": [
    "#print (len(lemvocab))# 1479"
   ]
  },
  {
   "cell_type": "code",
   "execution_count": 30,
   "metadata": {},
   "outputs": [],
   "source": [
    "#print(lemvocab)"
   ]
  },
  {
   "cell_type": "code",
   "execution_count": 35,
   "metadata": {},
   "outputs": [],
   "source": [
    "stopvocab=[]\n",
    "for w in vocabulary:\n",
    "   # print(w)\n",
    "    if w in stopwordslist1:\n",
    "        continue\n",
    "    else:    \n",
    "        stopvocab.append(w)"
   ]
  },
  {
   "cell_type": "code",
   "execution_count": 36,
   "metadata": {},
   "outputs": [],
   "source": [
    "#print(stopvocab)\n",
    "#print(len(stopvocab))# 1379\n"
   ]
  },
  {
   "cell_type": "code",
   "execution_count": 37,
   "metadata": {},
   "outputs": [],
   "source": [
    "stoplemvocab=[]\n",
    "for w in stopvocab:\n",
    "    x=lemmatizer.lemmatize(w)\n",
    "    stoplemvocab.append(x)"
   ]
  },
  {
   "cell_type": "code",
   "execution_count": 47,
   "metadata": {},
   "outputs": [],
   "source": [
    "#print(set(stoplemvocab))\n",
    "#print(len(set(stoplemvocab)))# 1325\n",
    "stoplemvocab1=set(stoplemvocab)\n",
    "\n",
    "#print(stoplemvocab1)\n",
    "stoplemvocabfile=open(\"stoplemvocab.txt\",\"w+\")\n",
    "for x in stoplemvocab1:\n",
    "    stoplemvocabfile.write(x+\"\\n\")\n",
    "    \n",
    "#print(len(stoplemvocab1))\n",
    "stoplemvocablist=list(stoplemvocab1)\n",
    "#print(stoplemvocablist[2:9])\n",
    "\n",
    "\n",
    "def messagetocountvector(x):\n",
    "    \n",
    "    messagevector=np.zeros(1351,dtype=int)\n",
    "    temp1=word_tokenize(x)\n",
    "    temp2=[]\n",
    "    for x in temp1:\n",
    "        x=lemmatizer.lemmatize(x)\n",
    "        temp2.append(x)\n",
    "    for x in temp2:\n",
    "        if x in stopwordslist:\n",
    "            temp2.remove(x)\n",
    "            \n",
    "    for x in temp2:\n",
    "        if x in stoplemvocablist:\n",
    "            i=stoplemvocablist.index(x)\n",
    "            messagevector[i]+=1\n",
    "            \n",
    "    return list(messagevector)\n",
    "\n",
    "\n"
   ]
  },
  {
   "cell_type": "code",
   "execution_count": 39,
   "metadata": {},
   "outputs": [],
   "source": [
    "countvect=feature_extraction.text.CountVectorizer(vocabulary=stoplemvocablist)\n",
    "tfidfvect=feature_extraction.text.TfidfVectorizer()\n",
    "tfidfvect_slv=feature_extraction.text.TfidfVectorizer(vocabulary=stoplemvocablist)"
   ]
  },
  {
   "cell_type": "code",
   "execution_count": 40,
   "metadata": {},
   "outputs": [],
   "source": [
    "\n",
    "X_slv_cv=countvect.transform(review_data['Bookreviews'])"
   ]
  },
  {
   "cell_type": "code",
   "execution_count": 41,
   "metadata": {},
   "outputs": [
    {
     "data": {
      "text/plain": [
       "(7085, 1351)"
      ]
     },
     "execution_count": 41,
     "metadata": {},
     "output_type": "execute_result"
    }
   ],
   "source": [
    "np.shape(X_slv_cv)# finally using countvectorizer we have vector matrix "
   ]
  },
  {
   "cell_type": "code",
   "execution_count": 42,
   "metadata": {},
   "outputs": [
    {
     "name": "stdout",
     "output_type": "stream",
     "text": [
      "[(4746, 1351), (2339, 1351)]\n",
      "<class 'pandas.core.series.Series'>\n",
      "brigid\n",
      "6\n"
     ]
    }
   ],
   "source": [
    "X_train_cv, X_test_cv, y_train_cv, y_test_cv = model_selection.train_test_split(X_slv_cv, review_data['labels'], test_size=0.33, random_state=42)\n",
    "print([np.shape(X_train_cv), np.shape(X_test_cv)])\n",
    "print(type(y_train_cv))\n",
    "#print(y_train_cv)\n",
    "#x=np.array(y_train_cv)\n",
    "print(x)\n",
    "countp=0\n",
    "countn=0\n",
    "for p in x:\n",
    "    if p==1:\n",
    "        countp+=1\n",
    "    else:\n",
    "        countn+=1\n",
    "print(countn)        "
   ]
  },
  {
   "cell_type": "code",
   "execution_count": 43,
   "metadata": {},
   "outputs": [],
   "source": [
    "list_C = np.arange(5, 55, 5 ) #100000\n",
    "score_train = np.zeros(len(list_C))\n",
    "#print(score_train)\n",
    "score_test = np.zeros(len(list_C))\n",
    "recall_train = np.zeros(len(list_C))\n",
    "recall_test = np.zeros(len(list_C))\n",
    "precision_train= np.zeros(len(list_C))\n",
    "precision_test=np.zeros(len(list_C))\n",
    "count = 0\n",
    "for C in list_C:\n",
    "    svc = svm.SVC(C=C)\n",
    "    svc.fit(X_train_cv, y_train_cv)\n",
    "    #score_train[count] = svc.score(X_train_cv, y_train_cv)# returns accuracy over training set\n",
    "   # print(\"accuracy for train set at c= \",C,\"is \",score_train[count])\n",
    "    score_test[count]= svc.score(X_test_cv, y_test_cv)# returns accuracy over test set\n",
    "    #print(\" ------------------------******************--------------------------\")\n",
    "    #print(\"accuracy for test set at c= \",C,\"is \",score_test[count])\n",
    "    #recall_train[count]=metrics.recall_score(y_train_cv,svc.predict(X_train_cv))\n",
    "    recall_test[count] = metrics.recall_score(y_test_cv, svc.predict(X_test_cv))\n",
    "   # precision_train[count] = metrics.precision_score(y_train_cv, svc.predict(X_train_cv))\n",
    "    precision_test[count] = metrics.precision_score(y_test_cv, svc.predict(X_test_cv))\n",
    "    count = count + 1 "
   ]
  },
  {
   "cell_type": "code",
   "execution_count": 44,
   "metadata": {},
   "outputs": [
    {
     "data": {
      "text/html": [
       "<div>\n",
       "<style scoped>\n",
       "    .dataframe tbody tr th:only-of-type {\n",
       "        vertical-align: middle;\n",
       "    }\n",
       "\n",
       "    .dataframe tbody tr th {\n",
       "        vertical-align: top;\n",
       "    }\n",
       "\n",
       "    .dataframe thead th {\n",
       "        text-align: right;\n",
       "    }\n",
       "</style>\n",
       "<table border=\"1\" class=\"dataframe\">\n",
       "  <thead>\n",
       "    <tr style=\"text-align: right;\">\n",
       "      <th></th>\n",
       "      <th>C</th>\n",
       "      <th>Test Accuracy</th>\n",
       "      <th>Test Recall</th>\n",
       "      <th>Test Precision</th>\n",
       "    </tr>\n",
       "  </thead>\n",
       "  <tbody>\n",
       "    <tr>\n",
       "      <th>0</th>\n",
       "      <td>5.0</td>\n",
       "      <td>0.970073</td>\n",
       "      <td>0.976762</td>\n",
       "      <td>0.970939</td>\n",
       "    </tr>\n",
       "    <tr>\n",
       "      <th>1</th>\n",
       "      <td>10.0</td>\n",
       "      <td>0.968363</td>\n",
       "      <td>0.977511</td>\n",
       "      <td>0.967359</td>\n",
       "    </tr>\n",
       "    <tr>\n",
       "      <th>2</th>\n",
       "      <td>15.0</td>\n",
       "      <td>0.969645</td>\n",
       "      <td>0.978261</td>\n",
       "      <td>0.968820</td>\n",
       "    </tr>\n",
       "    <tr>\n",
       "      <th>3</th>\n",
       "      <td>20.0</td>\n",
       "      <td>0.970500</td>\n",
       "      <td>0.977511</td>\n",
       "      <td>0.970961</td>\n",
       "    </tr>\n",
       "    <tr>\n",
       "      <th>4</th>\n",
       "      <td>25.0</td>\n",
       "      <td>0.970928</td>\n",
       "      <td>0.976762</td>\n",
       "      <td>0.972388</td>\n",
       "    </tr>\n",
       "    <tr>\n",
       "      <th>5</th>\n",
       "      <td>30.0</td>\n",
       "      <td>0.972638</td>\n",
       "      <td>0.976762</td>\n",
       "      <td>0.975299</td>\n",
       "    </tr>\n",
       "    <tr>\n",
       "      <th>6</th>\n",
       "      <td>35.0</td>\n",
       "      <td>0.973493</td>\n",
       "      <td>0.976762</td>\n",
       "      <td>0.976762</td>\n",
       "    </tr>\n",
       "    <tr>\n",
       "      <th>7</th>\n",
       "      <td>40.0</td>\n",
       "      <td>0.973493</td>\n",
       "      <td>0.977511</td>\n",
       "      <td>0.976048</td>\n",
       "    </tr>\n",
       "    <tr>\n",
       "      <th>8</th>\n",
       "      <td>45.0</td>\n",
       "      <td>0.974348</td>\n",
       "      <td>0.977511</td>\n",
       "      <td>0.977511</td>\n",
       "    </tr>\n",
       "    <tr>\n",
       "      <th>9</th>\n",
       "      <td>50.0</td>\n",
       "      <td>0.974348</td>\n",
       "      <td>0.977511</td>\n",
       "      <td>0.977511</td>\n",
       "    </tr>\n",
       "  </tbody>\n",
       "</table>\n",
       "</div>"
      ],
      "text/plain": [
       "      C  Test Accuracy  Test Recall  Test Precision\n",
       "0   5.0       0.970073     0.976762        0.970939\n",
       "1  10.0       0.968363     0.977511        0.967359\n",
       "2  15.0       0.969645     0.978261        0.968820\n",
       "3  20.0       0.970500     0.977511        0.970961\n",
       "4  25.0       0.970928     0.976762        0.972388\n",
       "5  30.0       0.972638     0.976762        0.975299\n",
       "6  35.0       0.973493     0.976762        0.976762\n",
       "7  40.0       0.973493     0.977511        0.976048\n",
       "8  45.0       0.974348     0.977511        0.977511\n",
       "9  50.0       0.974348     0.977511        0.977511"
      ]
     },
     "execution_count": 44,
     "metadata": {},
     "output_type": "execute_result"
    }
   ],
   "source": [
    "matrix = np.matrix(np.c_[list_C, score_test, recall_test, precision_test])\n",
    "models = pd.DataFrame(data = matrix, columns = \n",
    "             ['C', 'Test Accuracy', 'Test Recall', 'Test Precision'])\n",
    "models.head(n=10)"
   ]
  },
  {
   "cell_type": "code",
   "execution_count": 45,
   "metadata": {},
   "outputs": [
    {
     "data": {
      "text/html": [
       "<div>\n",
       "<style scoped>\n",
       "    .dataframe tbody tr th:only-of-type {\n",
       "        vertical-align: middle;\n",
       "    }\n",
       "\n",
       "    .dataframe tbody tr th {\n",
       "        vertical-align: top;\n",
       "    }\n",
       "\n",
       "    .dataframe thead th {\n",
       "        text-align: right;\n",
       "    }\n",
       "</style>\n",
       "<table border=\"1\" class=\"dataframe\">\n",
       "  <thead>\n",
       "    <tr style=\"text-align: right;\">\n",
       "      <th></th>\n",
       "      <th>Predicted 0</th>\n",
       "      <th>Predicted 1</th>\n",
       "    </tr>\n",
       "  </thead>\n",
       "  <tbody>\n",
       "    <tr>\n",
       "      <th>Actual 0</th>\n",
       "      <td>975</td>\n",
       "      <td>30</td>\n",
       "    </tr>\n",
       "    <tr>\n",
       "      <th>Actual 1</th>\n",
       "      <td>30</td>\n",
       "      <td>1304</td>\n",
       "    </tr>\n",
       "  </tbody>\n",
       "</table>\n",
       "</div>"
      ],
      "text/plain": [
       "          Predicted 0  Predicted 1\n",
       "Actual 0          975           30\n",
       "Actual 1           30         1304"
      ]
     },
     "execution_count": 45,
     "metadata": {},
     "output_type": "execute_result"
    }
   ],
   "source": [
    "# confusion maricx--->\n",
    "m_confusion_test = metrics.confusion_matrix(y_test_cv, svc.predict(X_test_cv))\n",
    "pd.DataFrame(data = m_confusion_test, columns = ['Predicted 0', 'Predicted 1'],\n",
    "            index = ['Actual 0', 'Actual 1'])\n"
   ]
  },
  {
   "cell_type": "code",
   "execution_count": 48,
   "metadata": {},
   "outputs": [
    {
     "data": {
      "text/plain": [
       "array([1])"
      ]
     },
     "execution_count": 48,
     "metadata": {},
     "output_type": "execute_result"
    }
   ],
   "source": [
    "# testing above model for a unseen test set\n",
    "message=\"i liked the book but it needs some more juice\"\n",
    "messagevectlist= messagetocountvector(message)\n",
    "messagearray=np.array(messagevectlist)\n",
    "messagematrix=np.matrix(messagearray)\n",
    "svc.predict(messagematrix)"
   ]
  },
  {
   "cell_type": "code",
   "execution_count": 49,
   "metadata": {},
   "outputs": [],
   "source": [
    "# applying classifier on tfidf vectroizer\n",
    "X_tfidf=tfidfvect.fit_transform(review_data['Bookreviews'])\n",
    "np.shape(X_tfidf)\n",
    "tfidffeaturelist=tfidfvect.get_feature_names()"
   ]
  },
  {
   "cell_type": "code",
   "execution_count": 50,
   "metadata": {},
   "outputs": [
    {
     "name": "stdout",
     "output_type": "stream",
     "text": [
      "[(4746, 2153), (2339, 2153)]\n"
     ]
    }
   ],
   "source": [
    "#print(X_tfidf)\n",
    "#print(tfidfvect.get_feature_names())\n",
    "\n",
    "X_train_tf, X_test_tf, y_train_tf, y_test_tf = model_selection.train_test_split(X_tfidf, review_data['labels'], test_size=0.33, random_state=42)\n",
    "print([np.shape(X_train_tf), np.shape(X_test_tf)])"
   ]
  },
  {
   "cell_type": "code",
   "execution_count": 51,
   "metadata": {},
   "outputs": [
    {
     "name": "stdout",
     "output_type": "stream",
     "text": [
      "[1 0 1 ... 1 1 0]\n"
     ]
    }
   ],
   "source": [
    "list_C = np.arange(1, 55, 2) #100000\n",
    "score_train = np.zeros(len(list_C))\n",
    "#print(score_train)\n",
    "score_test = np.zeros(len(list_C))\n",
    "recall_train = np.zeros(len(list_C))\n",
    "recall_test = np.zeros(len(list_C))\n",
    "precision_train= np.zeros(len(list_C))\n",
    "precision_test=np.zeros(len(list_C))\n",
    "count = 0\n",
    "for C in list_C:\n",
    "    svc_tf = svm.SVC(C=C)\n",
    "    svc_tf.fit(X_train_tf, y_train_tf)\n",
    "    \n",
    "    #score_train[count] = svc.score(X_train_cv, y_train_cv)# returns accuracy over training set\n",
    "   # print(\"accuracy for train set at c= \",C,\"is \",score_train[count])\n",
    "    score_test[count]= svc_tf.score(X_test_tf, y_test_tf)# returns accuracy over test set\n",
    "    #print(\" ------------------------******************--------------------------\")\n",
    "    #print(\"accuracy for test set at c= \",C,\"is \",score_test[count])\n",
    "    #recall_train[count]=metrics.recall_score(y_train_cv,svc.predict(X_train_cv))\n",
    "    recall_test[count] = metrics.recall_score(y_test_tf, svc_tf.predict(X_test_tf))\n",
    "   # precision_train[count] = metrics.precision_score(y_train_cv, svc.predict(X_train_cv))\n",
    "    precision_test[count] = metrics.precision_score(y_test_tf, svc_tf.predict(X_test_tf))\n",
    "    count = count + 1 \n",
    "print(svc_tf.predict(X_test_tf))    "
   ]
  },
  {
   "cell_type": "code",
   "execution_count": 53,
   "metadata": {},
   "outputs": [
    {
     "data": {
      "text/html": [
       "<div>\n",
       "<style scoped>\n",
       "    .dataframe tbody tr th:only-of-type {\n",
       "        vertical-align: middle;\n",
       "    }\n",
       "\n",
       "    .dataframe tbody tr th {\n",
       "        vertical-align: top;\n",
       "    }\n",
       "\n",
       "    .dataframe thead th {\n",
       "        text-align: right;\n",
       "    }\n",
       "</style>\n",
       "<table border=\"1\" class=\"dataframe\">\n",
       "  <thead>\n",
       "    <tr style=\"text-align: right;\">\n",
       "      <th></th>\n",
       "      <th>C</th>\n",
       "      <th>Test Accuracy</th>\n",
       "      <th>Test Recall</th>\n",
       "      <th>Test Precision</th>\n",
       "    </tr>\n",
       "  </thead>\n",
       "  <tbody>\n",
       "    <tr>\n",
       "      <th>0</th>\n",
       "      <td>1.0</td>\n",
       "      <td>0.570329</td>\n",
       "      <td>1.000000</td>\n",
       "      <td>0.570329</td>\n",
       "    </tr>\n",
       "    <tr>\n",
       "      <th>1</th>\n",
       "      <td>3.0</td>\n",
       "      <td>0.570329</td>\n",
       "      <td>1.000000</td>\n",
       "      <td>0.570329</td>\n",
       "    </tr>\n",
       "    <tr>\n",
       "      <th>2</th>\n",
       "      <td>5.0</td>\n",
       "      <td>0.615220</td>\n",
       "      <td>1.000000</td>\n",
       "      <td>0.597135</td>\n",
       "    </tr>\n",
       "    <tr>\n",
       "      <th>3</th>\n",
       "      <td>7.0</td>\n",
       "      <td>0.845661</td>\n",
       "      <td>1.000000</td>\n",
       "      <td>0.787021</td>\n",
       "    </tr>\n",
       "    <tr>\n",
       "      <th>4</th>\n",
       "      <td>9.0</td>\n",
       "      <td>0.946986</td>\n",
       "      <td>1.000000</td>\n",
       "      <td>0.914952</td>\n",
       "    </tr>\n",
       "    <tr>\n",
       "      <th>5</th>\n",
       "      <td>11.0</td>\n",
       "      <td>0.965797</td>\n",
       "      <td>0.997001</td>\n",
       "      <td>0.945946</td>\n",
       "    </tr>\n",
       "    <tr>\n",
       "      <th>6</th>\n",
       "      <td>13.0</td>\n",
       "      <td>0.969218</td>\n",
       "      <td>0.991754</td>\n",
       "      <td>0.955925</td>\n",
       "    </tr>\n",
       "    <tr>\n",
       "      <th>7</th>\n",
       "      <td>15.0</td>\n",
       "      <td>0.970500</td>\n",
       "      <td>0.988006</td>\n",
       "      <td>0.961342</td>\n",
       "    </tr>\n",
       "    <tr>\n",
       "      <th>8</th>\n",
       "      <td>17.0</td>\n",
       "      <td>0.970500</td>\n",
       "      <td>0.986507</td>\n",
       "      <td>0.962692</td>\n",
       "    </tr>\n",
       "    <tr>\n",
       "      <th>9</th>\n",
       "      <td>19.0</td>\n",
       "      <td>0.971355</td>\n",
       "      <td>0.985757</td>\n",
       "      <td>0.964784</td>\n",
       "    </tr>\n",
       "    <tr>\n",
       "      <th>10</th>\n",
       "      <td>21.0</td>\n",
       "      <td>0.971355</td>\n",
       "      <td>0.985757</td>\n",
       "      <td>0.964784</td>\n",
       "    </tr>\n",
       "    <tr>\n",
       "      <th>11</th>\n",
       "      <td>23.0</td>\n",
       "      <td>0.971355</td>\n",
       "      <td>0.984258</td>\n",
       "      <td>0.966152</td>\n",
       "    </tr>\n",
       "    <tr>\n",
       "      <th>12</th>\n",
       "      <td>25.0</td>\n",
       "      <td>0.973065</td>\n",
       "      <td>0.985757</td>\n",
       "      <td>0.967623</td>\n",
       "    </tr>\n",
       "    <tr>\n",
       "      <th>13</th>\n",
       "      <td>27.0</td>\n",
       "      <td>0.973065</td>\n",
       "      <td>0.985757</td>\n",
       "      <td>0.967623</td>\n",
       "    </tr>\n",
       "    <tr>\n",
       "      <th>14</th>\n",
       "      <td>29.0</td>\n",
       "      <td>0.973920</td>\n",
       "      <td>0.985757</td>\n",
       "      <td>0.969049</td>\n",
       "    </tr>\n",
       "    <tr>\n",
       "      <th>15</th>\n",
       "      <td>31.0</td>\n",
       "      <td>0.974348</td>\n",
       "      <td>0.986507</td>\n",
       "      <td>0.969072</td>\n",
       "    </tr>\n",
       "    <tr>\n",
       "      <th>16</th>\n",
       "      <td>33.0</td>\n",
       "      <td>0.974776</td>\n",
       "      <td>0.986507</td>\n",
       "      <td>0.969786</td>\n",
       "    </tr>\n",
       "    <tr>\n",
       "      <th>17</th>\n",
       "      <td>35.0</td>\n",
       "      <td>0.975203</td>\n",
       "      <td>0.987256</td>\n",
       "      <td>0.969809</td>\n",
       "    </tr>\n",
       "    <tr>\n",
       "      <th>18</th>\n",
       "      <td>37.0</td>\n",
       "      <td>0.975631</td>\n",
       "      <td>0.987256</td>\n",
       "      <td>0.970523</td>\n",
       "    </tr>\n",
       "    <tr>\n",
       "      <th>19</th>\n",
       "      <td>39.0</td>\n",
       "      <td>0.976486</td>\n",
       "      <td>0.988006</td>\n",
       "      <td>0.971260</td>\n",
       "    </tr>\n",
       "    <tr>\n",
       "      <th>20</th>\n",
       "      <td>41.0</td>\n",
       "      <td>0.976486</td>\n",
       "      <td>0.988006</td>\n",
       "      <td>0.971260</td>\n",
       "    </tr>\n",
       "    <tr>\n",
       "      <th>21</th>\n",
       "      <td>43.0</td>\n",
       "      <td>0.976486</td>\n",
       "      <td>0.988006</td>\n",
       "      <td>0.971260</td>\n",
       "    </tr>\n",
       "    <tr>\n",
       "      <th>22</th>\n",
       "      <td>45.0</td>\n",
       "      <td>0.977341</td>\n",
       "      <td>0.988756</td>\n",
       "      <td>0.971997</td>\n",
       "    </tr>\n",
       "    <tr>\n",
       "      <th>23</th>\n",
       "      <td>47.0</td>\n",
       "      <td>0.977768</td>\n",
       "      <td>0.988006</td>\n",
       "      <td>0.973412</td>\n",
       "    </tr>\n",
       "    <tr>\n",
       "      <th>24</th>\n",
       "      <td>49.0</td>\n",
       "      <td>0.977768</td>\n",
       "      <td>0.988006</td>\n",
       "      <td>0.973412</td>\n",
       "    </tr>\n",
       "  </tbody>\n",
       "</table>\n",
       "</div>"
      ],
      "text/plain": [
       "       C  Test Accuracy  Test Recall  Test Precision\n",
       "0    1.0       0.570329     1.000000        0.570329\n",
       "1    3.0       0.570329     1.000000        0.570329\n",
       "2    5.0       0.615220     1.000000        0.597135\n",
       "3    7.0       0.845661     1.000000        0.787021\n",
       "4    9.0       0.946986     1.000000        0.914952\n",
       "5   11.0       0.965797     0.997001        0.945946\n",
       "6   13.0       0.969218     0.991754        0.955925\n",
       "7   15.0       0.970500     0.988006        0.961342\n",
       "8   17.0       0.970500     0.986507        0.962692\n",
       "9   19.0       0.971355     0.985757        0.964784\n",
       "10  21.0       0.971355     0.985757        0.964784\n",
       "11  23.0       0.971355     0.984258        0.966152\n",
       "12  25.0       0.973065     0.985757        0.967623\n",
       "13  27.0       0.973065     0.985757        0.967623\n",
       "14  29.0       0.973920     0.985757        0.969049\n",
       "15  31.0       0.974348     0.986507        0.969072\n",
       "16  33.0       0.974776     0.986507        0.969786\n",
       "17  35.0       0.975203     0.987256        0.969809\n",
       "18  37.0       0.975631     0.987256        0.970523\n",
       "19  39.0       0.976486     0.988006        0.971260\n",
       "20  41.0       0.976486     0.988006        0.971260\n",
       "21  43.0       0.976486     0.988006        0.971260\n",
       "22  45.0       0.977341     0.988756        0.971997\n",
       "23  47.0       0.977768     0.988006        0.973412\n",
       "24  49.0       0.977768     0.988006        0.973412"
      ]
     },
     "execution_count": 53,
     "metadata": {},
     "output_type": "execute_result"
    }
   ],
   "source": [
    "matrix = np.matrix(np.c_[list_C, score_test, recall_test, precision_test])\n",
    "models = pd.DataFrame(data = matrix, columns = \n",
    "             ['C', 'Test Accuracy', 'Test Recall', 'Test Precision'])\n",
    "models.head(n=25)"
   ]
  },
  {
   "cell_type": "code",
   "execution_count": 54,
   "metadata": {},
   "outputs": [
    {
     "data": {
      "text/html": [
       "<div>\n",
       "<style scoped>\n",
       "    .dataframe tbody tr th:only-of-type {\n",
       "        vertical-align: middle;\n",
       "    }\n",
       "\n",
       "    .dataframe tbody tr th {\n",
       "        vertical-align: top;\n",
       "    }\n",
       "\n",
       "    .dataframe thead th {\n",
       "        text-align: right;\n",
       "    }\n",
       "</style>\n",
       "<table border=\"1\" class=\"dataframe\">\n",
       "  <thead>\n",
       "    <tr style=\"text-align: right;\">\n",
       "      <th></th>\n",
       "      <th>Predicted 0</th>\n",
       "      <th>Predicted 1</th>\n",
       "    </tr>\n",
       "  </thead>\n",
       "  <tbody>\n",
       "    <tr>\n",
       "      <th>Actual 0</th>\n",
       "      <td>972</td>\n",
       "      <td>33</td>\n",
       "    </tr>\n",
       "    <tr>\n",
       "      <th>Actual 1</th>\n",
       "      <td>16</td>\n",
       "      <td>1318</td>\n",
       "    </tr>\n",
       "  </tbody>\n",
       "</table>\n",
       "</div>"
      ],
      "text/plain": [
       "          Predicted 0  Predicted 1\n",
       "Actual 0          972           33\n",
       "Actual 1           16         1318"
      ]
     },
     "execution_count": 54,
     "metadata": {},
     "output_type": "execute_result"
    }
   ],
   "source": [
    "# confusion maricx--->\n",
    "m_confusion_test = metrics.confusion_matrix(y_test_tf, svc_tf.predict(X_test_tf))\n",
    "pd.DataFrame(data = m_confusion_test, columns = ['Predicted 0', 'Predicted 1'],\n",
    "            index = ['Actual 0', 'Actual 1'])"
   ]
  },
  {
   "cell_type": "code",
   "execution_count": 55,
   "metadata": {},
   "outputs": [],
   "source": [
    "masterdoc=\" \".join(review_data['Bookreviews']).split()# list containing all words in all the documents\n",
    "masterdoclist=list(set(masterdoc))\n",
    "#print(len(masterdoclist)) # 2174\n",
    "#print(Counter(masterdoclist))   \n",
    "def messageto_tfidfvector(x):\n",
    "    # calculating inverse transverse frequency \n",
    "    tempmessage1=x.split()\n",
    "    for w in tempmessage1:\n",
    "        if w.isalpha()==False:\n",
    "            tempmessage1.remove(w)\n",
    "   # print(tempmessage1)        \n",
    "    messagetodict_count={}\n",
    "    messagetodict_idf={}\n",
    "    messagetodict_tf={}\n",
    "    messagetodict_tfidf={}\n",
    "   \n",
    "    for w in tempmessage1:\n",
    "        messagetodict_count[w]=0\n",
    "        messagetodict_idf[w]=0\n",
    "        messagetodict_tf[w]=0\n",
    "        messagetodict_tfidf[w]=0\n",
    "    #print(messagetodict_tf)\n",
    "    # creating master document\n",
    "    \n",
    "    \n",
    "    # counting number of inatances for each word i.e document frequency of each word\n",
    "    for w in tempmessage1:\n",
    "        i=masterdoc.count(w)\n",
    "        messagetodict_count[w]=i\n",
    "    # for any new word not in corpus we take its frequenct    \n",
    "    for w in tempmessage1:\n",
    "        if messagetodict_count[w]==0:\n",
    "            messagetodict_count[w]=1\n",
    "    \n",
    "    # calculating idf\n",
    "    for keys in messagetodict_count:\n",
    "         messagetodict_idf[w]=math.log10(7085/ messagetodict_count[w])\n",
    "    \n",
    "    # calculating tf or transverse frequency\n",
    "    \n",
    "    for w in tempmessage1:\n",
    "        i=tempmessage1.count(w)\n",
    "        messagetodict_tf[w]=i/len(tempmessage1)\n",
    "        \n",
    "    # applying normalization to tf by taking a=0.4 \n",
    "    #calculating max tf\n",
    "    max_tf=0.0\n",
    "    for keys in messagetodict_tf:\n",
    "        if max_tf < messagetodict_tf[keys]:\n",
    "            max_tf=messagetodict_tf[keys]\n",
    "            \n",
    "    a=0.4        \n",
    "    for keys in messagetodict_tf:\n",
    "            i=a+(1-a)*(messagetodict_tf[keys]/max_tf)\n",
    "            messagetodict_tf[keys]=i\n",
    "            \n",
    "    #finally applying tf(w)*idf(w) \n",
    "    for keys in messagetodict_tfidf:\n",
    "        messagetodict_tfidf[keys]=messagetodict_tf[keys]*messagetodict_idf[keys]\n",
    "     \n",
    "    # now converting this tfidf dict to a vector\n",
    "    messagevector_tfidf=np.zeros(2174)\n",
    "    for keys in messagetodict_tfidf:\n",
    "        #i=masterdoclist.index(keys)\n",
    "        i=-1\n",
    "        for p in masterdoclist:  # actually for a unknown word we have no choice but to ignore it\n",
    "            if keys==p:\n",
    "                break\n",
    "        i=masterdoclist.index(p)\n",
    "        if i!=-1:       \n",
    "            messagevector_tfidf[i]= messagetodict_tfidf[keys]\n",
    "        else:\n",
    "            continue\n",
    "    #print(len(messagevector_tfidf)) \n",
    "    return list(messagevector_tfidf)\n",
    "\n",
    "\n",
    "\n",
    "        "
   ]
  },
  {
   "cell_type": "code",
   "execution_count": 56,
   "metadata": {},
   "outputs": [
    {
     "name": "stdout",
     "output_type": "stream",
     "text": [
      "[[0. 0. 0. ... 0. 0. 0.]\n",
      " [0. 0. 0. ... 0. 0. 0.]\n",
      " [0. 0. 0. ... 0. 0. 0.]\n",
      " ...\n",
      " [0. 0. 0. ... 0. 0. 0.]\n",
      " [0. 0. 0. ... 0. 0. 0.]\n",
      " [0. 0. 0. ... 0. 0. 0.]]\n"
     ]
    }
   ],
   "source": [
    "# training whole data set according to this tfidf\n",
    "mytfidf_vector_matrix=np.zeros((7085,2174))\n",
    "temp=[]\n",
    "counter=0\n",
    "for rows in review_data.itertuples():\n",
    "    message=rows[2]\n",
    "    \n",
    "    temp=messageto_tfidfvector(message)\n",
    "    #print(len(temp))\n",
    "    for l in range(2174):\n",
    "        mytfidf_vector_matrix[counter][l]=temp[l]\n",
    "    counter+=1\n",
    "    temp=[]\n",
    "print(mytfidf_vector_matrix) \n"
   ]
  },
  {
   "cell_type": "code",
   "execution_count": 57,
   "metadata": {},
   "outputs": [
    {
     "name": "stdout",
     "output_type": "stream",
     "text": [
      "[(4746, 2174), (2339, 2174)]\n"
     ]
    }
   ],
   "source": [
    "X_train_mytfidf, X_test_mytfidf, y_train_mytfidf, y_test_mytfidf = model_selection.train_test_split(mytfidf_vector_matrix, review_data['labels'], test_size=0.33, random_state=42)\n",
    "print([np.shape(X_train_mytfidf), np.shape(X_test_mytfidf)])\n"
   ]
  },
  {
   "cell_type": "code",
   "execution_count": 58,
   "metadata": {},
   "outputs": [
    {
     "name": "stdout",
     "output_type": "stream",
     "text": [
      "CURRENT KERNEL IS  rbf\n",
      "          Predicted 0  Predicted 1\n",
      "Actual 0          724          281\n",
      "Actual 1           68         1266\n",
      "CURRENT KERNEL IS  linear\n",
      "          Predicted 0  Predicted 1\n",
      "Actual 0          762          243\n",
      "Actual 1           85         1249\n",
      "CURRENT KERNEL IS  poly\n",
      "          Predicted 0  Predicted 1\n",
      "Actual 0            0         1005\n",
      "Actual 1            0         1334\n",
      "CURRENT KERNEL IS  sigmoid\n",
      "          Predicted 0  Predicted 1\n",
      "Actual 0          377          628\n",
      "Actual 1            0         1334\n"
     ]
    }
   ],
   "source": [
    "#list_C = np.arange(500, 1000, 100) #100000\n",
    "#score_train = np.zeros(len(list_C))\n",
    "#print(score_train)\n",
    "score_test_mytfidf = np.zeros(4)\n",
    "recall_test_mytfidf = np.zeros(4)\n",
    "precision_test_mytfidf=np.zeros(4)\n",
    "count = 0\n",
    "\n",
    "\n",
    "kernels=['rbf','linear','poly','sigmoid']\n",
    "for k in kernels:\n",
    "     #for C in list_C:\n",
    "      #  print(C)\n",
    "        print(\"CURRENT KERNEL IS \",k)\n",
    "        svc_mytfidf = svm.SVC(C=10,kernel=k)\n",
    "        svc_mytfidf.fit(X_train_mytfidf, y_train_mytfidf)\n",
    "    \n",
    "       #score_train[count] = svc.score(X_train_cv, y_train_cv)# returns accuracy over training set\n",
    "       # print(\"accuracy for train set at c= \",C,\"is \",score_train[count])\n",
    "        score_test_mytfidf[count]= svc_mytfidf.score(X_test_mytfidf, y_test_mytfidf)# returns accuracy over test set\n",
    "        #print(\" ------------------------******************--------------------------\")\n",
    "        #print(\"accuracy for test set at c= \",C,\"is \",score_test[count])\n",
    "         #recall_train[count]=metrics.recall_score(y_train_cv,svc.predict(X_train_cv))\n",
    "        recall_test_mytfidf[count] = metrics.recall_score(y_test_mytfidf, svc_mytfidf.predict(X_test_mytfidf))\n",
    "        # precision_train[count] = metrics.precision_score(y_train_cv, svc.predict(X_train_cv))\n",
    "        precision_test_mytfidf[count] = metrics.precision_score(y_test_mytfidf, svc_mytfidf.predict(X_test_mytfidf))\n",
    "        count = count + 1 \n",
    "        m_confusion_test = metrics.confusion_matrix(y_test_mytfidf, svc_mytfidf.predict(X_test_mytfidf))\n",
    "        print( pd.DataFrame(data = m_confusion_test, columns = ['Predicted 0', 'Predicted 1'],\n",
    "            index = ['Actual 0', 'Actual 1']))\n",
    "        \n",
    "#print(svc_tf.predict(X_test_tf))    "
   ]
  },
  {
   "cell_type": "code",
   "execution_count": 62,
   "metadata": {},
   "outputs": [
    {
     "data": {
      "text/plain": [
       "array([1])"
      ]
     },
     "execution_count": 62,
     "metadata": {},
     "output_type": "execute_result"
    }
   ],
   "source": [
    "# testing against some unseen data..\n",
    "message=\"it reminds me of my mom\"\n",
    "messagevectlist= messageto_tfidfvector(message)\n",
    "messagearray=np.array(messagevectlist)\n",
    "messagematrix=np.matrix(messagearray)\n",
    "svc_mytfidf.predict(messagematrix)"
   ]
  },
  {
   "cell_type": "code",
   "execution_count": null,
   "metadata": {},
   "outputs": [],
   "source": []
  }
 ],
 "metadata": {
  "kernelspec": {
   "display_name": "Python 3",
   "language": "python",
   "name": "python3"
  },
  "language_info": {
   "codemirror_mode": {
    "name": "ipython",
    "version": 3
   },
   "file_extension": ".py",
   "mimetype": "text/x-python",
   "name": "python",
   "nbconvert_exporter": "python",
   "pygments_lexer": "ipython3",
   "version": "3.7.3"
  }
 },
 "nbformat": 4,
 "nbformat_minor": 2
}
