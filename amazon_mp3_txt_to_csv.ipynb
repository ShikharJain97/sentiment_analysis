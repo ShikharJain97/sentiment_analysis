{
 "cells": [
  {
   "cell_type": "code",
   "execution_count": 1,
   "metadata": {},
   "outputs": [],
   "source": [
    "# working on dataset Amazon mp3\n",
    "#"
   ]
  },
  {
   "cell_type": "code",
   "execution_count": 3,
   "metadata": {},
   "outputs": [
    {
     "name": "stderr",
     "output_type": "stream",
     "text": [
      "Using TensorFlow backend.\n"
     ]
    }
   ],
   "source": [
    "from keras.models import Sequential\n",
    "from keras.layers import Dense\n",
    "import numpy as np\n",
    "import pandas as pd\n",
    "# fix random seed for reproducibility\n",
    "np.random.seed(7)"
   ]
  },
  {
   "cell_type": "code",
   "execution_count": 4,
   "metadata": {},
   "outputs": [],
   "source": [
    "import csv\n",
    "import numpy as np\n",
    "import pandas as pd\n",
    "import matplotlib.pyplot as plt\n",
    "from collections import Counter\n",
    "from sklearn import feature_extraction, metrics, svm,model_selection\n",
    "from IPython.display import Image\n",
    "from nltk.corpus import stopwords\n",
    "from nltk.stem.snowball import SnowballStemmer\n",
    "from nltk.stem.porter import PorterStemmer\n",
    "from nltk.tokenize import word_tokenize\n",
    "from nltk.stem import WordNetLemmatizer\n",
    "import math\n",
    "import warnings\n",
    "warnings.filterwarnings(\"ignore\")\n",
    "%matplotlib inline  \n",
    "import nltk"
   ]
  },
  {
   "cell_type": "code",
   "execution_count": 5,
   "metadata": {},
   "outputs": [],
   "source": [
    "#review_data=pd.read_csv(\"/home/dexterslaj/FireTablet1.csv\")\n",
    "#review_data.head(n=3)"
   ]
  },
  {
   "cell_type": "code",
   "execution_count": 80,
   "metadata": {},
   "outputs": [],
   "source": [
    "# first task is to convert Amazonmp3.txt to Amazonmp3.csv\n",
    "file1=open('/home/dexterslaj/amazon_mp3.txt','r')"
   ]
  },
  {
   "cell_type": "code",
   "execution_count": 81,
   "metadata": {},
   "outputs": [
    {
     "data": {
      "text/plain": [
       "20"
      ]
     },
     "execution_count": 81,
     "metadata": {},
     "output_type": "execute_result"
    }
   ],
   "source": [
    "File2=open('Amazon_mp3.csv','w',newline='')\n",
    "writer=csv.writer(File2,quoting=csv.QUOTE_ALL)\n",
    "line=['Reviews','Rating']\n",
    "writer.writerow(line)"
   ]
  },
  {
   "cell_type": "code",
   "execution_count": 82,
   "metadata": {},
   "outputs": [],
   "source": [
    "nlo=0.0\n",
    "nln=0.0\n",
    "stemp2=\"\"\n",
    "stemp3=\"\"\n",
    "for line in file1:   \n",
    "    o=0\n",
    "    cl=0\n",
    "    stemp1=\"\"\n",
    "    for c in line:            \n",
    "        if c=='[' and o==0 and cl==0:\n",
    "            o=1\n",
    "            cl=0\n",
    "        elif c==']' and o==1 and cl==0:\n",
    "            o=0\n",
    "            cl=1         \n",
    "        elif o==1 and cl==0 and c!='[' :\n",
    "            stemp1=stemp1+str(c)               \n",
    "        if stemp1==\"fullText\" and o==0 and cl==1:\n",
    "             stemp2=stemp2+str(c)\n",
    "        if stemp1==\"rating\" and o==0 and cl==1:\n",
    "            stemp3=stemp3+str(c)\n",
    "    #print(stemp1)\n",
    "    if len(stemp2)!=0:\n",
    "        stemp2=stemp2[1:]\n",
    "        nln=nln+0.5\n",
    "    if len(stemp3)!=0:\n",
    "        stemp3=stemp3[2:]\n",
    "        nln=nln+0.5\n",
    "    # now adding review and rating to csv file \n",
    "    if len(stemp2)!=0 and len(stemp3)!=0:\n",
    "        nlo=nln\n",
    "        #print(\"popo\"+stemp2)\n",
    "        #print(\"popo\"+stemp3)\n",
    "        line=[stemp2,stemp3]\n",
    "        writer.writerow(line)\n",
    "        stemp2=\"\"\n",
    "        stemp3=\"\""
   ]
  },
  {
   "cell_type": "code",
   "execution_count": 83,
   "metadata": {},
   "outputs": [],
   "source": [
    "        \n",
    "file1.close()\n",
    "File2.close()"
   ]
  },
  {
   "cell_type": "code",
   "execution_count": 84,
   "metadata": {},
   "outputs": [
    {
     "name": "stdout",
     "output_type": "stream",
     "text": [
      "46500.0\n"
     ]
    }
   ],
   "source": [
    "print(nln)"
   ]
  },
  {
   "cell_type": "code",
   "execution_count": 85,
   "metadata": {},
   "outputs": [],
   "source": [
    "# now there a problem has occured \n",
    "# orginal file amazon_mp3.txt has 55k+ comments but amazon_mp3.csv has only 31K comments and nln value is 46500\n",
    "#so this means that there is a internal buffer problem with anaconda enviroment and the ubuntu os and file system( I THINK)."
   ]
  },
  {
   "cell_type": "code",
   "execution_count": null,
   "metadata": {},
   "outputs": [],
   "source": []
  }
 ],
 "metadata": {
  "kernelspec": {
   "display_name": "Python 3",
   "language": "python",
   "name": "python3"
  },
  "language_info": {
   "codemirror_mode": {
    "name": "ipython",
    "version": 3
   },
   "file_extension": ".py",
   "mimetype": "text/x-python",
   "name": "python",
   "nbconvert_exporter": "python",
   "pygments_lexer": "ipython3",
   "version": "3.7.3"
  }
 },
 "nbformat": 4,
 "nbformat_minor": 2
}
