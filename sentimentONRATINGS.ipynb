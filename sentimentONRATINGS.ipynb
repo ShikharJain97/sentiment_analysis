{
 "cells": [
  {
   "cell_type": "code",
   "execution_count": 18,
   "metadata": {},
   "outputs": [],
   "source": [
    "import numpy as np\n",
    "import pandas as pd\n",
    "import matplotlib.pyplot as plt\n",
    "from collections import Counter\n",
    "from sklearn import feature_extraction, metrics, svm,model_selection\n",
    "from IPython.display import Image\n",
    "from nltk.corpus import stopwords\n",
    "from nltk.stem.snowball import SnowballStemmer\n",
    "from nltk.stem.porter import PorterStemmer\n",
    "from nltk.tokenize import word_tokenize\n",
    "from nltk.stem import WordNetLemmatizer\n",
    "import math\n",
    "import warnings\n",
    "warnings.filterwarnings(\"ignore\")\n",
    "%matplotlib inline  \n"
   ]
  },
  {
   "cell_type": "code",
   "execution_count": 19,
   "metadata": {},
   "outputs": [
    {
     "data": {
      "text/html": [
       "<div>\n",
       "<style scoped>\n",
       "    .dataframe tbody tr th:only-of-type {\n",
       "        vertical-align: middle;\n",
       "    }\n",
       "\n",
       "    .dataframe tbody tr th {\n",
       "        vertical-align: top;\n",
       "    }\n",
       "\n",
       "    .dataframe thead th {\n",
       "        text-align: right;\n",
       "    }\n",
       "</style>\n",
       "<table border=\"1\" class=\"dataframe\">\n",
       "  <thead>\n",
       "    <tr style=\"text-align: right;\">\n",
       "      <th></th>\n",
       "      <th>id</th>\n",
       "      <th>dateAdded</th>\n",
       "      <th>dateUpdated</th>\n",
       "      <th>name</th>\n",
       "      <th>asins</th>\n",
       "      <th>brand</th>\n",
       "      <th>categories</th>\n",
       "      <th>primaryCategories</th>\n",
       "      <th>imageURLs</th>\n",
       "      <th>keys</th>\n",
       "      <th>...</th>\n",
       "      <th>reviews.dateSeen</th>\n",
       "      <th>reviews.doRecommend</th>\n",
       "      <th>reviews.id</th>\n",
       "      <th>reviews.numHelpful</th>\n",
       "      <th>reviews.rating</th>\n",
       "      <th>reviews.sourceURLs</th>\n",
       "      <th>reviews.text</th>\n",
       "      <th>reviews.title</th>\n",
       "      <th>reviews.username</th>\n",
       "      <th>sourceURLs</th>\n",
       "    </tr>\n",
       "  </thead>\n",
       "  <tbody>\n",
       "    <tr>\n",
       "      <th>0</th>\n",
       "      <td>AVqVGZNvQMlgsOJE6eUY</td>\n",
       "      <td>2017-03-03T16:56:05Z</td>\n",
       "      <td>2018-10-25T16:36:31Z</td>\n",
       "      <td>Amazon Kindle E-Reader 6\" Wifi (8th Generation...</td>\n",
       "      <td>B00ZV9PXP2</td>\n",
       "      <td>Amazon</td>\n",
       "      <td>Computers,Electronics Features,Tablets,Electro...</td>\n",
       "      <td>Electronics</td>\n",
       "      <td>https://pisces.bbystatic.com/image2/BestBuy_US...</td>\n",
       "      <td>allnewkindleereaderblack6glarefreetouchscreend...</td>\n",
       "      <td>...</td>\n",
       "      <td>2018-05-27T00:00:00Z,2017-09-18T00:00:00Z,2017...</td>\n",
       "      <td>False</td>\n",
       "      <td>NaN</td>\n",
       "      <td>0</td>\n",
       "      <td>3</td>\n",
       "      <td>http://reviews.bestbuy.com/3545/5442403/review...</td>\n",
       "      <td>I thought it would be as big as small paper bu...</td>\n",
       "      <td>Too small</td>\n",
       "      <td>llyyue</td>\n",
       "      <td>https://www.newegg.com/Product/Product.aspx%25...</td>\n",
       "    </tr>\n",
       "    <tr>\n",
       "      <th>1</th>\n",
       "      <td>AVqVGZNvQMlgsOJE6eUY</td>\n",
       "      <td>2017-03-03T16:56:05Z</td>\n",
       "      <td>2018-10-25T16:36:31Z</td>\n",
       "      <td>Amazon Kindle E-Reader 6\" Wifi (8th Generation...</td>\n",
       "      <td>B00ZV9PXP2</td>\n",
       "      <td>Amazon</td>\n",
       "      <td>Computers,Electronics Features,Tablets,Electro...</td>\n",
       "      <td>Electronics</td>\n",
       "      <td>https://pisces.bbystatic.com/image2/BestBuy_US...</td>\n",
       "      <td>allnewkindleereaderblack6glarefreetouchscreend...</td>\n",
       "      <td>...</td>\n",
       "      <td>2018-05-27T00:00:00Z,2017-07-07T00:00:00Z,2017...</td>\n",
       "      <td>True</td>\n",
       "      <td>NaN</td>\n",
       "      <td>0</td>\n",
       "      <td>5</td>\n",
       "      <td>http://reviews.bestbuy.com/3545/5442403/review...</td>\n",
       "      <td>This kindle is light and easy to use especiall...</td>\n",
       "      <td>Great light reader. Easy to use at the beach</td>\n",
       "      <td>Charmi</td>\n",
       "      <td>https://www.newegg.com/Product/Product.aspx%25...</td>\n",
       "    </tr>\n",
       "  </tbody>\n",
       "</table>\n",
       "<p>2 rows × 24 columns</p>\n",
       "</div>"
      ],
      "text/plain": [
       "                     id             dateAdded           dateUpdated  \\\n",
       "0  AVqVGZNvQMlgsOJE6eUY  2017-03-03T16:56:05Z  2018-10-25T16:36:31Z   \n",
       "1  AVqVGZNvQMlgsOJE6eUY  2017-03-03T16:56:05Z  2018-10-25T16:36:31Z   \n",
       "\n",
       "                                                name       asins   brand  \\\n",
       "0  Amazon Kindle E-Reader 6\" Wifi (8th Generation...  B00ZV9PXP2  Amazon   \n",
       "1  Amazon Kindle E-Reader 6\" Wifi (8th Generation...  B00ZV9PXP2  Amazon   \n",
       "\n",
       "                                          categories primaryCategories  \\\n",
       "0  Computers,Electronics Features,Tablets,Electro...       Electronics   \n",
       "1  Computers,Electronics Features,Tablets,Electro...       Electronics   \n",
       "\n",
       "                                           imageURLs  \\\n",
       "0  https://pisces.bbystatic.com/image2/BestBuy_US...   \n",
       "1  https://pisces.bbystatic.com/image2/BestBuy_US...   \n",
       "\n",
       "                                                keys  \\\n",
       "0  allnewkindleereaderblack6glarefreetouchscreend...   \n",
       "1  allnewkindleereaderblack6glarefreetouchscreend...   \n",
       "\n",
       "                         ...                          \\\n",
       "0                        ...                           \n",
       "1                        ...                           \n",
       "\n",
       "                                    reviews.dateSeen reviews.doRecommend  \\\n",
       "0  2018-05-27T00:00:00Z,2017-09-18T00:00:00Z,2017...               False   \n",
       "1  2018-05-27T00:00:00Z,2017-07-07T00:00:00Z,2017...                True   \n",
       "\n",
       "  reviews.id reviews.numHelpful reviews.rating  \\\n",
       "0        NaN                  0              3   \n",
       "1        NaN                  0              5   \n",
       "\n",
       "                                  reviews.sourceURLs  \\\n",
       "0  http://reviews.bestbuy.com/3545/5442403/review...   \n",
       "1  http://reviews.bestbuy.com/3545/5442403/review...   \n",
       "\n",
       "                                        reviews.text  \\\n",
       "0  I thought it would be as big as small paper bu...   \n",
       "1  This kindle is light and easy to use especiall...   \n",
       "\n",
       "                                  reviews.title  reviews.username  \\\n",
       "0                                     Too small            llyyue   \n",
       "1  Great light reader. Easy to use at the beach            Charmi   \n",
       "\n",
       "                                          sourceURLs  \n",
       "0  https://www.newegg.com/Product/Product.aspx%25...  \n",
       "1  https://www.newegg.com/Product/Product.aspx%25...  \n",
       "\n",
       "[2 rows x 24 columns]"
      ]
     },
     "execution_count": 19,
     "metadata": {},
     "output_type": "execute_result"
    }
   ],
   "source": [
    "review_data = pd.read_csv('AMAZONPRODUCT.csv', encoding='latin-1')\n",
    "review_data.head(n=2)\n",
    "#for x in review_data.itertuples():\n",
    "    #print(x[3])\n"
   ]
  },
  {
   "cell_type": "code",
   "execution_count": 20,
   "metadata": {},
   "outputs": [],
   "source": [
    "#review_data.drop(['id'],axis = 1,inplace=True)\n",
    "review_data.drop(['dateAdded'],axis = 1,inplace=True)\n",
    "review_data.drop(['dateUpdated'],axis = 1,inplace=True)\n",
    "review_data.drop(['name'],axis = 1,inplace=True)\n",
    "review_data.drop(['asins'],axis = 1,inplace=True)\n",
    "review_data.drop(['brand'],axis = 1,inplace=True)\n",
    "review_data.drop(['categories'],axis = 1,inplace=True)\n",
    "review_data.drop(['primaryCategories'],axis = 1,inplace=True)\n",
    "review_data.drop(['imageURLs'],axis = 1,inplace=True)\n",
    "review_data.drop(['keys'],axis = 1,inplace=True)"
   ]
  },
  {
   "cell_type": "code",
   "execution_count": 21,
   "metadata": {},
   "outputs": [
    {
     "data": {
      "text/html": [
       "<div>\n",
       "<style scoped>\n",
       "    .dataframe tbody tr th:only-of-type {\n",
       "        vertical-align: middle;\n",
       "    }\n",
       "\n",
       "    .dataframe tbody tr th {\n",
       "        vertical-align: top;\n",
       "    }\n",
       "\n",
       "    .dataframe thead th {\n",
       "        text-align: right;\n",
       "    }\n",
       "</style>\n",
       "<table border=\"1\" class=\"dataframe\">\n",
       "  <thead>\n",
       "    <tr style=\"text-align: right;\">\n",
       "      <th></th>\n",
       "      <th>id</th>\n",
       "      <th>manufacturer</th>\n",
       "      <th>manufacturerNumber</th>\n",
       "      <th>reviews.date</th>\n",
       "      <th>reviews.dateAdded</th>\n",
       "      <th>reviews.dateSeen</th>\n",
       "      <th>reviews.doRecommend</th>\n",
       "      <th>reviews.id</th>\n",
       "      <th>reviews.numHelpful</th>\n",
       "      <th>reviews.rating</th>\n",
       "      <th>reviews.sourceURLs</th>\n",
       "      <th>reviews.text</th>\n",
       "      <th>reviews.title</th>\n",
       "      <th>reviews.username</th>\n",
       "      <th>sourceURLs</th>\n",
       "    </tr>\n",
       "  </thead>\n",
       "  <tbody>\n",
       "    <tr>\n",
       "      <th>0</th>\n",
       "      <td>AVqVGZNvQMlgsOJE6eUY</td>\n",
       "      <td>Amazon</td>\n",
       "      <td>B00ZV9PXP2</td>\n",
       "      <td>2017-09-03T00:00:00.000Z</td>\n",
       "      <td>NaN</td>\n",
       "      <td>2018-05-27T00:00:00Z,2017-09-18T00:00:00Z,2017...</td>\n",
       "      <td>False</td>\n",
       "      <td>NaN</td>\n",
       "      <td>0</td>\n",
       "      <td>3</td>\n",
       "      <td>http://reviews.bestbuy.com/3545/5442403/review...</td>\n",
       "      <td>I thought it would be as big as small paper bu...</td>\n",
       "      <td>Too small</td>\n",
       "      <td>llyyue</td>\n",
       "      <td>https://www.newegg.com/Product/Product.aspx%25...</td>\n",
       "    </tr>\n",
       "    <tr>\n",
       "      <th>1</th>\n",
       "      <td>AVqVGZNvQMlgsOJE6eUY</td>\n",
       "      <td>Amazon</td>\n",
       "      <td>B00ZV9PXP2</td>\n",
       "      <td>2017-06-06T00:00:00.000Z</td>\n",
       "      <td>NaN</td>\n",
       "      <td>2018-05-27T00:00:00Z,2017-07-07T00:00:00Z,2017...</td>\n",
       "      <td>True</td>\n",
       "      <td>NaN</td>\n",
       "      <td>0</td>\n",
       "      <td>5</td>\n",
       "      <td>http://reviews.bestbuy.com/3545/5442403/review...</td>\n",
       "      <td>This kindle is light and easy to use especiall...</td>\n",
       "      <td>Great light reader. Easy to use at the beach</td>\n",
       "      <td>Charmi</td>\n",
       "      <td>https://www.newegg.com/Product/Product.aspx%25...</td>\n",
       "    </tr>\n",
       "  </tbody>\n",
       "</table>\n",
       "</div>"
      ],
      "text/plain": [
       "                     id manufacturer manufacturerNumber  \\\n",
       "0  AVqVGZNvQMlgsOJE6eUY       Amazon         B00ZV9PXP2   \n",
       "1  AVqVGZNvQMlgsOJE6eUY       Amazon         B00ZV9PXP2   \n",
       "\n",
       "               reviews.date reviews.dateAdded  \\\n",
       "0  2017-09-03T00:00:00.000Z               NaN   \n",
       "1  2017-06-06T00:00:00.000Z               NaN   \n",
       "\n",
       "                                    reviews.dateSeen  reviews.doRecommend  \\\n",
       "0  2018-05-27T00:00:00Z,2017-09-18T00:00:00Z,2017...                False   \n",
       "1  2018-05-27T00:00:00Z,2017-07-07T00:00:00Z,2017...                 True   \n",
       "\n",
       "   reviews.id  reviews.numHelpful  reviews.rating  \\\n",
       "0         NaN                   0               3   \n",
       "1         NaN                   0               5   \n",
       "\n",
       "                                  reviews.sourceURLs  \\\n",
       "0  http://reviews.bestbuy.com/3545/5442403/review...   \n",
       "1  http://reviews.bestbuy.com/3545/5442403/review...   \n",
       "\n",
       "                                        reviews.text  \\\n",
       "0  I thought it would be as big as small paper bu...   \n",
       "1  This kindle is light and easy to use especiall...   \n",
       "\n",
       "                                  reviews.title reviews.username  \\\n",
       "0                                     Too small           llyyue   \n",
       "1  Great light reader. Easy to use at the beach           Charmi   \n",
       "\n",
       "                                          sourceURLs  \n",
       "0  https://www.newegg.com/Product/Product.aspx%25...  \n",
       "1  https://www.newegg.com/Product/Product.aspx%25...  "
      ]
     },
     "execution_count": 21,
     "metadata": {},
     "output_type": "execute_result"
    }
   ],
   "source": [
    "review_data.head(n=2)\n"
   ]
  },
  {
   "cell_type": "code",
   "execution_count": 22,
   "metadata": {},
   "outputs": [],
   "source": [
    "review_data.drop(['manufacturer','manufacturerNumber'],axis = 1,inplace=True)"
   ]
  },
  {
   "cell_type": "code",
   "execution_count": 23,
   "metadata": {},
   "outputs": [],
   "source": [
    "review_data.drop(['reviews.date','reviews.dateAdded','reviews.dateSeen','reviews.id','reviews.numHelpful','reviews.sourceURLs','reviews.sourceURLs','reviews.username'],axis = 1,inplace=True)"
   ]
  },
  {
   "cell_type": "code",
   "execution_count": 24,
   "metadata": {},
   "outputs": [
    {
     "data": {
      "text/html": [
       "<div>\n",
       "<style scoped>\n",
       "    .dataframe tbody tr th:only-of-type {\n",
       "        vertical-align: middle;\n",
       "    }\n",
       "\n",
       "    .dataframe tbody tr th {\n",
       "        vertical-align: top;\n",
       "    }\n",
       "\n",
       "    .dataframe thead th {\n",
       "        text-align: right;\n",
       "    }\n",
       "</style>\n",
       "<table border=\"1\" class=\"dataframe\">\n",
       "  <thead>\n",
       "    <tr style=\"text-align: right;\">\n",
       "      <th></th>\n",
       "      <th>id</th>\n",
       "      <th>reviews.doRecommend</th>\n",
       "      <th>reviews.rating</th>\n",
       "      <th>reviews.text</th>\n",
       "      <th>reviews.title</th>\n",
       "      <th>sourceURLs</th>\n",
       "    </tr>\n",
       "  </thead>\n",
       "  <tbody>\n",
       "    <tr>\n",
       "      <th>0</th>\n",
       "      <td>AVqVGZNvQMlgsOJE6eUY</td>\n",
       "      <td>False</td>\n",
       "      <td>3</td>\n",
       "      <td>I thought it would be as big as small paper bu...</td>\n",
       "      <td>Too small</td>\n",
       "      <td>https://www.newegg.com/Product/Product.aspx%25...</td>\n",
       "    </tr>\n",
       "    <tr>\n",
       "      <th>1</th>\n",
       "      <td>AVqVGZNvQMlgsOJE6eUY</td>\n",
       "      <td>True</td>\n",
       "      <td>5</td>\n",
       "      <td>This kindle is light and easy to use especiall...</td>\n",
       "      <td>Great light reader. Easy to use at the beach</td>\n",
       "      <td>https://www.newegg.com/Product/Product.aspx%25...</td>\n",
       "    </tr>\n",
       "  </tbody>\n",
       "</table>\n",
       "</div>"
      ],
      "text/plain": [
       "                     id  reviews.doRecommend  reviews.rating  \\\n",
       "0  AVqVGZNvQMlgsOJE6eUY                False               3   \n",
       "1  AVqVGZNvQMlgsOJE6eUY                 True               5   \n",
       "\n",
       "                                        reviews.text  \\\n",
       "0  I thought it would be as big as small paper bu...   \n",
       "1  This kindle is light and easy to use especiall...   \n",
       "\n",
       "                                  reviews.title  \\\n",
       "0                                     Too small   \n",
       "1  Great light reader. Easy to use at the beach   \n",
       "\n",
       "                                          sourceURLs  \n",
       "0  https://www.newegg.com/Product/Product.aspx%25...  \n",
       "1  https://www.newegg.com/Product/Product.aspx%25...  "
      ]
     },
     "execution_count": 24,
     "metadata": {},
     "output_type": "execute_result"
    }
   ],
   "source": [
    "review_data.head(n=2)"
   ]
  },
  {
   "cell_type": "code",
   "execution_count": 25,
   "metadata": {},
   "outputs": [],
   "source": [
    "review_data.drop(['id'],axis = 1,inplace=True)"
   ]
  },
  {
   "cell_type": "code",
   "execution_count": 26,
   "metadata": {},
   "outputs": [],
   "source": [
    "review_data.drop(['sourceURLs'],axis = 1,inplace=True)"
   ]
  },
  {
   "cell_type": "code",
   "execution_count": 27,
   "metadata": {},
   "outputs": [
    {
     "data": {
      "text/html": [
       "<div>\n",
       "<style scoped>\n",
       "    .dataframe tbody tr th:only-of-type {\n",
       "        vertical-align: middle;\n",
       "    }\n",
       "\n",
       "    .dataframe tbody tr th {\n",
       "        vertical-align: top;\n",
       "    }\n",
       "\n",
       "    .dataframe thead th {\n",
       "        text-align: right;\n",
       "    }\n",
       "</style>\n",
       "<table border=\"1\" class=\"dataframe\">\n",
       "  <thead>\n",
       "    <tr style=\"text-align: right;\">\n",
       "      <th></th>\n",
       "      <th>reviews.doRecommend</th>\n",
       "      <th>reviews.rating</th>\n",
       "      <th>reviews.text</th>\n",
       "      <th>reviews.title</th>\n",
       "    </tr>\n",
       "  </thead>\n",
       "  <tbody>\n",
       "    <tr>\n",
       "      <th>0</th>\n",
       "      <td>False</td>\n",
       "      <td>3</td>\n",
       "      <td>I thought it would be as big as small paper bu...</td>\n",
       "      <td>Too small</td>\n",
       "    </tr>\n",
       "  </tbody>\n",
       "</table>\n",
       "</div>"
      ],
      "text/plain": [
       "   reviews.doRecommend  reviews.rating  \\\n",
       "0                False               3   \n",
       "\n",
       "                                        reviews.text reviews.title  \n",
       "0  I thought it would be as big as small paper bu...     Too small  "
      ]
     },
     "execution_count": 27,
     "metadata": {},
     "output_type": "execute_result"
    }
   ],
   "source": [
    "review_data.head(n=1)"
   ]
  },
  {
   "cell_type": "code",
   "execution_count": 28,
   "metadata": {},
   "outputs": [],
   "source": [
    "review_data.drop(['reviews.text','reviews.title'],axis = 1,inplace=True)"
   ]
  },
  {
   "cell_type": "code",
   "execution_count": 29,
   "metadata": {},
   "outputs": [
    {
     "data": {
      "text/html": [
       "<div>\n",
       "<style scoped>\n",
       "    .dataframe tbody tr th:only-of-type {\n",
       "        vertical-align: middle;\n",
       "    }\n",
       "\n",
       "    .dataframe tbody tr th {\n",
       "        vertical-align: top;\n",
       "    }\n",
       "\n",
       "    .dataframe thead th {\n",
       "        text-align: right;\n",
       "    }\n",
       "</style>\n",
       "<table border=\"1\" class=\"dataframe\">\n",
       "  <thead>\n",
       "    <tr style=\"text-align: right;\">\n",
       "      <th></th>\n",
       "      <th>reviews.doRecommend</th>\n",
       "      <th>reviews.rating</th>\n",
       "    </tr>\n",
       "  </thead>\n",
       "  <tbody>\n",
       "    <tr>\n",
       "      <th>0</th>\n",
       "      <td>False</td>\n",
       "      <td>3</td>\n",
       "    </tr>\n",
       "  </tbody>\n",
       "</table>\n",
       "</div>"
      ],
      "text/plain": [
       "   reviews.doRecommend  reviews.rating\n",
       "0                False               3"
      ]
     },
     "execution_count": 29,
     "metadata": {},
     "output_type": "execute_result"
    }
   ],
   "source": [
    "review_data.head(n=1)"
   ]
  },
  {
   "cell_type": "code",
   "execution_count": 30,
   "metadata": {},
   "outputs": [
    {
     "data": {
      "image/png": "[encoded data removed]",
      "text/plain": [
       "<Figure size 432x288 with 1 Axes>"
      ]
     },
     "metadata": {},
     "output_type": "display_data"
    },
    {
     "name": "stdout",
     "output_type": "stream",
     "text": [
      "True     4765\n",
      "False     235\n",
      "Name: labels, dtype: int64\n"
     ]
    },
    {
     "data": {
      "image/png": "[encoded data removed]",
      "text/plain": [
       "<Figure size 432x288 with 1 Axes>"
      ]
     },
     "metadata": {},
     "output_type": "display_data"
    }
   ],
   "source": [
    "review_data.rename(columns={'reviews.doRecommend':'labels','reviews.rating':'rating'},inplace=True)\n",
    "#review_data.head(n=2)\n",
    "#print(review_data['labels'])\n",
    "# mapping false t0 0 and true t0 1\n",
    "#review_data['labels']=review_data['labels'].map({'False':0,'True':1})\n",
    "count_Class=pd.value_counts(review_data[\"labels\"], sort= True)\n",
    "count_Class.plot(kind= 'bar', color= [\"blue\", \"orange\"])\n",
    "plt.title('Bar chart')\n",
    "plt.show()\n",
    "print(pd.value_counts(review_data['labels']))\n",
    "\n",
    "count_Class.plot(kind = 'pie',  autopct='%1.2f%%')\n",
    "plt.title('Pie chart')\n",
    "plt.ylabel('')\n",
    "plt.show()\n",
    "\n"
   ]
  },
  {
   "cell_type": "code",
   "execution_count": 31,
   "metadata": {},
   "outputs": [
    {
     "name": "stdout",
     "output_type": "stream",
     "text": [
      "3198\n",
      "152\n",
      "1567\n",
      "83\n",
      "[0 0 0 ... 0 0 0]\n",
      "[0 0 0 ... 0 0 0]\n",
      "<class 'pandas.core.series.Series'>\n",
      "(3350, 1)\n",
      "(3350, 1)\n",
      "(1650, 1)\n",
      "(1650, 1)\n"
     ]
    }
   ],
   "source": [
    "review_data[\"labels\"]=review_data[\"labels\"].map({False:1,True:0})\n",
    "#print(review_data)\n",
    "X_train, X_test, y_train, y_test = model_selection.train_test_split(review_data['rating'], review_data['labels'], test_size=0.33, random_state=42)\n",
    "y=np.array(y_train)\n",
    "y1=np.array(y_test)\n",
    "countn=0\n",
    "countp=0\n",
    "countnT=0\n",
    "countpT=0\n",
    "for i in range(len(y)):\n",
    "    if y[i]==0:\n",
    "        countn+=1\n",
    "    else:\n",
    "        countp+=1\n",
    "for i in range(len(y1)):\n",
    "    if y1[i]==0:\n",
    "        countnT+=1\n",
    "    else:\n",
    "        countpT+=1\n",
    "print(countn)\n",
    "print(countp)\n",
    "print(countnT)\n",
    "print(countpT)\n",
    "print(y)\n",
    "print(y1)\n",
    "\n",
    "print(type(y_train))\n",
    "X_train=np.matrix(X_train)\n",
    "X_train=np.transpose(X_train)\n",
    "print(X_train.shape)\n",
    "y_train=np.matrix(y_train)\n",
    "y_train=np.transpose(y_train)\n",
    "print(y_train.shape)\n",
    "X_test=np.matrix(X_test)\n",
    "X_test=np.transpose(X_test)\n",
    "print(X_test.shape)\n",
    "y_test=np.matrix(y_test)\n",
    "y_test=np.transpose(y_test)\n",
    "print(y_test.shape)\n"
   ]
  },
  {
   "cell_type": "code",
   "execution_count": 80,
   "metadata": {},
   "outputs": [
    {
     "name": "stdout",
     "output_type": "stream",
     "text": [
      "CURRENT KERNEL :-----> linear\n",
      "      C  Test Accuracy  Test Recall  Test Precision\n",
      "0   5.0       0.967273     0.855422        0.628319\n",
      "1  10.0       0.969697     0.445783        0.902439\n",
      "2  15.0       0.967273     0.855422        0.628319\n",
      "3  20.0       0.967273     0.855422        0.628319\n",
      "4  25.0       0.967273     0.855422        0.628319\n",
      "5  30.0       0.969697     0.445783        0.902439\n",
      "6  35.0       0.967273     0.855422        0.628319\n",
      "7  40.0       0.969697     0.445783        0.902439\n",
      "8  45.0       0.967273     0.855422        0.628319\n",
      "9  50.0       0.967273     0.855422        0.628319\n",
      "\n",
      "\n",
      "          Predicted 0  Predicted 1\n",
      "Actual 0         1525           42\n",
      "Actual 1           12           71\n",
      "\n",
      " \n",
      "\n",
      "CURRENT KERNEL :-----> rbf\n",
      "      C  Test Accuracy  Test Recall  Test Precision\n",
      "0   5.0       0.969697     0.445783        0.902439\n",
      "1  10.0       0.969697     0.445783        0.902439\n",
      "2  15.0       0.969697     0.445783        0.902439\n",
      "3  20.0       0.969697     0.445783        0.902439\n",
      "4  25.0       0.969697     0.445783        0.902439\n",
      "5  30.0       0.969697     0.445783        0.902439\n",
      "6  35.0       0.969697     0.445783        0.902439\n",
      "7  40.0       0.969697     0.445783        0.902439\n",
      "8  45.0       0.969697     0.445783        0.902439\n",
      "9  50.0       0.969697     0.445783        0.902439\n",
      "\n",
      "\n",
      "          Predicted 0  Predicted 1\n",
      "Actual 0         1563            4\n",
      "Actual 1           46           37\n",
      "\n",
      " \n",
      "\n",
      "CURRENT KERNEL :-----> sigmoid\n",
      "      C  Test Accuracy  Test Recall  Test Precision\n",
      "0   5.0       0.949697          0.0             0.0\n",
      "1  10.0       0.949697          0.0             0.0\n",
      "2  15.0       0.949697          0.0             0.0\n",
      "3  20.0       0.949697          0.0             0.0\n",
      "4  25.0       0.949697          0.0             0.0\n",
      "5  30.0       0.949697          0.0             0.0\n",
      "6  35.0       0.949697          0.0             0.0\n",
      "7  40.0       0.949697          0.0             0.0\n",
      "8  45.0       0.949697          0.0             0.0\n",
      "9  50.0       0.949697          0.0             0.0\n",
      "\n",
      "\n",
      "          Predicted 0  Predicted 1\n",
      "Actual 0         1567            0\n",
      "Actual 1           83            0\n",
      "\n",
      " \n",
      "\n"
     ]
    }
   ],
   "source": [
    "list_C = np.arange(5, 55, 5 ) \n",
    "score_train = np.zeros(len(list_C))\n",
    "#print(score_train)\n",
    "score_test = np.zeros(len(list_C))\n",
    "recall_train = np.zeros(len(list_C))\n",
    "recall_test = np.zeros(len(list_C))\n",
    "precision_train= np.zeros(len(list_C))\n",
    "precision_test=np.zeros(len(list_C))\n",
    "count = 0\n",
    "for k in ['linear','rbf','sigmoid']:\n",
    "    print(\"CURRENT KERNEL :----->\",k)\n",
    "    count=0\n",
    "    for C in list_C:        \n",
    "        svc = svm.SVC(C=C,kernel=k)\n",
    "        svc.fit(X_train, y_train)\n",
    "        #score_train[count] = svc.score(X_train_cv, y_train_cv)# returns accuracy over training set\n",
    "        # print(\"accuracy for train set at c= \",C,\"is \",score_train[count])\n",
    "        score_test[count]= svc.score(X_test, y_test)# returns accuracy over test set\n",
    "        # print(\" ------------------------******************--------------------------\")\n",
    "        #print(\"accuracy for test set at c= \",C,\"is \",score_test[count])\n",
    "        #recall_train[count]=metrics.recall_score(y_train_cv,svc.predict(X_train_cv))\n",
    "        recall_test[count] = metrics.recall_score(y_test, svc.predict(X_test))\n",
    "        # precision_train[count] = metrics.precision_score(y_train_cv, svc.predict(X_train_cv))\n",
    "        precision_test[count] = metrics.precision_score(y_test, svc.predict(X_test))\n",
    "        count = count + 1 \n",
    "        \n",
    "    matrix = np.matrix(np.c_[list_C, score_test, recall_test, precision_test])\n",
    "    models = pd.DataFrame(data = matrix, columns = \n",
    "             ['C', 'Test Accuracy', 'Test Recall', 'Test Precision'])\n",
    "    models.head(n=10) \n",
    "    print(models)\n",
    "    # confusion maricx--->\n",
    "    m_confusion_test = metrics.confusion_matrix(y_test, svc.predict(X_test))\n",
    "    cm=pd.DataFrame(data = m_confusion_test, columns = ['Predicted 0', 'Predicted 1'],\n",
    "            index = ['Actual 0', 'Actual 1'])\n",
    "    print(\"\\n\")\n",
    "    print(cm)\n",
    "    print(\"\\n \\n\")\n",
    "    \n"
   ]
  },
  {
   "cell_type": "code",
   "execution_count": 73,
   "metadata": {},
   "outputs": [
    {
     "name": "stdout",
     "output_type": "stream",
     "text": [
      " enter a rating\n"
     ]
    },
    {
     "data": {
      "text/plain": [
       "array([0])"
      ]
     },
     "execution_count": 73,
     "metadata": {},
     "output_type": "execute_result"
    }
   ],
   "source": [
    "# some test data\n",
    "# kernel= sigmoid\n",
    "print(\" enter a rating\")\n",
    "r=int(input())\n",
    "\n",
    "svc.predict(r)# sigmoid kernel fails "
   ]
  },
  {
   "cell_type": "code",
   "execution_count": 84,
   "metadata": {},
   "outputs": [
    {
     "data": {
      "text/html": [
       "<div>\n",
       "<style scoped>\n",
       "    .dataframe tbody tr th:only-of-type {\n",
       "        vertical-align: middle;\n",
       "    }\n",
       "\n",
       "    .dataframe tbody tr th {\n",
       "        vertical-align: top;\n",
       "    }\n",
       "\n",
       "    .dataframe thead th {\n",
       "        text-align: right;\n",
       "    }\n",
       "</style>\n",
       "<table border=\"1\" class=\"dataframe\">\n",
       "  <thead>\n",
       "    <tr style=\"text-align: right;\">\n",
       "      <th></th>\n",
       "      <th>Predicted 0</th>\n",
       "      <th>Predicted 1</th>\n",
       "    </tr>\n",
       "  </thead>\n",
       "  <tbody>\n",
       "    <tr>\n",
       "      <th>Actual 0</th>\n",
       "      <td>1563</td>\n",
       "      <td>4</td>\n",
       "    </tr>\n",
       "    <tr>\n",
       "      <th>Actual 1</th>\n",
       "      <td>46</td>\n",
       "      <td>37</td>\n",
       "    </tr>\n",
       "  </tbody>\n",
       "</table>\n",
       "</div>"
      ],
      "text/plain": [
       "          Predicted 0  Predicted 1\n",
       "Actual 0         1563            4\n",
       "Actual 1           46           37"
      ]
     },
     "execution_count": 84,
     "metadata": {},
     "output_type": "execute_result"
    }
   ],
   "source": [
    "count=0\n",
    "#for C in list_C:        \n",
    "svc1 = svm.SVC(kernel='rbf')\n",
    "svc1.fit(X_train, y_train)\n",
    "        #score_train[count] = svc.score(X_train_cv, y_train_cv)# returns accuracy over training set\n",
    "        # print(\"accuracy for train set at c= \",C,\"is \",score_train[count])\n",
    "score_test[count]= svc1.score(X_test, y_test)# returns accuracy over test set\n",
    "        # print(\" ------------------------******************--------------------------\")\n",
    "        #print(\"accuracy for test set at c= \",C,\"is \",score_test[count])\n",
    "        #recall_train[count]=metrics.recall_score(y_train_cv,svc.predict(X_train_cv))\n",
    "recall_test[count] = metrics.recall_score(y_test, svc.predict(X_test))\n",
    "        # precision_train[count] = metrics.precision_score(y_train_cv, svc.predict(X_train_cv))\n",
    "precision_test[count] = metrics.precision_score(y_test, svc1.predict(X_test))\n",
    "count = count + 1 \n",
    "m_confusion_test = metrics.confusion_matrix(y_test, svc1.predict(X_test))\n",
    "pd.DataFrame(data = m_confusion_test, columns = ['Predicted 0', 'Predicted 1'],\n",
    "            index = ['Actual 0', 'Actual 1'])        "
   ]
  },
  {
   "cell_type": "code",
   "execution_count": null,
   "metadata": {},
   "outputs": [],
   "source": []
  },
  {
   "cell_type": "code",
   "execution_count": 82,
   "metadata": {},
   "outputs": [
    {
     "data": {
      "text/plain": [
       "array([0])"
      ]
     },
     "execution_count": 82,
     "metadata": {},
     "output_type": "execute_result"
    }
   ],
   "source": [
    "svc1.predict(3)"
   ]
  },
  {
   "cell_type": "code",
   "execution_count": 83,
   "metadata": {},
   "outputs": [
    {
     "data": {
      "text/plain": [
       "array([0])"
      ]
     },
     "execution_count": 83,
     "metadata": {},
     "output_type": "execute_result"
    }
   ],
   "source": [
    "svc1.predict(4)\n",
    "           "
   ]
  },
  {
   "cell_type": "code",
   "execution_count": 77,
   "metadata": {},
   "outputs": [],
   "source": [
    "k=svc1.predict(1)"
   ]
  },
  {
   "cell_type": "code",
   "execution_count": 53,
   "metadata": {},
   "outputs": [
    {
     "name": "stdout",
     "output_type": "stream",
     "text": [
      "<class 'numpy.ndarray'>\n"
     ]
    }
   ],
   "source": [
    "print(type(k))"
   ]
  },
  {
   "cell_type": "code",
   "execution_count": 78,
   "metadata": {},
   "outputs": [
    {
     "name": "stdout",
     "output_type": "stream",
     "text": [
      "(1,)\n"
     ]
    }
   ],
   "source": [
    "print(k.shape)"
   ]
  },
  {
   "cell_type": "code",
   "execution_count": 55,
   "metadata": {},
   "outputs": [
    {
     "name": "stdout",
     "output_type": "stream",
     "text": [
      "1\n"
     ]
    }
   ],
   "source": [
    "print(k[0])"
   ]
  },
  {
   "cell_type": "code",
   "execution_count": 79,
   "metadata": {},
   "outputs": [
    {
     "name": "stdout",
     "output_type": "stream",
     "text": [
      "input your rating\n",
      "[0]\n",
      "A NEGATIVE REVIEW\n"
     ]
    }
   ],
   "source": [
    "# general interface\n",
    "print(\"input your rating\")\n",
    "r=int(input())\n",
    "k=svc1.predict(r)\n",
    "print(k)\n",
    "if k[0]==0:    \n",
    "    print(\"A NEGATIVE REVIEW\")\n",
    "else:\n",
    "    print(\" A POSITIVE REVIEW\")\n",
    "    "
   ]
  },
  {
   "cell_type": "markdown",
   "metadata": {},
   "source": [
    "## "
   ]
  }
 ],
 "metadata": {
  "kernelspec": {
   "display_name": "Python 3",
   "language": "python",
   "name": "python3"
  },
  "language_info": {
   "codemirror_mode": {
    "name": "ipython",
    "version": 3
   },
   "file_extension": ".py",
   "mimetype": "text/x-python",
   "name": "python",
   "nbconvert_exporter": "python",
   "pygments_lexer": "ipython3",
   "version": "3.6.5"
  }
 },
 "nbformat": 4,
 "nbformat_minor": 2
}
